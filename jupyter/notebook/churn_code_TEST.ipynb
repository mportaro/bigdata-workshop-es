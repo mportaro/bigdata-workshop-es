{
 "cells": [
  {
   "cell_type": "code",
   "execution_count": 1,
   "metadata": {},
   "outputs": [],
   "source": [
    "import findspark"
   ]
  },
  {
   "cell_type": "code",
   "execution_count": 2,
   "metadata": {},
   "outputs": [],
   "source": [
    "findspark.add_jars('/app/postgresql-42.1.4.jar')\n",
    "findspark.init()"
   ]
  },
  {
   "cell_type": "code",
   "execution_count": 3,
   "metadata": {},
   "outputs": [],
   "source": [
    "from pyspark.sql import SparkSession\n",
    "spark = (\n",
    "    SparkSession.builder\n",
    "    .appName(\"Stocks:ETL\")\n",
    "    .config(\"spark.driver.memory\", \"512m\")\n",
    "    .config(\"spark.driver.cores\", \"1\")\n",
    "    .config(\"spark.executor.memory\", \"512m\")\n",
    "    .config(\"spark.executor.cores\", \"1\")\n",
    "    .config(\"spark.sql.shuffle.partitions\", \"2\")\n",
    "    .getOrCreate()\n",
    ")"
   ]
  },
  {
   "cell_type": "code",
   "execution_count": 4,
   "metadata": {},
   "outputs": [],
   "source": [
    "from pathlib import Path\n",
    "import pandas as pd"
   ]
  },
  {
   "cell_type": "code",
   "execution_count": 5,
   "metadata": {},
   "outputs": [],
   "source": [
    "import numpy as np"
   ]
  },
  {
   "cell_type": "code",
   "execution_count": 6,
   "metadata": {},
   "outputs": [],
   "source": [
    "#ds = spark.read.csv('/dataset/BankChurners.csv', header=True)"
   ]
  },
  {
   "cell_type": "code",
   "execution_count": 7,
   "metadata": {},
   "outputs": [],
   "source": [
    "#ds.printSchema()\n",
    "#ds.count()"
   ]
  },
  {
   "cell_type": "code",
   "execution_count": 8,
   "metadata": {},
   "outputs": [
    {
     "ename": "NameError",
     "evalue": "name 'ds' is not defined",
     "output_type": "error",
     "traceback": [
      "\u001b[0;31m---------------------------------------------------------------------------\u001b[0m",
      "\u001b[0;31mNameError\u001b[0m                                 Traceback (most recent call last)",
      "\u001b[0;32m<ipython-input-8-4c15d2e8374e>\u001b[0m in \u001b[0;36m<module>\u001b[0;34m\u001b[0m\n\u001b[0;32m----> 1\u001b[0;31m \u001b[0mds\u001b[0m\u001b[0;34m.\u001b[0m\u001b[0mshow\u001b[0m\u001b[0;34m(\u001b[0m\u001b[0;36m22\u001b[0m\u001b[0;34m)\u001b[0m\u001b[0;34m\u001b[0m\u001b[0;34m\u001b[0m\u001b[0m\n\u001b[0m",
      "\u001b[0;31mNameError\u001b[0m: name 'ds' is not defined"
     ]
    }
   ],
   "source": [
    "ds.show(22)"
   ]
  },
  {
   "cell_type": "code",
   "execution_count": 9,
   "metadata": {},
   "outputs": [
    {
     "ename": "NameError",
     "evalue": "name 'ds' is not defined",
     "output_type": "error",
     "traceback": [
      "\u001b[0;31m---------------------------------------------------------------------------\u001b[0m",
      "\u001b[0;31mNameError\u001b[0m                                 Traceback (most recent call last)",
      "\u001b[0;32m<ipython-input-9-58a8dc01fb90>\u001b[0m in \u001b[0;36m<module>\u001b[0;34m\u001b[0m\n\u001b[0;32m----> 1\u001b[0;31m \u001b[0mds\u001b[0m\u001b[0;34m.\u001b[0m\u001b[0mselect\u001b[0m\u001b[0;34m(\u001b[0m\u001b[0;34m'Attrition_Flag'\u001b[0m\u001b[0;34m)\u001b[0m\u001b[0;34m.\u001b[0m\u001b[0mgroupby\u001b[0m\u001b[0;34m(\u001b[0m\u001b[0;34m'Attrition_Flag'\u001b[0m\u001b[0;34m)\u001b[0m\u001b[0;34m.\u001b[0m\u001b[0mcount\u001b[0m\u001b[0;34m(\u001b[0m\u001b[0;34m)\u001b[0m\u001b[0;34m.\u001b[0m\u001b[0mshow\u001b[0m\u001b[0;34m(\u001b[0m\u001b[0;34m)\u001b[0m\u001b[0;34m\u001b[0m\u001b[0;34m\u001b[0m\u001b[0m\n\u001b[0m",
      "\u001b[0;31mNameError\u001b[0m: name 'ds' is not defined"
     ]
    }
   ],
   "source": [
    "ds.select('Attrition_Flag').groupby('Attrition_Flag').count().show()"
   ]
  },
  {
   "cell_type": "code",
   "execution_count": 10,
   "metadata": {},
   "outputs": [],
   "source": [
    "ds = spark.read.option(\"header\", True).option(\"inferSchema\", True).csv('/dataset/BankChurners.csv')"
   ]
  },
  {
   "cell_type": "code",
   "execution_count": 11,
   "metadata": {},
   "outputs": [
    {
     "name": "stdout",
     "output_type": "stream",
     "text": [
      "root\n",
      " |-- CLIENTNUM: integer (nullable = true)\n",
      " |-- Attrition_Flag: string (nullable = true)\n",
      " |-- Customer_Age: integer (nullable = true)\n",
      " |-- Gender: string (nullable = true)\n",
      " |-- Dependent_count: integer (nullable = true)\n",
      " |-- Education_Level: string (nullable = true)\n",
      " |-- Marital_Status: string (nullable = true)\n",
      " |-- Income_Category: string (nullable = true)\n",
      " |-- Card_Category: string (nullable = true)\n",
      " |-- Months_on_book: integer (nullable = true)\n",
      " |-- Total_Relationship_Count: integer (nullable = true)\n",
      " |-- Months_Inactive_12_mon: integer (nullable = true)\n",
      " |-- Contacts_Count_12_mon: integer (nullable = true)\n",
      " |-- Credit_Limit: double (nullable = true)\n",
      " |-- Total_Revolving_Bal: integer (nullable = true)\n",
      " |-- Avg_Open_To_Buy: double (nullable = true)\n",
      " |-- Total_Amt_Chng_Q4_Q1: double (nullable = true)\n",
      " |-- Total_Trans_Amt: integer (nullable = true)\n",
      " |-- Total_Trans_Ct: integer (nullable = true)\n",
      " |-- Total_Ct_Chng_Q4_Q1: double (nullable = true)\n",
      " |-- Avg_Utilization_Ratio: double (nullable = true)\n",
      " |-- Naive_Bayes_Classifier_Attrition_Flag_Card_Category_Contacts_Count_12_mon_Dependent_count_Education_Level_Months_Inactive_12_mon_1: double (nullable = true)\n",
      " |-- Naive_Bayes_Classifier_Attrition_Flag_Card_Category_Contacts_Count_12_mon_Dependent_count_Education_Level_Months_Inactive_12_mon_2: double (nullable = true)\n",
      "\n"
     ]
    }
   ],
   "source": [
    "ds.printSchema()"
   ]
  },
  {
   "cell_type": "code",
   "execution_count": null,
   "metadata": {},
   "outputs": [],
   "source": []
  },
  {
   "cell_type": "code",
   "execution_count": 12,
   "metadata": {},
   "outputs": [],
   "source": [
    "import pyspark.sql.types as t"
   ]
  },
  {
   "cell_type": "code",
   "execution_count": 13,
   "metadata": {},
   "outputs": [],
   "source": [
    "import pyspark.sql.functions as f"
   ]
  },
  {
   "cell_type": "code",
   "execution_count": null,
   "metadata": {},
   "outputs": [],
   "source": []
  },
  {
   "cell_type": "code",
   "execution_count": 15,
   "metadata": {},
   "outputs": [
    {
     "ename": "IndentationError",
     "evalue": "unindent does not match any outer indentation level (<tokenize>, line 3)",
     "output_type": "error",
     "traceback": [
      "\u001b[0;36m  File \u001b[0;32m\"<tokenize>\"\u001b[0;36m, line \u001b[0;32m3\u001b[0m\n\u001b[0;31m    , t.StructField('Attrition_Flag', t.StringType(), True)\u001b[0m\n\u001b[0m    ^\u001b[0m\n\u001b[0;31mIndentationError\u001b[0m\u001b[0;31m:\u001b[0m unindent does not match any outer indentation level\n"
     ]
    }
   ],
   "source": [
    "#dataset_schema = t.StructType([\n",
    "      t.StructField('CLIENTNUM', t.DoubleType(), True)\n",
    "    , t.StructField('Attrition_Flag', t.StringType(), True)\n",
    "    , t.StructField('Customer_Age', t.IntegerType(), True)\n",
    "    , t.StructField('Gender', t.StringType(), True)\n",
    "    , t.StructField('Dependent_count', t.IntegerType(), True)\n",
    "    , t.StructField('Education_Level', t.StringType(), True)\n",
    "    , t.StructField('Marital_Status', t.StringType(), True)\n",
    "    , t.StructField('Income_Category', t.StringType(), True)\n",
    "    , t.StructField('Card_Category', t.StringType(), True)\n",
    "    , t.StructField('Months_on_book', t.IntegerType(), True)\n",
    "    , t.StructField('Total_Relationship_Count', t.IntegerType(), True)\n",
    "    , t.StructField('Months_Inactive_12_mon', t.IntegerType(), True)\n",
    "    , t.StructField('Contacts_Count_12_mon', t.IntegerType(), True)\n",
    "    , t.StructField('Credit_Limit', t.IntegerType(), True)\n",
    "    , t.StructField('Total_Revolving_Bal', t.IntegerType(), True)\n",
    "    , t.StructField('Avg_Open_To_Buy', t.IntegerType(), True)\n",
    "    , t.StructField('Total_Amt_Chng_Q4_Q1', t.DoubleType(), True)\n",
    "    , t.StructField('Total_Trans_Amt', t.IntegerType(), True)\n",
    "    , t.StructField('Total_Trans_Ct', t.IntegerType(), True)\n",
    "    , t.StructField('Total_Ct_Chng_Q4_Q1', t.DoubleType(), True)\n",
    "    , t.StructField('Avg_Utilization_Ratio', t.DoubleType(), True)\n",
    "    , t.StructField('Naive_Bayes_Classifier_Attrition_Flag_Card_Category_Contacts_Count_12_mon_Dependent_count_Education_Level_Months_Inactive_12_mon_1', t.DoubleType(), True)\n",
    "    , t.StructField('Naive_Bayes_Classifier_Attrition_Flag_Card_Category_Contacts_Count_12_mon_Dependent_count_Education_Level_Months_Inactive_12_mon_2', t.DoubleType(), True)\n",
    "])"
   ]
  },
  {
   "cell_type": "code",
   "execution_count": 16,
   "metadata": {},
   "outputs": [],
   "source": [
    "#ds = spark.read.csv('/dataset/BankChurners.csv', header=True, schema=dataset_schema)\n",
    "#ds.printSchema()"
   ]
  },
  {
   "cell_type": "code",
   "execution_count": 17,
   "metadata": {},
   "outputs": [],
   "source": [
    "ds=ds.drop('CLIENTNUM')"
   ]
  },
  {
   "cell_type": "code",
   "execution_count": 18,
   "metadata": {},
   "outputs": [],
   "source": [
    "ds=ds.drop('Naive_Bayes_Classifier_Attrition_Flag_Card_Category_Contacts_Count_12_mon_Dependent_count_Education_Level_Months_Inactive_12_mon_1')"
   ]
  },
  {
   "cell_type": "code",
   "execution_count": 19,
   "metadata": {},
   "outputs": [],
   "source": [
    "ds=ds.drop('Naive_Bayes_Classifier_Attrition_Flag_Card_Category_Contacts_Count_12_mon_Dependent_count_Education_Level_Months_Inactive_12_mon_2')"
   ]
  },
  {
   "cell_type": "code",
   "execution_count": null,
   "metadata": {},
   "outputs": [],
   "source": []
  },
  {
   "cell_type": "code",
   "execution_count": 20,
   "metadata": {},
   "outputs": [],
   "source": [
    "from pyspark.sql.functions import col,when"
   ]
  },
  {
   "cell_type": "code",
   "execution_count": 21,
   "metadata": {},
   "outputs": [],
   "source": [
    "ds = ds.withColumn(\"Educaton_Level\", when(ds.Education_Level == \"Unknown\",None).otherwise(ds.Education_Level))"
   ]
  },
  {
   "cell_type": "code",
   "execution_count": 22,
   "metadata": {},
   "outputs": [],
   "source": [
    "ds = ds.withColumn(\"Marital_Status\", when(ds.Marital_Status == \"Unknown\",None).otherwise(ds.Marital_Status))"
   ]
  },
  {
   "cell_type": "code",
   "execution_count": 23,
   "metadata": {},
   "outputs": [],
   "source": [
    "ds = ds.withColumn(\"Income_Category\", when(ds.Income_Category == \"Unknown\",None).otherwise(ds.Income_Category))"
   ]
  },
  {
   "cell_type": "code",
   "execution_count": 24,
   "metadata": {},
   "outputs": [],
   "source": [
    "#ds = ds.filter(f.col('Attrition_Flag').isNotNull())"
   ]
  },
  {
   "cell_type": "code",
   "execution_count": null,
   "metadata": {},
   "outputs": [],
   "source": []
  },
  {
   "cell_type": "code",
   "execution_count": 25,
   "metadata": {},
   "outputs": [
    {
     "name": "stdout",
     "output_type": "stream",
     "text": [
      "+-----------------+------------+------+---------------+---------------+--------------+---------------+-------------+--------------+------------------------+----------------------+---------------------+------------+-------------------+---------------+--------------------+---------------+--------------+-------------------+---------------------+--------------+\n",
      "|   Attrition_Flag|Customer_Age|Gender|Dependent_count|Education_Level|Marital_Status|Income_Category|Card_Category|Months_on_book|Total_Relationship_Count|Months_Inactive_12_mon|Contacts_Count_12_mon|Credit_Limit|Total_Revolving_Bal|Avg_Open_To_Buy|Total_Amt_Chng_Q4_Q1|Total_Trans_Amt|Total_Trans_Ct|Total_Ct_Chng_Q4_Q1|Avg_Utilization_Ratio|Educaton_Level|\n",
      "+-----------------+------------+------+---------------+---------------+--------------+---------------+-------------+--------------+------------------------+----------------------+---------------------+------------+-------------------+---------------+--------------------+---------------+--------------+-------------------+---------------------+--------------+\n",
      "|Existing Customer|          45|     M|              3|    High School|       Married|    $60K - $80K|         Blue|            39|                       5|                     1|                    3|     12691.0|                777|        11914.0|               1.335|           1144|            42|              1.625|                0.061|   High School|\n",
      "|Existing Customer|          49|     F|              5|       Graduate|        Single| Less than $40K|         Blue|            44|                       6|                     1|                    2|      8256.0|                864|         7392.0|               1.541|           1291|            33|              3.714|                0.105|      Graduate|\n",
      "|Existing Customer|          51|     M|              3|       Graduate|       Married|   $80K - $120K|         Blue|            36|                       4|                     1|                    0|      3418.0|                  0|         3418.0|               2.594|           1887|            20|              2.333|                  0.0|      Graduate|\n",
      "|Existing Customer|          40|     F|              4|    High School|          null| Less than $40K|         Blue|            34|                       3|                     4|                    1|      3313.0|               2517|          796.0|               1.405|           1171|            20|              2.333|                 0.76|   High School|\n",
      "|Existing Customer|          40|     M|              3|     Uneducated|       Married|    $60K - $80K|         Blue|            21|                       5|                     1|                    0|      4716.0|                  0|         4716.0|               2.175|            816|            28|                2.5|                  0.0|    Uneducated|\n",
      "|Existing Customer|          44|     M|              2|       Graduate|       Married|    $40K - $60K|         Blue|            36|                       3|                     1|                    2|      4010.0|               1247|         2763.0|               1.376|           1088|            24|              0.846|                0.311|      Graduate|\n",
      "|Existing Customer|          51|     M|              4|        Unknown|       Married|        $120K +|         Gold|            46|                       6|                     1|                    3|     34516.0|               2264|        32252.0|               1.975|           1330|            31|              0.722|                0.066|          null|\n",
      "|Existing Customer|          32|     M|              0|    High School|          null|    $60K - $80K|       Silver|            27|                       2|                     2|                    2|     29081.0|               1396|        27685.0|               2.204|           1538|            36|              0.714|                0.048|   High School|\n",
      "|Existing Customer|          37|     M|              3|     Uneducated|        Single|    $60K - $80K|         Blue|            36|                       5|                     2|                    0|     22352.0|               2517|        19835.0|               3.355|           1350|            24|              1.182|                0.113|    Uneducated|\n",
      "|Existing Customer|          48|     M|              2|       Graduate|        Single|   $80K - $120K|         Blue|            36|                       6|                     3|                    3|     11656.0|               1677|         9979.0|               1.524|           1441|            32|              0.882|                0.144|      Graduate|\n",
      "|Existing Customer|          42|     M|              5|     Uneducated|          null|        $120K +|         Blue|            31|                       5|                     3|                    2|      6748.0|               1467|         5281.0|               0.831|           1201|            42|               0.68|                0.217|    Uneducated|\n",
      "|Existing Customer|          65|     M|              1|        Unknown|       Married|    $40K - $60K|         Blue|            54|                       6|                     2|                    3|      9095.0|               1587|         7508.0|               1.433|           1314|            26|              1.364|                0.174|          null|\n",
      "|Existing Customer|          56|     M|              1|        College|        Single|   $80K - $120K|         Blue|            36|                       3|                     6|                    0|     11751.0|                  0|        11751.0|               3.397|           1539|            17|               3.25|                  0.0|       College|\n",
      "|Existing Customer|          35|     M|              3|       Graduate|          null|    $60K - $80K|         Blue|            30|                       5|                     1|                    3|      8547.0|               1666|         6881.0|               1.163|           1311|            33|                2.0|                0.195|      Graduate|\n",
      "|Existing Customer|          57|     F|              2|       Graduate|       Married| Less than $40K|         Blue|            48|                       5|                     2|                    2|      2436.0|                680|         1756.0|                1.19|           1570|            29|              0.611|                0.279|      Graduate|\n",
      "|Existing Customer|          44|     M|              4|        Unknown|          null|   $80K - $120K|         Blue|            37|                       5|                     1|                    2|      4234.0|                972|         3262.0|               1.707|           1348|            27|                1.7|                 0.23|          null|\n",
      "|Existing Customer|          48|     M|              4|  Post-Graduate|        Single|   $80K - $120K|         Blue|            36|                       6|                     2|                    3|     30367.0|               2362|        28005.0|               1.708|           1671|            27|              0.929|                0.078| Post-Graduate|\n",
      "|Existing Customer|          41|     M|              3|        Unknown|       Married|   $80K - $120K|         Blue|            34|                       4|                     4|                    1|     13535.0|               1291|        12244.0|               0.653|           1028|            21|              1.625|                0.095|          null|\n",
      "|Existing Customer|          61|     M|              1|    High School|       Married|    $40K - $60K|         Blue|            56|                       2|                     2|                    3|      3193.0|               2517|          676.0|               1.831|           1336|            30|              1.143|                0.788|   High School|\n",
      "|Existing Customer|          45|     F|              2|       Graduate|       Married|           null|         Blue|            37|                       6|                     1|                    2|     14470.0|               1157|        13313.0|               0.966|           1207|            21|              0.909|                 0.08|      Graduate|\n",
      "|Existing Customer|          47|     M|              1|      Doctorate|      Divorced|    $60K - $80K|         Blue|            42|                       5|                     2|                    0|     20979.0|               1800|        19179.0|               0.906|           1178|            27|              0.929|                0.086|     Doctorate|\n",
      "|Attrited Customer|          62|     F|              0|       Graduate|       Married| Less than $40K|         Blue|            49|                       2|                     3|                    3|      1438.3|                  0|         1438.3|               1.047|            692|            16|                0.6|                  0.0|      Graduate|\n",
      "+-----------------+------------+------+---------------+---------------+--------------+---------------+-------------+--------------+------------------------+----------------------+---------------------+------------+-------------------+---------------+--------------------+---------------+--------------+-------------------+---------------------+--------------+\n",
      "only showing top 22 rows\n",
      "\n"
     ]
    }
   ],
   "source": [
    "ds.show(22)"
   ]
  },
  {
   "cell_type": "code",
   "execution_count": 26,
   "metadata": {},
   "outputs": [],
   "source": [
    "from pyspark.sql.functions import *\n",
    "ds = ds.withColumn('Attrition_Flag', regexp_replace('Attrition_Flag', 'Existing Customer', '0'))\n",
    "ds = ds.withColumn('Attrition_Flag', regexp_replace('Attrition_Flag', 'Attrited Customer', '1'))\n"
   ]
  },
  {
   "cell_type": "code",
   "execution_count": 27,
   "metadata": {},
   "outputs": [],
   "source": [
    "from pyspark.sql.types import DoubleType, IntegerType\n",
    "ds = ds.withColumn('Attrition_Flag', ds['Attrition_Flag'].cast(IntegerType()))"
   ]
  },
  {
   "cell_type": "code",
   "execution_count": 28,
   "metadata": {},
   "outputs": [
    {
     "name": "stdout",
     "output_type": "stream",
     "text": [
      "root\n",
      " |-- Attrition_Flag: integer (nullable = true)\n",
      " |-- Customer_Age: integer (nullable = true)\n",
      " |-- Gender: string (nullable = true)\n",
      " |-- Dependent_count: integer (nullable = true)\n",
      " |-- Education_Level: string (nullable = true)\n",
      " |-- Marital_Status: string (nullable = true)\n",
      " |-- Income_Category: string (nullable = true)\n",
      " |-- Card_Category: string (nullable = true)\n",
      " |-- Months_on_book: integer (nullable = true)\n",
      " |-- Total_Relationship_Count: integer (nullable = true)\n",
      " |-- Months_Inactive_12_mon: integer (nullable = true)\n",
      " |-- Contacts_Count_12_mon: integer (nullable = true)\n",
      " |-- Credit_Limit: double (nullable = true)\n",
      " |-- Total_Revolving_Bal: integer (nullable = true)\n",
      " |-- Avg_Open_To_Buy: double (nullable = true)\n",
      " |-- Total_Amt_Chng_Q4_Q1: double (nullable = true)\n",
      " |-- Total_Trans_Amt: integer (nullable = true)\n",
      " |-- Total_Trans_Ct: integer (nullable = true)\n",
      " |-- Total_Ct_Chng_Q4_Q1: double (nullable = true)\n",
      " |-- Avg_Utilization_Ratio: double (nullable = true)\n",
      " |-- Educaton_Level: string (nullable = true)\n",
      "\n"
     ]
    }
   ],
   "source": [
    "ds.printSchema()"
   ]
  },
  {
   "cell_type": "code",
   "execution_count": 29,
   "metadata": {},
   "outputs": [
    {
     "name": "stdout",
     "output_type": "stream",
     "text": [
      "+--------------+-----+\n",
      "|Attrition_Flag|count|\n",
      "+--------------+-----+\n",
      "|             1| 1627|\n",
      "|             0| 8500|\n",
      "+--------------+-----+\n",
      "\n"
     ]
    }
   ],
   "source": [
    "ds.groupBy('Attrition_Flag').count().orderBy('count').show()"
   ]
  },
  {
   "cell_type": "code",
   "execution_count": null,
   "metadata": {},
   "outputs": [],
   "source": []
  },
  {
   "cell_type": "code",
   "execution_count": 30,
   "metadata": {},
   "outputs": [
    {
     "data": {
      "text/plain": [
       "0.1606596227905599"
      ]
     },
     "execution_count": 30,
     "metadata": {},
     "output_type": "execute_result"
    }
   ],
   "source": [
    "churned = ds.filter(f.col('Attrition_Flag') == 1).count()\n",
    "total = ds.count()\n",
    "churned / total"
   ]
  },
  {
   "cell_type": "code",
   "execution_count": 31,
   "metadata": {},
   "outputs": [],
   "source": [
    "# Cálculo de proporcion de nulos para eliminar las columnas con mas del 50%"
   ]
  },
  {
   "cell_type": "code",
   "execution_count": 32,
   "metadata": {},
   "outputs": [],
   "source": [
    "ds_nulos = ds.select([f.sum(f.col(c).isNull().cast('integer') / ds.count()).alias(c) for c in ds.columns])"
   ]
  },
  {
   "cell_type": "code",
   "execution_count": 33,
   "metadata": {},
   "outputs": [
    {
     "name": "stdout",
     "output_type": "stream",
     "text": [
      "+--------------+------------+------+---------------+---------------+-------------------+-------------------+-------------+--------------+------------------------+----------------------+---------------------+------------+-------------------+---------------+--------------------+---------------+--------------+-------------------+---------------------+------------------+\n",
      "|Attrition_Flag|Customer_Age|Gender|Dependent_count|Education_Level|     Marital_Status|    Income_Category|Card_Category|Months_on_book|Total_Relationship_Count|Months_Inactive_12_mon|Contacts_Count_12_mon|Credit_Limit|Total_Revolving_Bal|Avg_Open_To_Buy|Total_Amt_Chng_Q4_Q1|Total_Trans_Amt|Total_Trans_Ct|Total_Ct_Chng_Q4_Q1|Avg_Utilization_Ratio|    Educaton_Level|\n",
      "+--------------+------------+------+---------------+---------------+-------------------+-------------------+-------------+--------------+------------------------+----------------------+---------------------+------------+-------------------+---------------+--------------------+---------------+--------------+-------------------+---------------------+------------------+\n",
      "|           0.0|         0.0|   0.0|            0.0|            0.0|0.07396069912116164|0.10980547052434148|          0.0|           0.0|                     0.0|                   0.0|                  0.0|         0.0|                0.0|            0.0|                 0.0|            0.0|           0.0|                0.0|                  0.0|0.1499950627036608|\n",
      "+--------------+------------+------+---------------+---------------+-------------------+-------------------+-------------+--------------+------------------------+----------------------+---------------------+------------+-------------------+---------------+--------------------+---------------+--------------+-------------------+---------------------+------------------+\n",
      "\n"
     ]
    }
   ],
   "source": [
    "ds_nulos.show()"
   ]
  },
  {
   "cell_type": "code",
   "execution_count": 34,
   "metadata": {},
   "outputs": [],
   "source": [
    "def _drop_nulos(ds, max_nulo_prop=0.5):\n",
    "    ds_nulos = ds.select([f.sum(f.col(c).isNull().cast('integer') / ds.count()).alias(c) \n",
    "                          for c in ds.columns])\n",
    "    null_cols = [c for c in ds_nulos.columns if ds_nulos.select(c).first()[0] > max_nulo_prop \n",
    "                 and c not in PROTECTED_COLS]\n",
    "    ds = ds.drop(*null_cols)\n",
    "    return ds"
   ]
  },
  {
   "cell_type": "code",
   "execution_count": 35,
   "metadata": {},
   "outputs": [],
   "source": [
    "from pyspark.sql.functions import rand, when\n",
    "ds = ds.withColumn('train', when(rand(seed=3618) > 0.2, True).otherwise(False))"
   ]
  },
  {
   "cell_type": "code",
   "execution_count": 36,
   "metadata": {},
   "outputs": [
    {
     "name": "stdout",
     "output_type": "stream",
     "text": [
      "+-----+-----+\n",
      "|train|count|\n",
      "+-----+-----+\n",
      "| true| 8157|\n",
      "|false| 1970|\n",
      "+-----+-----+\n",
      "\n"
     ]
    }
   ],
   "source": [
    "ds.select('train').groupby('train').count().show()"
   ]
  },
  {
   "cell_type": "code",
   "execution_count": 37,
   "metadata": {},
   "outputs": [
    {
     "name": "stdout",
     "output_type": "stream",
     "text": [
      "root\n",
      " |-- Attrition_Flag: integer (nullable = true)\n",
      " |-- Customer_Age: integer (nullable = true)\n",
      " |-- Gender: string (nullable = true)\n",
      " |-- Dependent_count: integer (nullable = true)\n",
      " |-- Education_Level: string (nullable = true)\n",
      " |-- Marital_Status: string (nullable = true)\n",
      " |-- Income_Category: string (nullable = true)\n",
      " |-- Card_Category: string (nullable = true)\n",
      " |-- Months_on_book: integer (nullable = true)\n",
      " |-- Total_Relationship_Count: integer (nullable = true)\n",
      " |-- Months_Inactive_12_mon: integer (nullable = true)\n",
      " |-- Contacts_Count_12_mon: integer (nullable = true)\n",
      " |-- Credit_Limit: double (nullable = true)\n",
      " |-- Total_Revolving_Bal: integer (nullable = true)\n",
      " |-- Avg_Open_To_Buy: double (nullable = true)\n",
      " |-- Total_Amt_Chng_Q4_Q1: double (nullable = true)\n",
      " |-- Total_Trans_Amt: integer (nullable = true)\n",
      " |-- Total_Trans_Ct: integer (nullable = true)\n",
      " |-- Total_Ct_Chng_Q4_Q1: double (nullable = true)\n",
      " |-- Avg_Utilization_Ratio: double (nullable = true)\n",
      " |-- Educaton_Level: string (nullable = true)\n",
      " |-- train: boolean (nullable = false)\n",
      "\n"
     ]
    }
   ],
   "source": [
    "ds.printSchema()"
   ]
  },
  {
   "cell_type": "code",
   "execution_count": 38,
   "metadata": {},
   "outputs": [],
   "source": [
    "PROTECTED_COLS = ['Attrition_Flag', 'train']\n",
    "ds = _drop_nulos(ds)"
   ]
  },
  {
   "cell_type": "code",
   "execution_count": 39,
   "metadata": {},
   "outputs": [
    {
     "data": {
      "text/plain": [
       "[('Attrition_Flag', 'int'),\n",
       " ('Customer_Age', 'int'),\n",
       " ('Gender', 'string'),\n",
       " ('Dependent_count', 'int'),\n",
       " ('Education_Level', 'string'),\n",
       " ('Marital_Status', 'string'),\n",
       " ('Income_Category', 'string'),\n",
       " ('Card_Category', 'string'),\n",
       " ('Months_on_book', 'int'),\n",
       " ('Total_Relationship_Count', 'int'),\n",
       " ('Months_Inactive_12_mon', 'int'),\n",
       " ('Contacts_Count_12_mon', 'int'),\n",
       " ('Credit_Limit', 'double'),\n",
       " ('Total_Revolving_Bal', 'int'),\n",
       " ('Avg_Open_To_Buy', 'double'),\n",
       " ('Total_Amt_Chng_Q4_Q1', 'double'),\n",
       " ('Total_Trans_Amt', 'int'),\n",
       " ('Total_Trans_Ct', 'int'),\n",
       " ('Total_Ct_Chng_Q4_Q1', 'double'),\n",
       " ('Avg_Utilization_Ratio', 'double'),\n",
       " ('Educaton_Level', 'string'),\n",
       " ('train', 'boolean')]"
      ]
     },
     "execution_count": 39,
     "metadata": {},
     "output_type": "execute_result"
    }
   ],
   "source": [
    "ds.dtypes"
   ]
  },
  {
   "cell_type": "code",
   "execution_count": 40,
   "metadata": {},
   "outputs": [
    {
     "data": {
      "text/plain": [
       "pyspark.sql.dataframe.DataFrame"
      ]
     },
     "execution_count": 40,
     "metadata": {},
     "output_type": "execute_result"
    }
   ],
   "source": [
    "type(ds)"
   ]
  },
  {
   "cell_type": "code",
   "execution_count": 41,
   "metadata": {},
   "outputs": [],
   "source": [
    "def _drop_std(ds, min_std_dev=1.5e-2):\n",
    "    num_cols = [c for c,dtype in ds.dtypes if dtype.startswith(('int', 'double'))]\n",
    "    ds_std = ds.select([f.stddev(f.col(c)).alias(c) for c in num_cols])\n",
    "    low_variance_cols = [c for c in ds_std.columns if ds_std.select(c).first()[0] < min_std_dev \n",
    "                         and c not in PROTECTED_COLS]\n",
    "    ds.drop(*low_variance_cols)\n",
    "    return ds"
   ]
  },
  {
   "cell_type": "code",
   "execution_count": 42,
   "metadata": {},
   "outputs": [],
   "source": [
    "ds = _drop_std(ds)"
   ]
  },
  {
   "cell_type": "code",
   "execution_count": null,
   "metadata": {},
   "outputs": [],
   "source": []
  },
  {
   "cell_type": "code",
   "execution_count": 43,
   "metadata": {},
   "outputs": [],
   "source": [
    "def _get_typed_cols(ds, col_type='cat'):\n",
    "    assert col_type in ('cat', 'num')\n",
    "    dtypes = ('int', 'double') if col_type == 'num' else ('string')\n",
    "    typed_cols = [c for c,dtype in ds.dtypes if dtype.startswith(dtypes) \n",
    "                  and c not in PROTECTED_COLS]\n",
    "    return typed_cols"
   ]
  },
  {
   "cell_type": "code",
   "execution_count": 44,
   "metadata": {},
   "outputs": [
    {
     "data": {
      "text/plain": [
       "(['Customer_Age',\n",
       "  'Dependent_count',\n",
       "  'Months_on_book',\n",
       "  'Total_Relationship_Count',\n",
       "  'Months_Inactive_12_mon',\n",
       "  'Contacts_Count_12_mon',\n",
       "  'Credit_Limit',\n",
       "  'Total_Revolving_Bal',\n",
       "  'Avg_Open_To_Buy',\n",
       "  'Total_Amt_Chng_Q4_Q1',\n",
       "  'Total_Trans_Amt',\n",
       "  'Total_Trans_Ct',\n",
       "  'Total_Ct_Chng_Q4_Q1',\n",
       "  'Avg_Utilization_Ratio'],\n",
       " ['Gender',\n",
       "  'Education_Level',\n",
       "  'Marital_Status',\n",
       "  'Income_Category',\n",
       "  'Card_Category',\n",
       "  'Educaton_Level'])"
      ]
     },
     "execution_count": 44,
     "metadata": {},
     "output_type": "execute_result"
    }
   ],
   "source": [
    "num_cols = _get_typed_cols(ds, col_type='num')\n",
    "cat_cols = _get_typed_cols(ds, col_type='cat')\n",
    "num_cols, cat_cols"
   ]
  },
  {
   "cell_type": "code",
   "execution_count": 45,
   "metadata": {},
   "outputs": [
    {
     "name": "stdout",
     "output_type": "stream",
     "text": [
      "+---------------+-----+\n",
      "|Education_Level|count|\n",
      "+---------------+-----+\n",
      "|       Graduate| 3128|\n",
      "|    High School| 2013|\n",
      "|        Unknown| 1519|\n",
      "|     Uneducated| 1487|\n",
      "|        College| 1013|\n",
      "|  Post-Graduate|  516|\n",
      "|      Doctorate|  451|\n",
      "+---------------+-----+\n",
      "\n"
     ]
    }
   ],
   "source": [
    "val_counts = ds.filter(f.col('Education_Level').isNotNull()).select('Education_Level').groupBy('Education_Level').count().orderBy(f.desc('count'))\n",
    "val_counts.show()"
   ]
  },
  {
   "cell_type": "code",
   "execution_count": 46,
   "metadata": {},
   "outputs": [
    {
     "data": {
      "text/plain": [
       "'Graduate'"
      ]
     },
     "execution_count": 46,
     "metadata": {},
     "output_type": "execute_result"
    }
   ],
   "source": [
    "val_counts.select('Education_Level').first()[0]"
   ]
  },
  {
   "cell_type": "code",
   "execution_count": 47,
   "metadata": {},
   "outputs": [],
   "source": [
    "def _fill_nulls(ds):\n",
    "    for t in ['num', 'cat']:\n",
    "        cols = _get_typed_cols(ds, col_type=t)\n",
    "        for c in cols:\n",
    "            if t == 'num':\n",
    "                median_val = ds.approxQuantile(c, [0.5], 0)[0]\n",
    "                ds = ds.fillna(median_val, subset=[c])\n",
    "            else:\n",
    "                val_counts = ds.filter(f.col(c).isNotNull()).select(c).groupBy(c).count().orderBy(f.desc('count'))\n",
    "                common_val = val_counts.select(c).first()[0]\n",
    "                ds = ds.fillna(common_val, subset=[c])\n",
    "    return ds"
   ]
  },
  {
   "cell_type": "code",
   "execution_count": 48,
   "metadata": {},
   "outputs": [
    {
     "name": "stdout",
     "output_type": "stream",
     "text": [
      "+---------------+-----+\n",
      "|Education_Level|count|\n",
      "+---------------+-----+\n",
      "|        Unknown| 1519|\n",
      "|     Uneducated| 1487|\n",
      "|  Post-Graduate|  516|\n",
      "|    High School| 2013|\n",
      "|       Graduate| 3128|\n",
      "|      Doctorate|  451|\n",
      "|        College| 1013|\n",
      "+---------------+-----+\n",
      "\n"
     ]
    }
   ],
   "source": [
    "ds.select('Education_Level').groupBy('Education_Level').count().orderBy(f.desc('Education_Level')).show()"
   ]
  },
  {
   "cell_type": "code",
   "execution_count": 49,
   "metadata": {},
   "outputs": [],
   "source": [
    "ds = _fill_nulls(ds)"
   ]
  },
  {
   "cell_type": "code",
   "execution_count": null,
   "metadata": {},
   "outputs": [],
   "source": []
  },
  {
   "cell_type": "code",
   "execution_count": 50,
   "metadata": {},
   "outputs": [],
   "source": [
    "import seaborn as sns"
   ]
  },
  {
   "cell_type": "code",
   "execution_count": null,
   "metadata": {},
   "outputs": [],
   "source": []
  },
  {
   "cell_type": "code",
   "execution_count": 51,
   "metadata": {},
   "outputs": [],
   "source": [
    "Months_on_book_mean = ds.select(f.mean(f.col('Months_on_book'))).first()[0]"
   ]
  },
  {
   "cell_type": "code",
   "execution_count": 52,
   "metadata": {},
   "outputs": [
    {
     "data": {
      "text/plain": [
       "35.928409203120374"
      ]
     },
     "execution_count": 52,
     "metadata": {},
     "output_type": "execute_result"
    }
   ],
   "source": [
    "Months_on_book_mean"
   ]
  },
  {
   "cell_type": "code",
   "execution_count": 53,
   "metadata": {},
   "outputs": [
    {
     "data": {
      "image/png": "[encoded data removed]",
      "text/plain": [
       "<Figure size 432x288 with 1 Axes>"
      ]
     },
     "metadata": {
      "needs_background": "light"
     },
     "output_type": "display_data"
    }
   ],
   "source": [
    "g = sns.distplot(ds.select('Avg_Utilization_Ratio').toPandas(), color='m')"
   ]
  },
  {
   "cell_type": "code",
   "execution_count": 57,
   "metadata": {
    "scrolled": false
   },
   "outputs": [
    {
     "name": "stderr",
     "output_type": "stream",
     "text": [
      "No handles with labels found to put in legend.\n"
     ]
    },
    {
     "data": {
      "image/png": "[encoded data removed]",
      "text/plain": [
       "<Figure size 1008x576 with 14 Axes>"
      ]
     },
     "metadata": {
      "needs_background": "light"
     },
     "output_type": "display_data"
    }
   ],
   "source": [
    "import matplotlib.pyplot as plt\n",
    "plt.figure(figsize = (14,8))\n",
    "nrow = 3\n",
    "ncol = 5\n",
    "i = 1\n",
    "for c in num_cols:\n",
    "    plt.subplot(nrow, ncol, i)\n",
    "    plt.grid()\n",
    "    plt.title(c) \n",
    "    sns.distplot(ds.select(c).toPandas(), color='m')\n",
    "    i += 1\n",
    "plt.tight_layout()\n",
    "plt.legend(loc=4, bbox_to_anchor=(2.0, 0.5), prop={'size': 18})\n",
    "plt.show()"
   ]
  },
  {
   "cell_type": "code",
   "execution_count": null,
   "metadata": {},
   "outputs": [],
   "source": []
  },
  {
   "cell_type": "code",
   "execution_count": 55,
   "metadata": {},
   "outputs": [],
   "source": [
    "@f.udf('double')\n",
    "def np_log(x):\n",
    "    if x is None:\n",
    "        return 0\n",
    "    return float(np.log(x + 1)) "
   ]
  },
  {
   "cell_type": "code",
   "execution_count": 56,
   "metadata": {},
   "outputs": [],
   "source": [
    "ds = ds.withColumn('log_Credit_Limit', np_log(ds.Credit_Limit))\n",
    "ds = ds.drop('Credit_Limit')"
   ]
  },
  {
   "cell_type": "code",
   "execution_count": 57,
   "metadata": {},
   "outputs": [],
   "source": [
    "ds = ds.withColumn('log_Avg_Open_To_Buy', np_log(ds.Avg_Open_To_Buy))\n",
    "ds = ds.drop('Avg_Open_To_Buy')"
   ]
  },
  {
   "cell_type": "code",
   "execution_count": 58,
   "metadata": {},
   "outputs": [],
   "source": [
    "ds = ds.withColumn('log_Total_Trans_Amt', np_log(ds.Total_Trans_Amt))\n",
    "ds = ds.drop('Total_Trans_Amt')"
   ]
  },
  {
   "cell_type": "code",
   "execution_count": 59,
   "metadata": {},
   "outputs": [],
   "source": [
    "ds = ds.withColumn('log_Total_Ct_Chng_Q4_Q1', np_log(ds.Total_Ct_Chng_Q4_Q1))\n",
    "ds = ds.drop('Total_Ct_Chng_Q4_Q1')"
   ]
  },
  {
   "cell_type": "code",
   "execution_count": 60,
   "metadata": {},
   "outputs": [],
   "source": [
    "ds = ds.withColumn('log_Avg_Utilization_Ratio', np_log(ds.Avg_Utilization_Ratio))\n",
    "ds = ds.drop('Avg_Utilization_Ratio')"
   ]
  },
  {
   "cell_type": "code",
   "execution_count": 61,
   "metadata": {},
   "outputs": [
    {
     "data": {
      "text/plain": [
       "[('Attrition_Flag', 'int'),\n",
       " ('Customer_Age', 'int'),\n",
       " ('Gender', 'string'),\n",
       " ('Dependent_count', 'int'),\n",
       " ('Education_Level', 'string'),\n",
       " ('Marital_Status', 'string'),\n",
       " ('Income_Category', 'string'),\n",
       " ('Card_Category', 'string'),\n",
       " ('Months_on_book', 'int'),\n",
       " ('Total_Relationship_Count', 'int'),\n",
       " ('Months_Inactive_12_mon', 'int'),\n",
       " ('Contacts_Count_12_mon', 'int'),\n",
       " ('Total_Revolving_Bal', 'int'),\n",
       " ('Total_Amt_Chng_Q4_Q1', 'double'),\n",
       " ('Total_Trans_Ct', 'int'),\n",
       " ('Educaton_Level', 'string'),\n",
       " ('train', 'boolean'),\n",
       " ('log_Credit_Limit', 'double'),\n",
       " ('log_Avg_Open_To_Buy', 'double'),\n",
       " ('log_Total_Trans_Amt', 'double'),\n",
       " ('log_Total_Ct_Chng_Q4_Q1', 'double'),\n",
       " ('log_Avg_Utilization_Ratio', 'double')]"
      ]
     },
     "execution_count": 61,
     "metadata": {},
     "output_type": "execute_result"
    }
   ],
   "source": [
    "ds.dtypes"
   ]
  },
  {
   "cell_type": "code",
   "execution_count": 62,
   "metadata": {},
   "outputs": [
    {
     "data": {
      "image/png": "[encoded data removed]",
      "text/plain": [
       "<Figure size 432x288 with 1 Axes>"
      ]
     },
     "metadata": {
      "needs_background": "light"
     },
     "output_type": "display_data"
    }
   ],
   "source": [
    "g = sns.distplot(ds.select('log_Credit_Limit').toPandas(), color='m')"
   ]
  },
  {
   "cell_type": "code",
   "execution_count": 63,
   "metadata": {},
   "outputs": [],
   "source": [
    "# Salvándolo a Postgres"
   ]
  },
  {
   "cell_type": "code",
   "execution_count": 64,
   "metadata": {},
   "outputs": [],
   "source": [
    "ds \\\n",
    "    .write \\\n",
    "    .format(\"jdbc\") \\\n",
    "    .option(\"url\", \"jdbc:postgresql://postgres/workshop\") \\\n",
    "    .option(\"dbtable\", \"workshop.churn\") \\\n",
    "    .option(\"user\", \"workshop\") \\\n",
    "    .option(\"password\", \"w0rkzh0p\") \\\n",
    "    .option(\"driver\", \"org.postgresql.Driver\") \\\n",
    "    .mode('overwrite') \\\n",
    "    .save()"
   ]
  },
  {
   "cell_type": "code",
   "execution_count": null,
   "metadata": {},
   "outputs": [],
   "source": []
  },
  {
   "cell_type": "code",
   "execution_count": 65,
   "metadata": {},
   "outputs": [
    {
     "data": {
      "text/plain": [
       "(['Attrition_Flag',\n",
       "  'Customer_Age',\n",
       "  'Gender',\n",
       "  'Dependent_count',\n",
       "  'Education_Level',\n",
       "  'Marital_Status',\n",
       "  'Income_Category',\n",
       "  'Card_Category',\n",
       "  'Months_on_book',\n",
       "  'Total_Relationship_Count',\n",
       "  'Months_Inactive_12_mon',\n",
       "  'Contacts_Count_12_mon',\n",
       "  'Total_Revolving_Bal',\n",
       "  'Total_Amt_Chng_Q4_Q1',\n",
       "  'Total_Trans_Ct',\n",
       "  'Educaton_Level',\n",
       "  'train',\n",
       "  'log_Credit_Limit',\n",
       "  'log_Avg_Open_To_Buy',\n",
       "  'log_Total_Trans_Amt',\n",
       "  'log_Total_Ct_Chng_Q4_Q1',\n",
       "  'log_Avg_Utilization_Ratio'],\n",
       " ['Gender',\n",
       "  'Education_Level',\n",
       "  'Marital_Status',\n",
       "  'Income_Category',\n",
       "  'Card_Category',\n",
       "  'Educaton_Level'],\n",
       " ['Customer_Age',\n",
       "  'Dependent_count',\n",
       "  'Months_on_book',\n",
       "  'Total_Relationship_Count',\n",
       "  'Months_Inactive_12_mon',\n",
       "  'Contacts_Count_12_mon',\n",
       "  'Total_Revolving_Bal',\n",
       "  'Total_Amt_Chng_Q4_Q1',\n",
       "  'Total_Trans_Ct',\n",
       "  'log_Credit_Limit',\n",
       "  'log_Avg_Open_To_Buy',\n",
       "  'log_Total_Trans_Amt',\n",
       "  'log_Total_Ct_Chng_Q4_Q1',\n",
       "  'log_Avg_Utilization_Ratio'])"
      ]
     },
     "execution_count": 65,
     "metadata": {},
     "output_type": "execute_result"
    }
   ],
   "source": [
    "num_cols = _get_typed_cols(ds, col_type='num')\n",
    "cat_cols = _get_typed_cols(ds, col_type='cat')\n",
    "ds.columns, cat_cols, num_cols"
   ]
  },
  {
   "cell_type": "code",
   "execution_count": 66,
   "metadata": {},
   "outputs": [],
   "source": [
    "from pyspark.ml.feature import StringIndexer\n",
    "\n",
    "def _encode_categorical(ds):\n",
    "    cat_cols = _get_typed_cols(ds, col_type='cat')\n",
    "    encoded_cols = []\n",
    "    for cat in cat_cols:\n",
    "        cat_suff = f'{cat}_num'\n",
    "        encoded_cols.append(cat_suff)\n",
    "        if cat_suff not in ds.columns:\n",
    "            indexer = StringIndexer(inputCol=cat, outputCol=cat_suff).fit(ds)\n",
    "            ds = indexer.transform(ds)\n",
    "    return ds, encoded_cols"
   ]
  },
  {
   "cell_type": "code",
   "execution_count": 67,
   "metadata": {},
   "outputs": [],
   "source": [
    "ds, encoded_cols = _encode_categorical(ds)"
   ]
  },
  {
   "cell_type": "code",
   "execution_count": 68,
   "metadata": {},
   "outputs": [
    {
     "data": {
      "text/plain": [
       "[('Attrition_Flag', 'int'),\n",
       " ('Customer_Age', 'int'),\n",
       " ('Gender', 'string'),\n",
       " ('Dependent_count', 'int'),\n",
       " ('Education_Level', 'string'),\n",
       " ('Marital_Status', 'string'),\n",
       " ('Income_Category', 'string'),\n",
       " ('Card_Category', 'string'),\n",
       " ('Months_on_book', 'int'),\n",
       " ('Total_Relationship_Count', 'int'),\n",
       " ('Months_Inactive_12_mon', 'int'),\n",
       " ('Contacts_Count_12_mon', 'int'),\n",
       " ('Total_Revolving_Bal', 'int'),\n",
       " ('Total_Amt_Chng_Q4_Q1', 'double'),\n",
       " ('Total_Trans_Ct', 'int'),\n",
       " ('Educaton_Level', 'string'),\n",
       " ('train', 'boolean'),\n",
       " ('log_Credit_Limit', 'double'),\n",
       " ('log_Avg_Open_To_Buy', 'double'),\n",
       " ('log_Total_Trans_Amt', 'double'),\n",
       " ('log_Total_Ct_Chng_Q4_Q1', 'double'),\n",
       " ('log_Avg_Utilization_Ratio', 'double'),\n",
       " ('Gender_num', 'double'),\n",
       " ('Education_Level_num', 'double'),\n",
       " ('Marital_Status_num', 'double'),\n",
       " ('Income_Category_num', 'double'),\n",
       " ('Card_Category_num', 'double'),\n",
       " ('Educaton_Level_num', 'double')]"
      ]
     },
     "execution_count": 68,
     "metadata": {},
     "output_type": "execute_result"
    }
   ],
   "source": [
    "ds.dtypes"
   ]
  },
  {
   "cell_type": "code",
   "execution_count": 69,
   "metadata": {},
   "outputs": [
    {
     "data": {
      "text/plain": [
       "['Customer_Age',\n",
       " 'Dependent_count',\n",
       " 'Months_on_book',\n",
       " 'Total_Relationship_Count',\n",
       " 'Months_Inactive_12_mon',\n",
       " 'Contacts_Count_12_mon',\n",
       " 'Total_Revolving_Bal',\n",
       " 'Total_Amt_Chng_Q4_Q1',\n",
       " 'Total_Trans_Ct',\n",
       " 'log_Credit_Limit',\n",
       " 'log_Avg_Open_To_Buy',\n",
       " 'log_Total_Trans_Amt',\n",
       " 'log_Total_Ct_Chng_Q4_Q1',\n",
       " 'log_Avg_Utilization_Ratio',\n",
       " 'Gender_num',\n",
       " 'Education_Level_num',\n",
       " 'Marital_Status_num',\n",
       " 'Income_Category_num',\n",
       " 'Card_Category_num',\n",
       " 'Educaton_Level_num']"
      ]
     },
     "execution_count": 69,
     "metadata": {},
     "output_type": "execute_result"
    }
   ],
   "source": [
    "feature_cols = num_cols + encoded_cols\n",
    "feature_cols"
   ]
  },
  {
   "cell_type": "code",
   "execution_count": 70,
   "metadata": {},
   "outputs": [
    {
     "name": "stdout",
     "output_type": "stream",
     "text": [
      "+--------------+------------+------+---------------+---------------+--------------+---------------+-------------+--------------+------------------------+----------------------+---------------------+-------------------+--------------------+--------------+--------------+-----+------------------+-------------------+-------------------+-----------------------+-------------------------+----------+-------------------+------------------+-------------------+-----------------+------------------+-----------------------+-----------------------+----------------------+---------------------+----------------------+--------------+\n",
      "|Attrition_Flag|Customer_Age|Gender|Dependent_count|Education_Level|Marital_Status|Income_Category|Card_Category|Months_on_book|Total_Relationship_Count|Months_Inactive_12_mon|Contacts_Count_12_mon|Total_Revolving_Bal|Total_Amt_Chng_Q4_Q1|Total_Trans_Ct|Educaton_Level|train|  log_Credit_Limit|log_Avg_Open_To_Buy|log_Total_Trans_Amt|log_Total_Ct_Chng_Q4_Q1|log_Avg_Utilization_Ratio|Gender_num|Education_Level_num|Marital_Status_num|Income_Category_num|Card_Category_num|Educaton_Level_num|Income_Category_num_vec|Education_Level_num_vec|Marital_Status_num_vec|Card_Category_num_vec|Educaton_Level_num_vec|Gender_num_vec|\n",
      "+--------------+------------+------+---------------+---------------+--------------+---------------+-------------+--------------+------------------------+----------------------+---------------------+-------------------+--------------------+--------------+--------------+-----+------------------+-------------------+-------------------+-----------------------+-------------------------+----------+-------------------+------------------+-------------------+-----------------+------------------+-----------------------+-----------------------+----------------------+---------------------+----------------------+--------------+\n",
      "|             0|          45|     M|              3|    High School|       Married|    $60K - $80K|         Blue|            39|                       5|                     1|                    3|                777|               1.335|            42|   High School| true| 9.448727152703086|  9.385553389532843| 7.0431599159883405|      0.965080896043587|      0.05921185963184603|       1.0|                1.0|               0.0|                3.0|              0.0|               1.0|          (4,[3],[1.0])|          (6,[1],[1.0])|         (2,[0],[1.0])|        (3,[0],[1.0])|         (5,[1],[1.0])|     (1,[],[])|\n",
      "|             0|          49|     F|              5|       Graduate|        Single| Less than $40K|         Blue|            44|                       6|                     1|                    2|                864|               1.541|            33|      Graduate| true|  9.01881660441743|    8.9082888855571|  7.163946684342547|     1.5505368045139394|      0.09984533496971612|       0.0|                0.0|               1.0|                0.0|              0.0|               0.0|          (4,[0],[1.0])|          (6,[0],[1.0])|         (2,[1],[1.0])|        (3,[0],[1.0])|         (5,[0],[1.0])| (1,[0],[1.0])|\n",
      "|             0|          51|     M|              3|       Graduate|       Married|   $80K - $120K|         Blue|            36|                       4|                     1|                    0|                  0|               2.594|            20|      Graduate| true| 8.137103389639302|  8.137103389639302|  7.543273346705446|     1.2038727993256026|                      0.0|       1.0|                0.0|               0.0|                2.0|              0.0|               0.0|          (4,[2],[1.0])|          (6,[0],[1.0])|         (2,[0],[1.0])|        (3,[0],[1.0])|         (5,[0],[1.0])|     (1,[],[])|\n",
      "|             0|          40|     F|              4|    High School|       Married| Less than $40K|         Blue|            34|                       3|                     4|                    1|               2517|               1.405|            20|   High School| true| 8.105911197986508|  6.680854678790215|  7.066466970136958|     1.2038727993256026|       0.5653138090500605|       0.0|                1.0|               0.0|                0.0|              0.0|               1.0|          (4,[0],[1.0])|          (6,[1],[1.0])|         (2,[0],[1.0])|        (3,[0],[1.0])|         (5,[1],[1.0])| (1,[0],[1.0])|\n",
      "|             0|          40|     M|              3|     Uneducated|       Married|    $60K - $80K|         Blue|            21|                       5|                     1|                    0|                  0|               2.175|            28|    Uneducated| true| 8.458928283284262|  8.458928283284262|  6.705639094860003|      1.252762968495368|                      0.0|       1.0|                3.0|               0.0|                3.0|              0.0|               2.0|          (4,[3],[1.0])|          (6,[3],[1.0])|         (2,[0],[1.0])|        (3,[0],[1.0])|         (5,[2],[1.0])|     (1,[],[])|\n",
      "|             0|          44|     M|              2|       Graduate|       Married|    $40K - $60K|         Blue|            36|                       3|                     1|                    2|               1247|               1.376|            24|      Graduate| true| 8.296795865770052|   7.92443418488756| 6.9930151229329605|     0.6130211360806604|      0.27079020478156274|       1.0|                0.0|               0.0|                1.0|              0.0|               0.0|          (4,[1],[1.0])|          (6,[0],[1.0])|         (2,[0],[1.0])|        (3,[0],[1.0])|         (5,[0],[1.0])|     (1,[],[])|\n",
      "|             0|          51|     M|              4|        Unknown|       Married|        $120K +|         Gold|            46|                       6|                     1|                    3|               2264|               1.975|            31|      Graduate| true| 10.44920723527944| 10.381366341153338|  7.193685818395112|      0.543486406005539|      0.06391332574365285|       1.0|                2.0|               0.0|                4.0|              2.0|               0.0|              (4,[],[])|          (6,[2],[1.0])|         (2,[0],[1.0])|        (3,[2],[1.0])|         (5,[0],[1.0])|     (1,[],[])|\n",
      "|             0|          32|     M|              0|    High School|       Married|    $60K - $80K|       Silver|            27|                       2|                     2|                    2|               1396|               2.204|            36|   High School| true|10.277874705073431|  10.22868214924768|  7.338888133838879|      0.538829820175588|      0.04688358589885046|       1.0|                1.0|               0.0|                3.0|              1.0|               1.0|          (4,[3],[1.0])|          (6,[1],[1.0])|         (2,[0],[1.0])|        (3,[1],[1.0])|         (5,[1],[1.0])|     (1,[],[])|\n",
      "|             0|          37|     M|              3|     Uneducated|        Single|    $60K - $80K|         Blue|            36|                       5|                     2|                    0|               2517|               3.355|            24|    Uneducated| true|10.014715819221838|  9.895253747609024|  7.208600337960199|     0.7802418874108791|      0.10705907229340778|       1.0|                3.0|               1.0|                3.0|              0.0|               2.0|          (4,[3],[1.0])|          (6,[3],[1.0])|         (2,[1],[1.0])|        (3,[0],[1.0])|         (5,[2],[1.0])|     (1,[],[])|\n",
      "|             0|          48|     M|              2|       Graduate|        Single|   $80K - $120K|         Blue|            36|                       6|                     3|                    3|               1677|               1.524|            32|      Graduate| true| 9.363662136919832|   9.20833836930551|  7.273786317844895|      0.632335041163188|      0.13453089295760606|       1.0|                0.0|               1.0|                2.0|              0.0|               0.0|          (4,[2],[1.0])|          (6,[0],[1.0])|         (2,[1],[1.0])|        (3,[0],[1.0])|         (5,[0],[1.0])|     (1,[],[])|\n",
      "|             0|          42|     M|              5|     Uneducated|       Married|        $120K +|         Blue|            31|                       5|                     3|                    2|               1467|               0.831|            42|    Uneducated| true| 8.817149624743406|  8.572060092857077|  7.091742115095153|     0.5187937934151676|      0.19638881400539018|       1.0|                3.0|               0.0|                4.0|              0.0|               2.0|              (4,[],[])|          (6,[3],[1.0])|         (2,[0],[1.0])|        (3,[0],[1.0])|         (5,[2],[1.0])|     (1,[],[])|\n",
      "|             0|          65|     M|              1|        Unknown|       Married|    $40K - $60K|         Blue|            54|                       6|                     2|                    3|               1587|               1.433|            26|      Graduate| true| 9.115590035430372|  8.923857580099885|  7.181591944611865|     0.8603550995438517|      0.16041672140590466|       1.0|                2.0|               0.0|                1.0|              0.0|               0.0|          (4,[1],[1.0])|          (6,[2],[1.0])|         (2,[0],[1.0])|        (3,[0],[1.0])|         (5,[0],[1.0])|     (1,[],[])|\n",
      "|             0|          56|     M|              1|        College|        Single|   $80K - $120K|         Blue|            36|                       3|                     6|                    0|                  0|               3.397|            17|       College| true| 9.371778717853713|  9.371778717853713| 7.3395376954076745|     1.4469189829363254|                      0.0|       1.0|                4.0|               1.0|                2.0|              0.0|               3.0|          (4,[2],[1.0])|          (6,[4],[1.0])|         (2,[1],[1.0])|        (3,[0],[1.0])|         (5,[3],[1.0])|     (1,[],[])|\n",
      "|             0|          35|     M|              3|       Graduate|       Married|    $60K - $80K|         Blue|            30|                       5|                     1|                    3|               1666|               1.163|            33|      Graduate| true| 9.053452616439039|  8.836664586357426|  7.179307969504034|     1.0986122886681098|      0.17814618538347404|       1.0|                0.0|               0.0|                3.0|              0.0|               0.0|          (4,[3],[1.0])|          (6,[0],[1.0])|         (2,[0],[1.0])|        (3,[0],[1.0])|         (5,[0],[1.0])|     (1,[],[])|\n",
      "|             0|          57|     F|              2|       Graduate|       Married| Less than $40K|         Blue|            48|                       5|                     2|                    2|                680|                1.19|            29|      Graduate| true| 7.798523053625206|  7.471363088187097|  7.359467638255621|    0.47685510419483734|      0.24607852259670557|       0.0|                0.0|               0.0|                0.0|              0.0|               0.0|          (4,[0],[1.0])|          (6,[0],[1.0])|         (2,[0],[1.0])|        (3,[0],[1.0])|         (5,[0],[1.0])| (1,[0],[1.0])|\n",
      "|             0|          44|     M|              4|        Unknown|       Married|   $80K - $120K|         Blue|            37|                       5|                     1|                    2|                972|               1.707|            27|      Graduate| true| 8.351138607086154|   8.09040229659332|  7.207118856207756|     0.9932517730102834|      0.20701416938432612|       1.0|                2.0|               0.0|                2.0|              0.0|               0.0|          (4,[2],[1.0])|          (6,[2],[1.0])|         (2,[0],[1.0])|        (3,[0],[1.0])|         (5,[0],[1.0])|     (1,[],[])|\n",
      "|             0|          48|     M|              4|  Post-Graduate|        Single|   $80K - $120K|         Blue|            36|                       6|                     2|                    3|               2362|               1.708|            27| Post-Graduate| true|10.321144701409654| 10.240174051915723|  7.421775793644647|     0.6570017339235921|      0.07510747248680548|       1.0|                5.0|               1.0|                2.0|              0.0|               4.0|          (4,[2],[1.0])|          (6,[5],[1.0])|         (2,[1],[1.0])|        (3,[0],[1.0])|         (5,[4],[1.0])|     (1,[],[])|\n",
      "|             0|          41|     M|              3|        Unknown|       Married|   $80K - $120K|         Blue|            34|                       4|                     4|                    1|               1291|               0.653|            21|      Graduate|false| 9.513108081846005|  9.412872969386267| 6.9363427358340495|      0.965080896043587|      0.09075436326846412|       1.0|                2.0|               0.0|                2.0|              0.0|               0.0|          (4,[2],[1.0])|          (6,[2],[1.0])|         (2,[0],[1.0])|        (3,[0],[1.0])|         (5,[0],[1.0])|     (1,[],[])|\n",
      "|             0|          61|     M|              1|    High School|       Married|    $40K - $60K|         Blue|            56|                       2|                     2|                    3|               2517|               1.831|            30|   High School| true| 8.069029328774958|  6.517671272912275|  7.198183577101943|     0.7622067164914399|       0.5810976767513224|       1.0|                1.0|               0.0|                1.0|              0.0|               1.0|          (4,[1],[1.0])|          (6,[1],[1.0])|         (2,[0],[1.0])|        (3,[0],[1.0])|         (5,[1],[1.0])|     (1,[],[])|\n",
      "|             0|          45|     F|              2|       Graduate|       Married| Less than $40K|         Blue|            37|                       6|                     1|                    2|               1157|               0.966|            21|      Graduate|false| 9.579901925737992|  9.496571392160648| 7.0967213784947605|     0.6465795447436106|       0.0769610411361284|       0.0|                0.0|               0.0|                0.0|              0.0|               0.0|          (4,[0],[1.0])|          (6,[0],[1.0])|         (2,[0],[1.0])|        (3,[0],[1.0])|         (5,[0],[1.0])| (1,[0],[1.0])|\n",
      "+--------------+------------+------+---------------+---------------+--------------+---------------+-------------+--------------+------------------------+----------------------+---------------------+-------------------+--------------------+--------------+--------------+-----+------------------+-------------------+-------------------+-----------------------+-------------------------+----------+-------------------+------------------+-------------------+-----------------+------------------+-----------------------+-----------------------+----------------------+---------------------+----------------------+--------------+\n",
      "only showing top 20 rows\n",
      "\n"
     ]
    }
   ],
   "source": [
    "from pyspark.ml.feature import OneHotEncoderEstimator\n",
    "\n",
    "ohe_cols = [f'{c}_vec' for c in encoded_cols]\n",
    "encoder = OneHotEncoderEstimator(inputCols=encoded_cols, outputCols=ohe_cols)\n",
    "ohem = encoder.fit(ds)\n",
    "ds = ohem.transform(ds)\n",
    "ds.show()\n",
    "feature_cols = num_cols + ohe_cols"
   ]
  },
  {
   "cell_type": "code",
   "execution_count": 71,
   "metadata": {},
   "outputs": [
    {
     "data": {
      "text/plain": [
       "['Gender_num_vec',\n",
       " 'Education_Level_num_vec',\n",
       " 'Marital_Status_num_vec',\n",
       " 'Income_Category_num_vec',\n",
       " 'Card_Category_num_vec',\n",
       " 'Educaton_Level_num_vec']"
      ]
     },
     "execution_count": 71,
     "metadata": {},
     "output_type": "execute_result"
    }
   ],
   "source": [
    "ohe_cols"
   ]
  },
  {
   "cell_type": "code",
   "execution_count": 72,
   "metadata": {},
   "outputs": [
    {
     "data": {
      "text/plain": [
       "['Customer_Age',\n",
       " 'Dependent_count',\n",
       " 'Months_on_book',\n",
       " 'Total_Relationship_Count',\n",
       " 'Months_Inactive_12_mon',\n",
       " 'Contacts_Count_12_mon',\n",
       " 'Total_Revolving_Bal',\n",
       " 'Total_Amt_Chng_Q4_Q1',\n",
       " 'Total_Trans_Ct',\n",
       " 'log_Credit_Limit',\n",
       " 'log_Avg_Open_To_Buy',\n",
       " 'log_Total_Trans_Amt',\n",
       " 'log_Total_Ct_Chng_Q4_Q1',\n",
       " 'log_Avg_Utilization_Ratio']"
      ]
     },
     "execution_count": 72,
     "metadata": {},
     "output_type": "execute_result"
    }
   ],
   "source": [
    "num_cols"
   ]
  },
  {
   "cell_type": "code",
   "execution_count": 73,
   "metadata": {},
   "outputs": [
    {
     "name": "stdout",
     "output_type": "stream",
     "text": [
      "root\n",
      " |-- Attrition_Flag: integer (nullable = true)\n",
      " |-- Customer_Age: integer (nullable = true)\n",
      " |-- Gender: string (nullable = false)\n",
      " |-- Dependent_count: integer (nullable = true)\n",
      " |-- Education_Level: string (nullable = false)\n",
      " |-- Marital_Status: string (nullable = false)\n",
      " |-- Income_Category: string (nullable = false)\n",
      " |-- Card_Category: string (nullable = false)\n",
      " |-- Months_on_book: integer (nullable = true)\n",
      " |-- Total_Relationship_Count: integer (nullable = true)\n",
      " |-- Months_Inactive_12_mon: integer (nullable = true)\n",
      " |-- Contacts_Count_12_mon: integer (nullable = true)\n",
      " |-- Total_Revolving_Bal: integer (nullable = true)\n",
      " |-- Total_Amt_Chng_Q4_Q1: double (nullable = false)\n",
      " |-- Total_Trans_Ct: integer (nullable = true)\n",
      " |-- Educaton_Level: string (nullable = false)\n",
      " |-- train: boolean (nullable = false)\n",
      " |-- log_Credit_Limit: double (nullable = true)\n",
      " |-- log_Avg_Open_To_Buy: double (nullable = true)\n",
      " |-- log_Total_Trans_Amt: double (nullable = true)\n",
      " |-- log_Total_Ct_Chng_Q4_Q1: double (nullable = true)\n",
      " |-- log_Avg_Utilization_Ratio: double (nullable = true)\n",
      " |-- Gender_num: double (nullable = false)\n",
      " |-- Education_Level_num: double (nullable = false)\n",
      " |-- Marital_Status_num: double (nullable = false)\n",
      " |-- Income_Category_num: double (nullable = false)\n",
      " |-- Card_Category_num: double (nullable = false)\n",
      " |-- Educaton_Level_num: double (nullable = false)\n",
      " |-- Income_Category_num_vec: vector (nullable = true)\n",
      " |-- Education_Level_num_vec: vector (nullable = true)\n",
      " |-- Marital_Status_num_vec: vector (nullable = true)\n",
      " |-- Card_Category_num_vec: vector (nullable = true)\n",
      " |-- Educaton_Level_num_vec: vector (nullable = true)\n",
      " |-- Gender_num_vec: vector (nullable = true)\n",
      "\n"
     ]
    }
   ],
   "source": [
    "ds.printSchema()"
   ]
  },
  {
   "cell_type": "code",
   "execution_count": 74,
   "metadata": {},
   "outputs": [
    {
     "name": "stdout",
     "output_type": "stream",
     "text": [
      "+--------------------+\n",
      "|            features|\n",
      "+--------------------+\n",
      "|(35,[0,1,2,3,4,5,...|\n",
      "|(35,[0,1,2,3,4,5,...|\n",
      "|(35,[0,1,2,3,4,7,...|\n",
      "|(35,[0,1,2,3,4,5,...|\n",
      "|(35,[0,1,2,3,4,7,...|\n",
      "|(35,[0,1,2,3,4,5,...|\n",
      "|(35,[0,1,2,3,4,5,...|\n",
      "|(35,[0,2,3,4,5,6,...|\n",
      "|(35,[0,1,2,3,4,6,...|\n",
      "|(35,[0,1,2,3,4,5,...|\n",
      "|(35,[0,1,2,3,4,5,...|\n",
      "|(35,[0,1,2,3,4,5,...|\n",
      "|(35,[0,1,2,3,4,7,...|\n",
      "|(35,[0,1,2,3,4,5,...|\n",
      "|(35,[0,1,2,3,4,5,...|\n",
      "|(35,[0,1,2,3,4,5,...|\n",
      "|(35,[0,1,2,3,4,5,...|\n",
      "|(35,[0,1,2,3,4,5,...|\n",
      "|(35,[0,1,2,3,4,5,...|\n",
      "|(35,[0,1,2,3,4,5,...|\n",
      "+--------------------+\n",
      "only showing top 20 rows\n",
      "\n"
     ]
    }
   ],
   "source": [
    "from pyspark.ml.feature import VectorAssembler\n",
    "\n",
    "assembler = VectorAssembler(inputCols=feature_cols, outputCol='features')\n",
    "ds = assembler.transform(ds)\n",
    "ds.select('features').show()"
   ]
  },
  {
   "cell_type": "code",
   "execution_count": 75,
   "metadata": {},
   "outputs": [
    {
     "data": {
      "text/plain": [
       "[Row(train=True), Row(train=True)]"
      ]
     },
     "execution_count": 75,
     "metadata": {},
     "output_type": "execute_result"
    }
   ],
   "source": [
    "ds.select('train').take(2)"
   ]
  },
  {
   "cell_type": "code",
   "execution_count": 76,
   "metadata": {},
   "outputs": [
    {
     "name": "stdout",
     "output_type": "stream",
     "text": [
      "+--------------+--------------------+\n",
      "|Attrition_Flag|            features|\n",
      "+--------------+--------------------+\n",
      "|             0|(35,[0,1,2,3,4,5,...|\n",
      "|             0|(35,[0,1,2,3,4,5,...|\n",
      "|             0|(35,[0,1,2,3,4,7,...|\n",
      "|             0|(35,[0,1,2,3,4,5,...|\n",
      "|             0|(35,[0,1,2,3,4,7,...|\n",
      "|             0|(35,[0,1,2,3,4,5,...|\n",
      "|             0|(35,[0,1,2,3,4,5,...|\n",
      "|             0|(35,[0,2,3,4,5,6,...|\n",
      "|             0|(35,[0,1,2,3,4,6,...|\n",
      "|             0|(35,[0,1,2,3,4,5,...|\n",
      "|             0|(35,[0,1,2,3,4,5,...|\n",
      "|             0|(35,[0,1,2,3,4,5,...|\n",
      "|             0|(35,[0,1,2,3,4,7,...|\n",
      "|             0|(35,[0,1,2,3,4,5,...|\n",
      "|             0|(35,[0,1,2,3,4,5,...|\n",
      "|             0|(35,[0,1,2,3,4,5,...|\n",
      "|             0|(35,[0,1,2,3,4,5,...|\n",
      "|             0|(35,[0,1,2,3,4,5,...|\n",
      "|             0|(35,[0,1,2,3,4,6,...|\n",
      "|             1|(35,[0,2,3,4,5,7,...|\n",
      "|             0|(35,[0,1,2,3,4,5,...|\n",
      "|             0|(35,[0,1,2,3,4,5,...|\n",
      "|             0|(35,[0,1,2,3,4,5,...|\n",
      "|             0|(35,[0,1,2,3,4,5,...|\n",
      "|             0|(35,[0,1,2,3,4,5,...|\n",
      "|             0|(35,[0,1,2,3,4,5,...|\n",
      "|             0|(35,[0,1,2,3,4,5,...|\n",
      "|             0|(35,[0,1,2,3,4,5,...|\n",
      "|             0|(35,[0,1,2,3,4,5,...|\n",
      "|             0|(35,[0,1,2,3,4,5,...|\n",
      "|             0|(35,[0,2,3,4,5,6,...|\n",
      "|             0|(35,[0,1,2,3,4,5,...|\n",
      "|             0|(35,[0,1,2,3,4,5,...|\n",
      "|             0|(35,[0,1,2,3,4,5,...|\n",
      "|             0|(35,[0,1,2,3,4,5,...|\n",
      "|             1|(35,[0,2,3,4,5,6,...|\n",
      "|             0|(35,[0,1,2,3,4,5,...|\n",
      "|             0|(35,[0,1,2,3,4,6,...|\n",
      "|             0|(35,[0,1,2,3,4,5,...|\n",
      "|             0|(35,[0,1,2,3,4,5,...|\n",
      "|             0|(35,[0,1,2,3,4,5,...|\n",
      "|             0|(35,[0,1,2,3,4,5,...|\n",
      "|             0|(35,[0,1,2,3,4,5,...|\n",
      "|             0|(35,[0,1,2,3,4,5,...|\n",
      "|             0|(35,[0,1,2,3,4,5,...|\n",
      "|             0|(35,[0,1,2,3,4,5,...|\n",
      "|             1|(35,[0,1,2,3,4,5,...|\n",
      "|             0|(35,[0,1,2,3,4,6,...|\n",
      "|             1|(35,[0,1,2,3,4,5,...|\n",
      "|             0|(35,[0,1,2,3,4,5,...|\n",
      "|             0|(35,[0,1,2,3,4,6,...|\n",
      "|             0|(35,[0,1,2,3,4,5,...|\n",
      "|             0|(35,[0,1,2,3,4,5,...|\n",
      "|             0|(35,[0,1,2,3,4,5,...|\n",
      "|             1|(35,[0,1,2,3,4,5,...|\n",
      "|             0|(35,[0,1,2,3,4,5,...|\n",
      "|             0|(35,[0,1,2,3,4,5,...|\n",
      "|             0|(35,[0,1,2,3,4,5,...|\n",
      "|             0|(35,[0,1,2,3,4,5,...|\n",
      "|             0|(35,[0,1,2,3,4,5,...|\n",
      "|             0|(35,[0,1,2,3,4,5,...|\n",
      "|             0|(35,[0,1,2,3,4,5,...|\n",
      "|             0|(35,[0,1,2,3,4,5,...|\n",
      "|             0|(35,[0,1,2,3,4,5,...|\n",
      "|             0|(35,[0,1,2,3,4,5,...|\n",
      "|             0|(35,[0,1,2,3,4,5,...|\n",
      "|             0|(35,[0,1,2,3,4,5,...|\n",
      "|             0|(35,[0,1,2,3,4,5,...|\n",
      "|             0|(35,[0,1,2,3,4,5,...|\n",
      "|             0|(35,[0,1,2,3,4,5,...|\n",
      "|             0|(35,[0,1,2,3,4,5,...|\n",
      "|             0|(35,[0,1,2,3,4,5,...|\n",
      "|             0|(35,[0,1,2,3,4,6,...|\n",
      "|             0|(35,[0,1,2,3,4,5,...|\n",
      "|             0|(35,[0,1,2,3,4,5,...|\n",
      "|             0|(35,[0,1,2,3,4,5,...|\n",
      "|             0|(35,[0,1,2,3,4,6,...|\n",
      "|             0|(35,[0,1,2,3,4,5,...|\n",
      "|             0|(35,[0,1,2,3,4,5,...|\n",
      "|             0|(35,[0,1,2,3,4,5,...|\n",
      "|             0|(35,[0,1,2,3,4,5,...|\n",
      "|             0|(35,[0,1,2,3,4,5,...|\n",
      "|             0|(35,[0,1,2,3,4,6,...|\n",
      "|             0|(35,[0,1,2,3,4,5,...|\n",
      "|             0|(35,[0,2,3,4,5,6,...|\n",
      "|             0|(35,[0,1,2,3,4,5,...|\n",
      "|             0|(35,[0,1,2,3,4,5,...|\n",
      "|             1|(35,[0,1,2,3,4,5,...|\n",
      "|             0|(35,[0,1,2,3,4,6,...|\n",
      "|             0|(35,[0,1,2,3,4,5,...|\n",
      "|             0|(35,[0,1,2,3,4,5,...|\n",
      "|             0|(35,[0,1,2,3,4,5,...|\n",
      "|             0|(35,[0,1,2,3,4,7,...|\n",
      "|             0|(35,[0,1,2,3,4,5,...|\n",
      "|             0|(35,[0,1,2,3,4,5,...|\n",
      "|             0|(35,[0,1,2,3,4,5,...|\n",
      "|             0|(35,[0,1,2,3,7,8,...|\n",
      "|             0|(35,[0,1,2,3,4,5,...|\n",
      "|             0|(35,[0,1,2,3,4,6,...|\n",
      "|             0|(35,[0,1,2,3,4,5,...|\n",
      "+--------------+--------------------+\n",
      "only showing top 100 rows\n",
      "\n"
     ]
    }
   ],
   "source": [
    "train_data = ds.filter(f.col('train') == True).select('Attrition_Flag', 'features')\n",
    "test_data = ds.filter(f.col('train') == False).select('Attrition_Flag', 'features')\n",
    "train_data.show(100)"
   ]
  },
  {
   "cell_type": "code",
   "execution_count": 77,
   "metadata": {},
   "outputs": [
    {
     "data": {
      "text/plain": [
       "[('Attrition_Flag', 'int'), ('features', 'vector')]"
      ]
     },
     "execution_count": 77,
     "metadata": {},
     "output_type": "execute_result"
    }
   ],
   "source": [
    "train_data.dtypes"
   ]
  },
  {
   "cell_type": "code",
   "execution_count": 78,
   "metadata": {},
   "outputs": [
    {
     "data": {
      "text/plain": [
       "pyspark.sql.dataframe.DataFrame"
      ]
     },
     "execution_count": 78,
     "metadata": {},
     "output_type": "execute_result"
    }
   ],
   "source": [
    "type(train_data)"
   ]
  },
  {
   "cell_type": "code",
   "execution_count": 79,
   "metadata": {},
   "outputs": [
    {
     "name": "stdout",
     "output_type": "stream",
     "text": [
      "+------------------------------------------+\n",
      "|sum(CAST((Attrition_Flag IS NULL) AS INT))|\n",
      "+------------------------------------------+\n",
      "|                                         0|\n",
      "+------------------------------------------+\n",
      "\n"
     ]
    }
   ],
   "source": [
    "train_data.select(f.sum(f.col('Attrition_Flag').isNull().cast('integer'))).show()"
   ]
  },
  {
   "cell_type": "code",
   "execution_count": 80,
   "metadata": {},
   "outputs": [
    {
     "name": "stdout",
     "output_type": "stream",
     "text": [
      "+--------------+-----+\n",
      "|Attrition_Flag|count|\n",
      "+--------------+-----+\n",
      "|             0| 6818|\n",
      "|             1| 1339|\n",
      "+--------------+-----+\n",
      "\n"
     ]
    }
   ],
   "source": [
    "train_data.select('Attrition_Flag').groupBy('Attrition_Flag').count().orderBy(f.desc('count')).show()"
   ]
  },
  {
   "cell_type": "code",
   "execution_count": 81,
   "metadata": {},
   "outputs": [
    {
     "name": "stdout",
     "output_type": "stream",
     "text": [
      "+--------------+-----+\n",
      "|Attrition_Flag|count|\n",
      "+--------------+-----+\n",
      "|             0| 1682|\n",
      "|             1|  288|\n",
      "+--------------+-----+\n",
      "\n"
     ]
    }
   ],
   "source": [
    "test_data.select('Attrition_Flag').groupBy('Attrition_Flag').count().orderBy(f.desc('count')).show()"
   ]
  },
  {
   "cell_type": "code",
   "execution_count": 82,
   "metadata": {},
   "outputs": [
    {
     "name": "stdout",
     "output_type": "stream",
     "text": [
      "+-----+-----+\n",
      "|train|count|\n",
      "+-----+-----+\n",
      "| true| 8157|\n",
      "|false| 1970|\n",
      "+-----+-----+\n",
      "\n"
     ]
    }
   ],
   "source": [
    "ds.select('train').groupBy('train').count().orderBy(f.desc('count')).show()"
   ]
  },
  {
   "cell_type": "code",
   "execution_count": 83,
   "metadata": {},
   "outputs": [
    {
     "name": "stdout",
     "output_type": "stream",
     "text": [
      "+--------------+-----+\n",
      "|Attrition_Flag|count|\n",
      "+--------------+-----+\n",
      "|             0| 8500|\n",
      "|             1| 1627|\n",
      "+--------------+-----+\n",
      "\n"
     ]
    }
   ],
   "source": [
    "ds.select('Attrition_Flag').groupBy('Attrition_Flag').count().orderBy(f.desc('count')).show()"
   ]
  },
  {
   "cell_type": "code",
   "execution_count": 84,
   "metadata": {},
   "outputs": [
    {
     "data": {
      "text/plain": [
       "[Row(Attrition_Flag=0, features=SparseVector(35, {0: 41.0, 1: 3.0, 2: 34.0, 3: 4.0, 4: 4.0, 5: 1.0, 6: 1291.0, 7: 0.653, 8: 21.0, 9: 9.5131, 10: 9.4129, 11: 6.9363, 12: 0.9651, 13: 0.0908, 17: 1.0, 21: 1.0, 25: 1.0, 27: 1.0, 30: 1.0})),\n",
       " Row(Attrition_Flag=0, features=SparseVector(35, {0: 45.0, 1: 2.0, 2: 37.0, 3: 6.0, 4: 1.0, 5: 2.0, 6: 1157.0, 7: 0.966, 8: 21.0, 9: 9.5799, 10: 9.4966, 11: 7.0967, 12: 0.6466, 13: 0.077, 14: 1.0, 15: 1.0, 21: 1.0, 23: 1.0, 27: 1.0, 30: 1.0})),\n",
       " Row(Attrition_Flag=0, features=SparseVector(35, {0: 44.0, 1: 3.0, 2: 34.0, 3: 5.0, 4: 2.0, 5: 2.0, 7: 0.525, 8: 18.0, 9: 9.2204, 10: 9.2204, 11: 6.9594, 12: 0.9443, 14: 1.0, 18: 1.0, 22: 1.0, 23: 1.0, 27: 1.0, 32: 1.0})),\n",
       " Row(Attrition_Flag=0, features=SparseVector(35, {0: 47.0, 1: 4.0, 2: 42.0, 3: 6.0, 6: 1362.0, 7: 0.739, 8: 38.0, 9: 8.4735, 10: 8.1386, 11: 6.9527, 12: 0.6419, 13: 0.2508, 16: 1.0, 21: 1.0, 24: 1.0, 27: 1.0, 31: 1.0})),\n",
       " Row(Attrition_Flag=0, features=SparseVector(35, {0: 56.0, 1: 2.0, 2: 45.0, 3: 6.0, 4: 2.0, 6: 1430.0, 7: 2.316, 8: 27.0, 9: 7.7337, 10: 6.7499, 11: 7.4628, 12: 0.4625, 13: 0.4861, 21: 1.0, 26: 1.0, 27: 1.0})),\n",
       " Row(Attrition_Flag=0, features=SparseVector(35, {0: 66.0, 2: 54.0, 3: 3.0, 4: 4.0, 5: 2.0, 6: 2179.0, 7: 1.224, 8: 38.0, 9: 8.0621, 10: 6.9007, 11: 7.574, 12: 1.0726, 13: 0.523, 14: 1.0, 16: 1.0, 21: 1.0, 23: 1.0, 27: 1.0, 31: 1.0})),\n",
       " Row(Attrition_Flag=0, features=SparseVector(35, {0: 42.0, 1: 2.0, 2: 34.0, 3: 4.0, 4: 4.0, 5: 3.0, 6: 1753.0, 7: 0.69, 8: 27.0, 9: 8.1128, 10: 7.3677, 11: 7.0639, 12: 0.8109, 13: 0.422, 16: 1.0, 22: 1.0, 26: 1.0, 27: 1.0, 31: 1.0})),\n",
       " Row(Attrition_Flag=0, features=SparseVector(35, {0: 37.0, 1: 3.0, 2: 29.0, 3: 4.0, 4: 4.0, 5: 2.0, 6: 1801.0, 7: 0.751, 8: 57.0, 9: 8.8592, 10: 8.5637, 11: 7.7579, 12: 0.676, 13: 0.2279, 14: 1.0, 18: 1.0, 22: 1.0, 23: 1.0, 27: 1.0, 32: 1.0}))]"
      ]
     },
     "execution_count": 84,
     "metadata": {},
     "output_type": "execute_result"
    }
   ],
   "source": [
    "test_data.take(8)"
   ]
  },
  {
   "cell_type": "code",
   "execution_count": null,
   "metadata": {},
   "outputs": [],
   "source": []
  },
  {
   "cell_type": "code",
   "execution_count": 85,
   "metadata": {},
   "outputs": [],
   "source": [
    "#train_dt = train_data.filter(f.col('Attrition_Flag').isNotNull())"
   ]
  },
  {
   "cell_type": "code",
   "execution_count": 86,
   "metadata": {},
   "outputs": [],
   "source": [
    "#test_dt = test_data.filter(f.col('Attrition_Flag').isNotNull())"
   ]
  },
  {
   "cell_type": "code",
   "execution_count": 87,
   "metadata": {},
   "outputs": [
    {
     "name": "stdout",
     "output_type": "stream",
     "text": [
      "+--------------+-----+\n",
      "|Attrition_Flag|count|\n",
      "+--------------+-----+\n",
      "|             0| 1682|\n",
      "|             1|  288|\n",
      "+--------------+-----+\n",
      "\n"
     ]
    }
   ],
   "source": [
    "test_data.select('Attrition_Flag').groupBy('Attrition_Flag').count().orderBy(f.desc('count')).show()"
   ]
  },
  {
   "cell_type": "code",
   "execution_count": null,
   "metadata": {},
   "outputs": [],
   "source": []
  },
  {
   "cell_type": "code",
   "execution_count": null,
   "metadata": {},
   "outputs": [],
   "source": []
  },
  {
   "cell_type": "code",
   "execution_count": null,
   "metadata": {},
   "outputs": [],
   "source": []
  },
  {
   "cell_type": "code",
   "execution_count": 88,
   "metadata": {},
   "outputs": [],
   "source": [
    "from pyspark.ml.classification import LogisticRegression\n",
    "\n",
    "lr = LogisticRegression(labelCol='Attrition_Flag', featuresCol='features')\n",
    "lrm = lr.fit(train_data)"
   ]
  },
  {
   "cell_type": "code",
   "execution_count": 89,
   "metadata": {},
   "outputs": [
    {
     "data": {
      "text/plain": [
       "['__class__',\n",
       " '__del__',\n",
       " '__delattr__',\n",
       " '__dict__',\n",
       " '__dir__',\n",
       " '__doc__',\n",
       " '__eq__',\n",
       " '__format__',\n",
       " '__ge__',\n",
       " '__getattribute__',\n",
       " '__gt__',\n",
       " '__hash__',\n",
       " '__init__',\n",
       " '__init_subclass__',\n",
       " '__le__',\n",
       " '__lt__',\n",
       " '__module__',\n",
       " '__ne__',\n",
       " '__new__',\n",
       " '__reduce__',\n",
       " '__reduce_ex__',\n",
       " '__repr__',\n",
       " '__setattr__',\n",
       " '__sizeof__',\n",
       " '__str__',\n",
       " '__subclasshook__',\n",
       " '__weakref__',\n",
       " '_call_java',\n",
       " '_create_from_java_class',\n",
       " '_java_obj',\n",
       " '_new_java_array',\n",
       " '_new_java_obj',\n",
       " 'accuracy',\n",
       " 'areaUnderROC',\n",
       " 'fMeasureByLabel',\n",
       " 'fMeasureByThreshold',\n",
       " 'falsePositiveRateByLabel',\n",
       " 'featuresCol',\n",
       " 'labelCol',\n",
       " 'labels',\n",
       " 'objectiveHistory',\n",
       " 'pr',\n",
       " 'precisionByLabel',\n",
       " 'precisionByThreshold',\n",
       " 'predictionCol',\n",
       " 'predictions',\n",
       " 'probabilityCol',\n",
       " 'recallByLabel',\n",
       " 'recallByThreshold',\n",
       " 'roc',\n",
       " 'totalIterations',\n",
       " 'truePositiveRateByLabel',\n",
       " 'weightedFMeasure',\n",
       " 'weightedFalsePositiveRate',\n",
       " 'weightedPrecision',\n",
       " 'weightedRecall',\n",
       " 'weightedTruePositiveRate']"
      ]
     },
     "execution_count": 89,
     "metadata": {},
     "output_type": "execute_result"
    }
   ],
   "source": [
    "dir(lrm.summary)"
   ]
  },
  {
   "cell_type": "code",
   "execution_count": 93,
   "metadata": {},
   "outputs": [
    {
     "data": {
      "text/plain": [
       "(0.912958195414981, [0.0, 1.0])"
      ]
     },
     "execution_count": 93,
     "metadata": {},
     "output_type": "execute_result"
    }
   ],
   "source": [
    "# Metricas de evaluacion (insample)\n",
    "lrm.summary.accuracy, lrm.summary.labels"
   ]
  },
  {
   "cell_type": "code",
   "execution_count": 93,
   "metadata": {},
   "outputs": [
    {
     "name": "stdout",
     "output_type": "stream",
     "text": [
      "+--------------+--------------------+--------------------+--------------------+----------+\n",
      "|Attrition_Flag|            features|       rawPrediction|         probability|prediction|\n",
      "+--------------+--------------------+--------------------+--------------------+----------+\n",
      "|             0|(35,[0,1,2,3,4,5,...|[2.75626153795353...|[0.94026600542122...|       0.0|\n",
      "|             0|(35,[0,1,2,3,4,5,...|[2.82743234249972...|[0.94414033978919...|       0.0|\n",
      "|             0|(35,[0,1,2,3,4,5,...|[1.24537856682240...|[0.77649884387261...|       0.0|\n",
      "|             0|(35,[0,1,2,3,6,7,...|[8.38051687374733...|[0.99977076116237...|       0.0|\n",
      "|             0|(35,[0,1,2,3,4,6,...|[4.33814087698660...|[0.98710759766775...|       0.0|\n",
      "|             0|(35,[0,2,3,4,5,6,...|[4.77149701062718...|[0.99160340535931...|       0.0|\n",
      "|             0|(35,[0,1,2,3,4,5,...|[2.42278851944674...|[0.91854861699797...|       0.0|\n",
      "|             0|(35,[0,1,2,3,4,5,...|[3.66727637717359...|[0.97509038697768...|       0.0|\n",
      "|             1|(35,[0,1,2,3,4,5,...|[-3.0793657809054...|[0.04396646608219...|       1.0|\n",
      "|             0|(35,[0,1,2,3,4,5,...|[0.99500489692839...|[0.73007534899703...|       0.0|\n",
      "|             0|(35,[0,1,2,3,4,5,...|[4.4199626354452,...|[0.98810842932407...|       0.0|\n",
      "|             0|(35,[0,1,2,3,4,6,...|[1.58922538973758...|[0.83050709291832...|       0.0|\n",
      "|             0|(35,[0,1,2,3,4,5,...|[0.08705403871205...|[0.52174977569402...|       0.0|\n",
      "|             0|(35,[0,1,2,3,4,5,...|[3.18551197554891...|[0.96028541227549...|       0.0|\n",
      "|             0|(35,[0,1,2,3,4,6,...|[3.47413408934725...|[0.96994277730693...|       0.0|\n",
      "|             0|(35,[0,1,2,3,4,5,...|[5.21106011051383...|[0.99457371840016...|       0.0|\n",
      "|             0|(35,[0,1,2,3,4,7,...|[1.78973409958588...|[0.85689467325882...|       0.0|\n",
      "|             0|(35,[0,1,2,3,4,5,...|[3.54874437846004...|[0.97204332479227...|       0.0|\n",
      "|             0|(35,[0,1,2,3,4,5,...|[2.29531246761982...|[0.90848807479714...|       0.0|\n",
      "|             0|(35,[0,1,2,3,4,5,...|[2.78659416682331...|[0.94194708440262...|       0.0|\n",
      "+--------------+--------------------+--------------------+--------------------+----------+\n",
      "only showing top 20 rows\n",
      "\n"
     ]
    }
   ],
   "source": [
    "pred_ds = lrm.transform(test_data)\n",
    "pred_ds.show()"
   ]
  },
  {
   "cell_type": "code",
   "execution_count": 94,
   "metadata": {},
   "outputs": [],
   "source": [
    "from pyspark.ml.evaluation import BinaryClassificationEvaluator\n",
    "\n",
    "evaluator = BinaryClassificationEvaluator(labelCol='Attrition_Flag')"
   ]
  },
  {
   "cell_type": "code",
   "execution_count": 95,
   "metadata": {},
   "outputs": [
    {
     "name": "stdout",
     "output_type": "stream",
     "text": [
      "Accuracy                            91.3%\n",
      "Area debajo de la curva ROC: 94.0%\n",
      "\n"
     ]
    }
   ],
   "source": [
    "print(f\"Accuracy                            {lrm.summary.accuracy:.1%}\")\n",
    "print(f\"Area debajo de la curva ROC: {lrm.summary.areaUnderROC:.1%}\\n\")"
   ]
  },
  {
   "cell_type": "code",
   "execution_count": 96,
   "metadata": {},
   "outputs": [
    {
     "name": "stdout",
     "output_type": "stream",
     "text": [
      "Evaluación del modelo clasificador: 93.0%\n"
     ]
    }
   ],
   "source": [
    "print(f\"Evaluación del modelo clasificador: {evaluator.evaluate(pred_ds):.1%}\")"
   ]
  },
  {
   "cell_type": "code",
   "execution_count": 97,
   "metadata": {},
   "outputs": [
    {
     "name": "stdout",
     "output_type": "stream",
     "text": [
      "101\n"
     ]
    }
   ],
   "source": [
    "print(lrm.summary.totalIterations)"
   ]
  },
  {
   "cell_type": "code",
   "execution_count": null,
   "metadata": {},
   "outputs": [],
   "source": []
  },
  {
   "cell_type": "code",
   "execution_count": null,
   "metadata": {},
   "outputs": [],
   "source": [
    "#TREE"
   ]
  },
  {
   "cell_type": "code",
   "execution_count": null,
   "metadata": {},
   "outputs": [],
   "source": [
    "from pyspark.ml.classification import DecisionTreeClassifier\n",
    "\n",
    "dt = DecisionTreeClassifier(labelCol='Attrition_Flag', featuresCol='features')\n",
    "dtm = dt.fit(train_data)"
   ]
  },
  {
   "cell_type": "code",
   "execution_count": null,
   "metadata": {},
   "outputs": [],
   "source": [
    "pred_ds = dtm.transform(test_data)\n",
    "pred_ds.show()"
   ]
  },
  {
   "cell_type": "code",
   "execution_count": null,
   "metadata": {},
   "outputs": [],
   "source": [
    "evaluator.evaluate(pred_df)"
   ]
  },
  {
   "cell_type": "code",
   "execution_count": null,
   "metadata": {},
   "outputs": [],
   "source": [
    "from pyspark.ml.classification import RandomForestClassifier\n",
    "\n",
    "rf = RandomForestClassifier(labelCol='survived', featuresCol='features')\n",
    "rfm = rf.fit(train_data)\n",
    "pred_df = rfm.transform(test_data)\n",
    "pred_df.show()"
   ]
  },
  {
   "cell_type": "code",
   "execution_count": null,
   "metadata": {},
   "outputs": [],
   "source": [
    "evaluator.evaluate(pred_df)"
   ]
  },
  {
   "cell_type": "code",
   "execution_count": null,
   "metadata": {},
   "outputs": [],
   "source": [
    "dir(rfm)"
   ]
  },
  {
   "cell_type": "code",
   "execution_count": null,
   "metadata": {},
   "outputs": [],
   "source": [
    "rfm.featureImportances"
   ]
  },
  {
   "cell_type": "code",
   "execution_count": null,
   "metadata": {},
   "outputs": [],
   "source": [
    "from itertools import chain\n",
    "attrs = sorted(\n",
    "    (attr['idx'], attr['name'])\n",
    "    for attr in (\n",
    "        chain(*pred_df.schema['features'].metadata['ml_attr']['attrs'].values())\n",
    "    )\n",
    ")\n",
    "feat_import = [(name, rfm.featureImportances[idx]) for idx, name in attrs if rfm.featureImportances[idx]]\n",
    "feat_import = pd.DataFrame(feat_import, columns=['feature', 'importance']).sort_values(by='importance', ascending=False)\n",
    "feat_import.head(15)"
   ]
  },
  {
   "cell_type": "code",
   "execution_count": null,
   "metadata": {},
   "outputs": [],
   "source": [
    "ax = feat_import[:20].plot(kind='bar')\n",
    "ax.set_xticklabels(feat_import[:20]['feature'].tolist())"
   ]
  },
  {
   "cell_type": "code",
   "execution_count": null,
   "metadata": {},
   "outputs": [],
   "source": []
  },
  {
   "cell_type": "code",
   "execution_count": null,
   "metadata": {},
   "outputs": [],
   "source": []
  },
  {
   "cell_type": "code",
   "execution_count": null,
   "metadata": {},
   "outputs": [],
   "source": []
  },
  {
   "cell_type": "code",
   "execution_count": 94,
   "metadata": {},
   "outputs": [],
   "source": [
    "spark.stop()"
   ]
  },
  {
   "cell_type": "code",
   "execution_count": null,
   "metadata": {},
   "outputs": [],
   "source": []
  }
 ],
 "metadata": {
  "kernelspec": {
   "display_name": "Python 3",
   "language": "python",
   "name": "python3"
  },
  "language_info": {
   "codemirror_mode": {
    "name": "ipython",
    "version": 3
   },
   "file_extension": ".py",
   "mimetype": "text/x-python",
   "name": "python",
   "nbconvert_exporter": "python",
   "pygments_lexer": "ipython3",
   "version": "3.7.3"
  }
 },
 "nbformat": 4,
 "nbformat_minor": 4
}
