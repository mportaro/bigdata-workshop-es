{
 "cells": [
  {
   "cell_type": "markdown",
   "metadata": {},
   "source": [
    "# Clasificación con data de hundimiento del Titanic"
   ]
  },
  {
   "cell_type": "code",
   "execution_count": 1,
   "metadata": {},
   "outputs": [],
   "source": [
    "import findspark\n",
    "findspark.init()"
   ]
  },
  {
   "cell_type": "code",
   "execution_count": 2,
   "metadata": {},
   "outputs": [],
   "source": [
    "from pyspark.sql import SparkSession\n",
    "spark = (\n",
    "    SparkSession.builder\n",
    "    .appName(\"pyspark-titanic-sol\")\n",
    "    .config(\"spark.driver.memory\", \"512m\")\n",
    "    .config(\"spark.driver.cores\", \"1\")\n",
    "    .config(\"spark.executor.memory\", \"512m\")\n",
    "    .config(\"spark.executor.cores\", \"1\")\n",
    "    .config(\"spark.sql.shuffle.partitions\", \"2\")\n",
    "    .getOrCreate()\n",
    ")"
   ]
  },
  {
   "cell_type": "code",
   "execution_count": 3,
   "metadata": {},
   "outputs": [
    {
     "data": {
      "text/plain": [
       "'2.4.5'"
      ]
     },
     "execution_count": 3,
     "metadata": {},
     "output_type": "execute_result"
    }
   ],
   "source": [
    "spark.version"
   ]
  },
  {
   "cell_type": "code",
   "execution_count": 4,
   "metadata": {},
   "outputs": [],
   "source": [
    "dft = spark.read.csv('/dataset/titanic.csv', header=True)"
   ]
  },
  {
   "cell_type": "code",
   "execution_count": 5,
   "metadata": {},
   "outputs": [
    {
     "name": "stdout",
     "output_type": "stream",
     "text": [
      "+------+--------+--------------------+------+----+-----+-----+--------+--------+-------+--------+----+-----+--------------------+\n",
      "|pclass|survived|                name|   sex| age|sibsp|parch|  ticket|    fare|  cabin|embarked|boat| body|           home.dest|\n",
      "+------+--------+--------------------+------+----+-----+-----+--------+--------+-------+--------+----+-----+--------------------+\n",
      "|     1|       1|Allen, Miss. Elis...|female|29.0|    0|    0|   24160|211.3375|     B5|       S|   2| null|        St Louis, MO|\n",
      "|     1|       1|Allison, Master. ...|  male|0.92|    1|    2|  113781|  151.55|C22 C26|       S|  11| null|Montreal, PQ / Ch...|\n",
      "|     1|       0|Allison, Miss. He...|female| 2.0|    1|    2|  113781|  151.55|C22 C26|       S|null| null|Montreal, PQ / Ch...|\n",
      "|     1|       0|Allison, Mr. Huds...|  male|30.0|    1|    2|  113781|  151.55|C22 C26|       S|null|135.0|Montreal, PQ / Ch...|\n",
      "|     1|       0|Allison, Mrs. Hud...|female|25.0|    1|    2|  113781|  151.55|C22 C26|       S|null| null|Montreal, PQ / Ch...|\n",
      "|     1|       1| Anderson, Mr. Harry|  male|48.0|    0|    0|   19952|   26.55|    E12|       S|   3| null|        New York, NY|\n",
      "|     1|       1|Andrews, Miss. Ko...|female|63.0|    1|    0|   13502| 77.9583|     D7|       S|  10| null|          Hudson, NY|\n",
      "|     1|       0|Andrews, Mr. Thom...|  male|39.0|    0|    0|  112050|     0.0|    A36|       S|null| null|         Belfast, NI|\n",
      "|     1|       1|Appleton, Mrs. Ed...|female|53.0|    2|    0|   11769| 51.4792|   C101|       S|   D| null| Bayside, Queens, NY|\n",
      "|     1|       0|Artagaveytia, Mr....|  male|71.0|    0|    0|PC 17609| 49.5042|   null|       C|null| 22.0| Montevideo, Uruguay|\n",
      "+------+--------+--------------------+------+----+-----+-----+--------+--------+-------+--------+----+-----+--------------------+\n",
      "only showing top 10 rows\n",
      "\n"
     ]
    }
   ],
   "source": [
    "dft.show(10)"
   ]
  },
  {
   "cell_type": "code",
   "execution_count": 6,
   "metadata": {},
   "outputs": [
    {
     "name": "stdout",
     "output_type": "stream",
     "text": [
      "root\n",
      " |-- pclass: string (nullable = true)\n",
      " |-- survived: string (nullable = true)\n",
      " |-- name: string (nullable = true)\n",
      " |-- sex: string (nullable = true)\n",
      " |-- age: string (nullable = true)\n",
      " |-- sibsp: string (nullable = true)\n",
      " |-- parch: string (nullable = true)\n",
      " |-- ticket: string (nullable = true)\n",
      " |-- fare: string (nullable = true)\n",
      " |-- cabin: string (nullable = true)\n",
      " |-- embarked: string (nullable = true)\n",
      " |-- boat: string (nullable = true)\n",
      " |-- body: string (nullable = true)\n",
      " |-- home.dest: string (nullable = true)\n",
      "\n"
     ]
    }
   ],
   "source": [
    "dft.printSchema()"
   ]
  },
  {
   "cell_type": "code",
   "execution_count": 7,
   "metadata": {},
   "outputs": [],
   "source": [
    "from pyspark.sql.types import DoubleType, IntegerType"
   ]
  },
  {
   "cell_type": "code",
   "execution_count": 8,
   "metadata": {},
   "outputs": [],
   "source": [
    "dft = dft.withColumn('survived', dft['survived'].cast(IntegerType()))"
   ]
  },
  {
   "cell_type": "code",
   "execution_count": 9,
   "metadata": {},
   "outputs": [
    {
     "name": "stdout",
     "output_type": "stream",
     "text": [
      "root\n",
      " |-- pclass: string (nullable = true)\n",
      " |-- survived: integer (nullable = true)\n",
      " |-- name: string (nullable = true)\n",
      " |-- sex: string (nullable = true)\n",
      " |-- age: string (nullable = true)\n",
      " |-- sibsp: string (nullable = true)\n",
      " |-- parch: string (nullable = true)\n",
      " |-- ticket: string (nullable = true)\n",
      " |-- fare: string (nullable = true)\n",
      " |-- cabin: string (nullable = true)\n",
      " |-- embarked: string (nullable = true)\n",
      " |-- boat: string (nullable = true)\n",
      " |-- body: string (nullable = true)\n",
      " |-- home.dest: string (nullable = true)\n",
      "\n"
     ]
    }
   ],
   "source": [
    "dft.printSchema()"
   ]
  },
  {
   "cell_type": "code",
   "execution_count": 10,
   "metadata": {},
   "outputs": [
    {
     "name": "stdout",
     "output_type": "stream",
     "text": [
      "+--------+\n",
      "|survived|\n",
      "+--------+\n",
      "|       1|\n",
      "|       1|\n",
      "|       0|\n",
      "|       0|\n",
      "|       0|\n",
      "+--------+\n",
      "only showing top 5 rows\n",
      "\n"
     ]
    }
   ],
   "source": [
    "dft.select('survived').show(5)"
   ]
  },
  {
   "cell_type": "code",
   "execution_count": 11,
   "metadata": {},
   "outputs": [
    {
     "name": "stdout",
     "output_type": "stream",
     "text": [
      "+--------+-----+\n",
      "|survived|count|\n",
      "+--------+-----+\n",
      "|       1|  500|\n",
      "|       0|  809|\n",
      "+--------+-----+\n",
      "\n"
     ]
    }
   ],
   "source": [
    "dft.groupBy('survived').count().orderBy('count').show(10)"
   ]
  },
  {
   "cell_type": "code",
   "execution_count": 12,
   "metadata": {},
   "outputs": [
    {
     "data": {
      "text/plain": [
       "1309"
      ]
     },
     "execution_count": 12,
     "metadata": {},
     "output_type": "execute_result"
    }
   ],
   "source": [
    "dft.count()"
   ]
  },
  {
   "cell_type": "markdown",
   "metadata": {},
   "source": [
    "## Extraccion (Ejercicio 1)"
   ]
  },
  {
   "cell_type": "code",
   "execution_count": 13,
   "metadata": {},
   "outputs": [],
   "source": [
    "from pathlib import Path\n",
    "import pandas as pd"
   ]
  },
  {
   "cell_type": "code",
   "execution_count": 14,
   "metadata": {},
   "outputs": [],
   "source": [
    "def extract_titanic_data(url, refresh_cache=False):\n",
    "    cache_fn = Path('/dataset/titanic_local.csv')\n",
    "    if not cache_fn.exists() or refresh_cache:\n",
    "        print(\"Getting data\")\n",
    "        df = pd.read_csv(url)\n",
    "        df.to_csv(cache_fn, index=False)\n",
    "    print(\"Using cache\")\n",
    "    df = spark.read.csv(str(cache_fn), header=True)\n",
    "    return df"
   ]
  },
  {
   "cell_type": "code",
   "execution_count": 15,
   "metadata": {},
   "outputs": [],
   "source": [
    "url = 'https://gist.githubusercontent.com/petobens/29825af615da09752c2817e96732215a/raw/5ad193b26e8a2b79220028f0f1520a2d868ab28e/titanic.csv'"
   ]
  },
  {
   "cell_type": "code",
   "execution_count": 16,
   "metadata": {},
   "outputs": [
    {
     "name": "stdout",
     "output_type": "stream",
     "text": [
      "Using cache\n"
     ]
    }
   ],
   "source": [
    "df_raw = extract_titanic_data(url)"
   ]
  },
  {
   "cell_type": "code",
   "execution_count": 17,
   "metadata": {},
   "outputs": [
    {
     "data": {
      "text/plain": [
       "pyspark.sql.dataframe.DataFrame"
      ]
     },
     "execution_count": 17,
     "metadata": {},
     "output_type": "execute_result"
    }
   ],
   "source": [
    "type(df_raw)"
   ]
  },
  {
   "cell_type": "code",
   "execution_count": 18,
   "metadata": {},
   "outputs": [
    {
     "name": "stdout",
     "output_type": "stream",
     "text": [
      "+------+--------+--------------------+------+----+-----+-----+--------+--------+-------+--------+----+-----+--------------------+\n",
      "|pclass|survived|                name|   sex| age|sibsp|parch|  ticket|    fare|  cabin|embarked|boat| body|           home.dest|\n",
      "+------+--------+--------------------+------+----+-----+-----+--------+--------+-------+--------+----+-----+--------------------+\n",
      "|     1|       1|Allen, Miss. Elis...|female|29.0|    0|    0|   24160|211.3375|     B5|       S|   2| null|        St Louis, MO|\n",
      "|     1|       1|Allison, Master. ...|  male|0.92|    1|    2|  113781|  151.55|C22 C26|       S|  11| null|Montreal, PQ / Ch...|\n",
      "|     1|       0|Allison, Miss. He...|female| 2.0|    1|    2|  113781|  151.55|C22 C26|       S|null| null|Montreal, PQ / Ch...|\n",
      "|     1|       0|Allison, Mr. Huds...|  male|30.0|    1|    2|  113781|  151.55|C22 C26|       S|null|135.0|Montreal, PQ / Ch...|\n",
      "|     1|       0|Allison, Mrs. Hud...|female|25.0|    1|    2|  113781|  151.55|C22 C26|       S|null| null|Montreal, PQ / Ch...|\n",
      "|     1|       1| Anderson, Mr. Harry|  male|48.0|    0|    0|   19952|   26.55|    E12|       S|   3| null|        New York, NY|\n",
      "|     1|       1|Andrews, Miss. Ko...|female|63.0|    1|    0|   13502| 77.9583|     D7|       S|  10| null|          Hudson, NY|\n",
      "|     1|       0|Andrews, Mr. Thom...|  male|39.0|    0|    0|  112050|     0.0|    A36|       S|null| null|         Belfast, NI|\n",
      "|     1|       1|Appleton, Mrs. Ed...|female|53.0|    2|    0|   11769| 51.4792|   C101|       S|   D| null| Bayside, Queens, NY|\n",
      "|     1|       0|Artagaveytia, Mr....|  male|71.0|    0|    0|PC 17609| 49.5042|   null|       C|null| 22.0| Montevideo, Uruguay|\n",
      "+------+--------+--------------------+------+----+-----+-----+--------+--------+-------+--------+----+-----+--------------------+\n",
      "only showing top 10 rows\n",
      "\n"
     ]
    }
   ],
   "source": [
    "df_raw.show(10)"
   ]
  },
  {
   "cell_type": "code",
   "execution_count": 19,
   "metadata": {},
   "outputs": [
    {
     "name": "stdout",
     "output_type": "stream",
     "text": [
      "root\n",
      " |-- pclass: string (nullable = true)\n",
      " |-- survived: string (nullable = true)\n",
      " |-- name: string (nullable = true)\n",
      " |-- sex: string (nullable = true)\n",
      " |-- age: string (nullable = true)\n",
      " |-- sibsp: string (nullable = true)\n",
      " |-- parch: string (nullable = true)\n",
      " |-- ticket: string (nullable = true)\n",
      " |-- fare: string (nullable = true)\n",
      " |-- cabin: string (nullable = true)\n",
      " |-- embarked: string (nullable = true)\n",
      " |-- boat: string (nullable = true)\n",
      " |-- body: string (nullable = true)\n",
      " |-- home.dest: string (nullable = true)\n",
      "\n"
     ]
    }
   ],
   "source": [
    "df_raw.printSchema()"
   ]
  },
  {
   "cell_type": "code",
   "execution_count": 20,
   "metadata": {},
   "outputs": [
    {
     "name": "stdout",
     "output_type": "stream",
     "text": [
      "root\n",
      " |-- pclass: string (nullable = true)\n",
      " |-- survived: string (nullable = true)\n",
      " |-- name: string (nullable = true)\n",
      " |-- sex: string (nullable = true)\n",
      " |-- age: string (nullable = true)\n",
      " |-- sibsp: string (nullable = true)\n",
      " |-- parch: string (nullable = true)\n",
      " |-- ticket: string (nullable = true)\n",
      " |-- fare: string (nullable = true)\n",
      " |-- cabin: string (nullable = true)\n",
      " |-- embarked: string (nullable = true)\n",
      " |-- boat: string (nullable = true)\n",
      " |-- body: string (nullable = true)\n",
      " |-- home_dest: string (nullable = true)\n",
      "\n"
     ]
    }
   ],
   "source": [
    "# Rename home.dest column\n",
    "df_raw = df_raw.withColumnRenamed('home.dest','home_dest')\n",
    "df_raw.printSchema()"
   ]
  },
  {
   "cell_type": "code",
   "execution_count": 21,
   "metadata": {},
   "outputs": [
    {
     "data": {
      "text/plain": [
       "1309"
      ]
     },
     "execution_count": 21,
     "metadata": {},
     "output_type": "execute_result"
    }
   ],
   "source": [
    "df_raw.count()"
   ]
  },
  {
   "cell_type": "code",
   "execution_count": 22,
   "metadata": {},
   "outputs": [],
   "source": [
    "# Train/test split\n",
    "train_df, test_df = df_raw.randomSplit([0.7,0.3],seed=1234)"
   ]
  },
  {
   "cell_type": "code",
   "execution_count": 23,
   "metadata": {},
   "outputs": [],
   "source": [
    "df_raw.randomSplit?"
   ]
  },
  {
   "cell_type": "code",
   "execution_count": 24,
   "metadata": {},
   "outputs": [
    {
     "data": {
      "text/plain": [
       "959"
      ]
     },
     "execution_count": 24,
     "metadata": {},
     "output_type": "execute_result"
    }
   ],
   "source": [
    "train_df.count()"
   ]
  },
  {
   "cell_type": "code",
   "execution_count": 25,
   "metadata": {},
   "outputs": [],
   "source": [
    "from pyspark.sql.functions import rand, when\n",
    "df_raw = df_raw.withColumn('train', when(rand(seed=1234) > 0.3, True).otherwise(False))"
   ]
  },
  {
   "cell_type": "code",
   "execution_count": 26,
   "metadata": {},
   "outputs": [],
   "source": [
    "rand?"
   ]
  },
  {
   "cell_type": "code",
   "execution_count": 27,
   "metadata": {},
   "outputs": [
    {
     "name": "stdout",
     "output_type": "stream",
     "text": [
      "+-----+-----+\n",
      "|train|count|\n",
      "+-----+-----+\n",
      "| true|  886|\n",
      "|false|  423|\n",
      "+-----+-----+\n",
      "\n"
     ]
    }
   ],
   "source": [
    "df_raw.select('train').groupby('train').count().show()"
   ]
  },
  {
   "cell_type": "code",
   "execution_count": 28,
   "metadata": {},
   "outputs": [
    {
     "name": "stdout",
     "output_type": "stream",
     "text": [
      "root\n",
      " |-- train: boolean (nullable = false)\n",
      "\n"
     ]
    }
   ],
   "source": [
    "df_raw.select('train').printSchema()"
   ]
  },
  {
   "cell_type": "code",
   "execution_count": 29,
   "metadata": {},
   "outputs": [],
   "source": [
    "import pyspark.sql.functions as f"
   ]
  },
  {
   "cell_type": "code",
   "execution_count": 30,
   "metadata": {},
   "outputs": [],
   "source": [
    "df_train = df_raw.filter(f.col('train') == True)"
   ]
  },
  {
   "cell_type": "code",
   "execution_count": 31,
   "metadata": {},
   "outputs": [
    {
     "data": {
      "text/plain": [
       "886"
      ]
     },
     "execution_count": 31,
     "metadata": {},
     "output_type": "execute_result"
    }
   ],
   "source": [
    "df_train.count()"
   ]
  },
  {
   "cell_type": "code",
   "execution_count": 32,
   "metadata": {},
   "outputs": [],
   "source": [
    "df_test = df_raw.filter(f.col('train') != True)"
   ]
  },
  {
   "cell_type": "code",
   "execution_count": 33,
   "metadata": {},
   "outputs": [
    {
     "data": {
      "text/plain": [
       "423"
      ]
     },
     "execution_count": 33,
     "metadata": {},
     "output_type": "execute_result"
    }
   ],
   "source": [
    "df_test.count()"
   ]
  },
  {
   "cell_type": "markdown",
   "metadata": {},
   "source": [
    "## Ejercicio 2: Primer preproceso / EDA"
   ]
  },
  {
   "cell_type": "code",
   "execution_count": 34,
   "metadata": {},
   "outputs": [
    {
     "name": "stdout",
     "output_type": "stream",
     "text": [
      "root\n",
      " |-- pclass: string (nullable = true)\n",
      " |-- survived: string (nullable = true)\n",
      " |-- name: string (nullable = true)\n",
      " |-- sex: string (nullable = true)\n",
      " |-- age: string (nullable = true)\n",
      " |-- sibsp: string (nullable = true)\n",
      " |-- parch: string (nullable = true)\n",
      " |-- ticket: string (nullable = true)\n",
      " |-- fare: string (nullable = true)\n",
      " |-- cabin: string (nullable = true)\n",
      " |-- embarked: string (nullable = true)\n",
      " |-- boat: string (nullable = true)\n",
      " |-- body: string (nullable = true)\n",
      " |-- home_dest: string (nullable = true)\n",
      " |-- train: boolean (nullable = false)\n",
      "\n"
     ]
    }
   ],
   "source": [
    "# Casteo de datos\n",
    "df_raw.printSchema()"
   ]
  },
  {
   "cell_type": "code",
   "execution_count": 35,
   "metadata": {},
   "outputs": [],
   "source": [
    "def cast_cols(df, cols, new_type):\n",
    "  for col in cols: \n",
    "     df = df.withColumn(col, df[col].cast(new_type()))\n",
    "  return df"
   ]
  },
  {
   "cell_type": "code",
   "execution_count": 36,
   "metadata": {},
   "outputs": [],
   "source": [
    "integer_cols = ['survived', 'sibsp', 'parch', 'body']\n",
    "float_cols = ['age', 'fare']"
   ]
  },
  {
   "cell_type": "code",
   "execution_count": 37,
   "metadata": {},
   "outputs": [],
   "source": [
    "df_raw = cast_cols(df_raw, integer_cols, IntegerType)\n",
    "df_raw = cast_cols(df_raw, float_cols, DoubleType)"
   ]
  },
  {
   "cell_type": "code",
   "execution_count": 38,
   "metadata": {},
   "outputs": [
    {
     "name": "stdout",
     "output_type": "stream",
     "text": [
      "root\n",
      " |-- pclass: string (nullable = true)\n",
      " |-- survived: integer (nullable = true)\n",
      " |-- name: string (nullable = true)\n",
      " |-- sex: string (nullable = true)\n",
      " |-- age: double (nullable = true)\n",
      " |-- sibsp: integer (nullable = true)\n",
      " |-- parch: integer (nullable = true)\n",
      " |-- ticket: string (nullable = true)\n",
      " |-- fare: double (nullable = true)\n",
      " |-- cabin: string (nullable = true)\n",
      " |-- embarked: string (nullable = true)\n",
      " |-- boat: string (nullable = true)\n",
      " |-- body: integer (nullable = true)\n",
      " |-- home_dest: string (nullable = true)\n",
      " |-- train: boolean (nullable = false)\n",
      "\n"
     ]
    }
   ],
   "source": [
    "df_raw.printSchema()"
   ]
  },
  {
   "cell_type": "code",
   "execution_count": 39,
   "metadata": {},
   "outputs": [
    {
     "data": {
      "text/plain": [
       "0.954"
      ]
     },
     "execution_count": 39,
     "metadata": {},
     "output_type": "execute_result"
    }
   ],
   "source": [
    "survived_on_boat = df_raw.filter((f.col('boat').isNotNull()) & (f.col('survived') == 1)).count()\n",
    "survived = df_raw.filter(f.col('survived') == 1).count()\n",
    "survived_on_boat / survived"
   ]
  },
  {
   "cell_type": "code",
   "execution_count": 40,
   "metadata": {},
   "outputs": [],
   "source": [
    "import logging\n",
    "logging.basicConfig(\n",
    "    level=logging.INFO,\n",
    "    format='%(asctime)s-%(name)s-%(levelname)s: %(message)s',\n",
    "    handlers=[logging.FileHandler('/dataset/titanic_spark.log'), logging.StreamHandler()],\n",
    ")\n",
    "logger = logging.getLogger(__name__)"
   ]
  },
  {
   "cell_type": "code",
   "execution_count": 41,
   "metadata": {},
   "outputs": [],
   "source": [
    "def _drop_unusable_cols(df, cols=[]):\n",
    "    logger.info(\n",
    "        f\"Dropping the following {len(cols)} unusable columns:\\n\"\n",
    "        f\"{cols}\"\n",
    "    )\n",
    "    df = df.drop(*cols)\n",
    "    logger.info(\n",
    "        f\"Remaining {len(df.columns)} columns:\\n {sorted(df.columns)}\"\n",
    "    )\n",
    "    return df"
   ]
  },
  {
   "cell_type": "code",
   "execution_count": 42,
   "metadata": {},
   "outputs": [
    {
     "name": "stderr",
     "output_type": "stream",
     "text": [
      "2022-10-25 20:49:42,935-__main__-INFO: Dropping the following 3 unusable columns:\n",
      "['boat', 'body', 'train']\n",
      "2022-10-25 20:49:42,962-__main__-INFO: Remaining 12 columns:\n",
      " ['age', 'cabin', 'embarked', 'fare', 'home_dest', 'name', 'parch', 'pclass', 'sex', 'sibsp', 'survived', 'ticket']\n"
     ]
    }
   ],
   "source": [
    "train_df = _drop_unusable_cols(train_df, cols=['boat', 'body', 'train'])"
   ]
  },
  {
   "cell_type": "code",
   "execution_count": 43,
   "metadata": {},
   "outputs": [
    {
     "data": {
      "text/plain": [
       "(['pclass',\n",
       "  'survived',\n",
       "  'name',\n",
       "  'sex',\n",
       "  'age',\n",
       "  'sibsp',\n",
       "  'parch',\n",
       "  'ticket',\n",
       "  'fare',\n",
       "  'cabin',\n",
       "  'embarked',\n",
       "  'home_dest'],\n",
       " ['pclass',\n",
       "  'survived',\n",
       "  'name',\n",
       "  'sex',\n",
       "  'age',\n",
       "  'sibsp',\n",
       "  'parch',\n",
       "  'ticket',\n",
       "  'fare',\n",
       "  'cabin',\n",
       "  'embarked',\n",
       "  'boat',\n",
       "  'body',\n",
       "  'home_dest'])"
      ]
     },
     "execution_count": 43,
     "metadata": {},
     "output_type": "execute_result"
    }
   ],
   "source": [
    "train_df.columns, test_df.columns"
   ]
  },
  {
   "cell_type": "code",
   "execution_count": 44,
   "metadata": {},
   "outputs": [
    {
     "name": "stderr",
     "output_type": "stream",
     "text": [
      "2022-10-25 20:49:46,647-__main__-INFO: Dropping the following 3 unusable columns:\n",
      "['boat', 'body', 'train']\n",
      "2022-10-25 20:49:46,661-__main__-INFO: Remaining 12 columns:\n",
      " ['age', 'cabin', 'embarked', 'fare', 'home_dest', 'name', 'parch', 'pclass', 'sex', 'sibsp', 'survived', 'ticket']\n"
     ]
    }
   ],
   "source": [
    "test_df = _drop_unusable_cols(test_df, cols=['boat', 'body', 'train'])"
   ]
  },
  {
   "cell_type": "code",
   "execution_count": 45,
   "metadata": {},
   "outputs": [],
   "source": [
    "train_df = train_df.withColumn('train_new', f.lit(True))\n",
    "test_df = test_df.withColumn('train_new', f.lit(False))"
   ]
  },
  {
   "cell_type": "code",
   "execution_count": 46,
   "metadata": {},
   "outputs": [
    {
     "data": {
      "text/plain": [
       "DataFrame[pclass: string, survived: string, name: string, sex: string, age: string, sibsp: string, parch: string, ticket: string, fare: string, cabin: string, embarked: string, home_dest: string, train_new: boolean]"
      ]
     },
     "execution_count": 46,
     "metadata": {},
     "output_type": "execute_result"
    }
   ],
   "source": [
    "train_df"
   ]
  },
  {
   "cell_type": "code",
   "execution_count": 47,
   "metadata": {},
   "outputs": [
    {
     "data": {
      "text/plain": [
       "1309"
      ]
     },
     "execution_count": 47,
     "metadata": {},
     "output_type": "execute_result"
    }
   ],
   "source": [
    "joined_df = train_df.unionByName(test_df)\n",
    "joined_df.count()"
   ]
  },
  {
   "cell_type": "code",
   "execution_count": 48,
   "metadata": {},
   "outputs": [
    {
     "data": {
      "text/plain": [
       "DataFrame[pclass: string, survived: string, name: string, sex: string, age: string, sibsp: string, parch: string, ticket: string, fare: string, cabin: string, embarked: string, home_dest: string, train_new: boolean]"
      ]
     },
     "execution_count": 48,
     "metadata": {},
     "output_type": "execute_result"
    }
   ],
   "source": [
    "joined_df"
   ]
  },
  {
   "cell_type": "code",
   "execution_count": 49,
   "metadata": {},
   "outputs": [
    {
     "name": "stderr",
     "output_type": "stream",
     "text": [
      "2022-10-25 20:49:55,535-__main__-INFO: Dropping the following 3 unusable columns:\n",
      "['boat', 'body', 'ticket']\n",
      "2022-10-25 20:49:55,547-__main__-INFO: Remaining 12 columns:\n",
      " ['age', 'cabin', 'embarked', 'fare', 'home_dest', 'name', 'parch', 'pclass', 'sex', 'sibsp', 'survived', 'train']\n"
     ]
    }
   ],
   "source": [
    "df = _drop_unusable_cols(df_raw, cols=['boat', 'body', 'ticket'])"
   ]
  },
  {
   "cell_type": "code",
   "execution_count": 50,
   "metadata": {},
   "outputs": [
    {
     "name": "stdout",
     "output_type": "stream",
     "text": [
      "root\n",
      " |-- pclass: string (nullable = true)\n",
      " |-- survived: integer (nullable = true)\n",
      " |-- name: string (nullable = true)\n",
      " |-- sex: string (nullable = true)\n",
      " |-- age: double (nullable = true)\n",
      " |-- sibsp: integer (nullable = true)\n",
      " |-- parch: integer (nullable = true)\n",
      " |-- fare: double (nullable = true)\n",
      " |-- cabin: string (nullable = true)\n",
      " |-- embarked: string (nullable = true)\n",
      " |-- home_dest: string (nullable = true)\n",
      " |-- train: boolean (nullable = false)\n",
      "\n"
     ]
    }
   ],
   "source": [
    "df.printSchema()"
   ]
  },
  {
   "cell_type": "code",
   "execution_count": 51,
   "metadata": {},
   "outputs": [],
   "source": [
    "# Plotting\n",
    "import matplotlib.pyplot as plt\n",
    "%matplotlib inline"
   ]
  },
  {
   "cell_type": "code",
   "execution_count": 52,
   "metadata": {},
   "outputs": [
    {
     "name": "stdout",
     "output_type": "stream",
     "text": [
      "+-----+\n",
      "|train|\n",
      "+-----+\n",
      "| true|\n",
      "| true|\n",
      "| true|\n",
      "| true|\n",
      "| true|\n",
      "+-----+\n",
      "only showing top 5 rows\n",
      "\n"
     ]
    }
   ],
   "source": [
    "df.select('train').show(5)"
   ]
  },
  {
   "cell_type": "code",
   "execution_count": 53,
   "metadata": {},
   "outputs": [
    {
     "data": {
      "text/plain": [
       "<matplotlib.axes._subplots.AxesSubplot at 0x7fc6cfcbbeb8>"
      ]
     },
     "execution_count": 53,
     "metadata": {},
     "output_type": "execute_result"
    },
    {
     "data": {
      "image/png": "[encoded data removed]",
      "text/plain": [
       "<Figure size 432x288 with 1 Axes>"
      ]
     },
     "metadata": {
      "needs_background": "light"
     },
     "output_type": "display_data"
    }
   ],
   "source": [
    "df.select('survived').groupBy('survived').count().toPandas().set_index('survived').plot.bar()"
   ]
  },
  {
   "cell_type": "code",
   "execution_count": 54,
   "metadata": {},
   "outputs": [
    {
     "name": "stdout",
     "output_type": "stream",
     "text": [
      "+------+--------+--------------------+------+----+-----+-----+--------+-------+--------+--------------------+-----+\n",
      "|pclass|survived|                name|   sex| age|sibsp|parch|    fare|  cabin|embarked|           home_dest|train|\n",
      "+------+--------+--------------------+------+----+-----+-----+--------+-------+--------+--------------------+-----+\n",
      "|     1|       1|Allen, Miss. Elis...|female|29.0|    0|    0|211.3375|     B5|       S|        St Louis, MO| true|\n",
      "|     1|       1|Allison, Master. ...|  male|0.92|    1|    2|  151.55|C22 C26|       S|Montreal, PQ / Ch...| true|\n",
      "|     1|       0|Allison, Miss. He...|female| 2.0|    1|    2|  151.55|C22 C26|       S|Montreal, PQ / Ch...| true|\n",
      "|     1|       0|Allison, Mr. Huds...|  male|30.0|    1|    2|  151.55|C22 C26|       S|Montreal, PQ / Ch...| true|\n",
      "|     1|       0|Allison, Mrs. Hud...|female|25.0|    1|    2|  151.55|C22 C26|       S|Montreal, PQ / Ch...| true|\n",
      "+------+--------+--------------------+------+----+-----+-----+--------+-------+--------+--------------------+-----+\n",
      "only showing top 5 rows\n",
      "\n"
     ]
    }
   ],
   "source": [
    "df.show(5)"
   ]
  },
  {
   "cell_type": "markdown",
   "metadata": {},
   "source": [
    "## EDA y Ejercicio 3"
   ]
  },
  {
   "cell_type": "code",
   "execution_count": 55,
   "metadata": {},
   "outputs": [],
   "source": [
    "import seaborn as sns"
   ]
  },
  {
   "cell_type": "code",
   "execution_count": 56,
   "metadata": {},
   "outputs": [
    {
     "data": {
      "image/png": "[encoded data removed]",
      "text/plain": [
       "<Figure size 432x288 with 2 Axes>"
      ]
     },
     "metadata": {
      "needs_background": "light"
     },
     "output_type": "display_data"
    }
   ],
   "source": [
    "g = sns.heatmap(df.select('survived', 'age', 'parch', 'fare', 'sibsp').toPandas().corr(),\n",
    "                annot=True, fmt = \".2f\", cmap = \"coolwarm\")"
   ]
  },
  {
   "cell_type": "code",
   "execution_count": 57,
   "metadata": {},
   "outputs": [
    {
     "data": {
      "image/png": "[encoded data removed]",
      "text/plain": [
       "<Figure size 432x216 with 2 Axes>"
      ]
     },
     "metadata": {
      "needs_background": "light"
     },
     "output_type": "display_data"
    }
   ],
   "source": [
    "g = sns.FacetGrid(df.toPandas(), col='survived')\n",
    "g = g.map(sns.distplot, 'age')"
   ]
  },
  {
   "cell_type": "code",
   "execution_count": 58,
   "metadata": {},
   "outputs": [],
   "source": [
    "survived_age = df.filter((f.col('survived') == 1) & \n",
    "                         (f.col('age').isNotNull())).select('age').toPandas()\n",
    "not_survived_age = df.filter((f.col('survived') == 0) & (f.col('age').isNotNull())).select('age').toPandas()"
   ]
  },
  {
   "cell_type": "code",
   "execution_count": 59,
   "metadata": {},
   "outputs": [
    {
     "data": {
      "text/plain": [
       "0      29.00\n",
       "1       0.92\n",
       "2      48.00\n",
       "3      63.00\n",
       "4      53.00\n",
       "       ...  \n",
       "422    63.00\n",
       "423    22.00\n",
       "424    38.00\n",
       "425    47.00\n",
       "426    15.00\n",
       "Name: age, Length: 427, dtype: float64"
      ]
     },
     "execution_count": 59,
     "metadata": {},
     "output_type": "execute_result"
    }
   ],
   "source": [
    "survived_age.squeeze()"
   ]
  },
  {
   "cell_type": "code",
   "execution_count": 60,
   "metadata": {},
   "outputs": [
    {
     "data": {
      "text/plain": [
       "pandas.core.series.Series"
      ]
     },
     "execution_count": 60,
     "metadata": {},
     "output_type": "execute_result"
    }
   ],
   "source": [
    "type(survived_age.squeeze())"
   ]
  },
  {
   "cell_type": "code",
   "execution_count": 61,
   "metadata": {},
   "outputs": [
    {
     "data": {
      "text/plain": [
       "<matplotlib.legend.Legend at 0x7fc6c127fc50>"
      ]
     },
     "execution_count": 61,
     "metadata": {},
     "output_type": "execute_result"
    },
    {
     "data": {
      "image/png": "[encoded data removed]",
      "text/plain": [
       "<Figure size 432x288 with 1 Axes>"
      ]
     },
     "metadata": {
      "needs_background": "light"
     },
     "output_type": "display_data"
    }
   ],
   "source": [
    "g = sns.kdeplot(not_survived_age.squeeze(), color='Red', shade=True)\n",
    "g = sns.kdeplot(survived_age.squeeze(), color='Blue', shade=True)\n",
    "g.set_xlabel('age')\n",
    "g.set_ylabel('Frequency')\n",
    "g.legend(['Not Survived', 'Survived'])"
   ]
  },
  {
   "cell_type": "code",
   "execution_count": 62,
   "metadata": {},
   "outputs": [
    {
     "data": {
      "text/plain": [
       "33.29547928134572"
      ]
     },
     "execution_count": 62,
     "metadata": {},
     "output_type": "execute_result"
    }
   ],
   "source": [
    "fare_mean = df.select(f.mean(f.col('fare'))).first()[0]\n",
    "fare_mean"
   ]
  },
  {
   "cell_type": "code",
   "execution_count": 63,
   "metadata": {},
   "outputs": [
    {
     "name": "stdout",
     "output_type": "stream",
     "text": [
      "+----+\n",
      "|fare|\n",
      "+----+\n",
      "+----+\n",
      "\n"
     ]
    }
   ],
   "source": [
    "df.select('fare').fillna(fare_mean).filter(f.col('fare').isNull()).show()"
   ]
  },
  {
   "cell_type": "code",
   "execution_count": 64,
   "metadata": {},
   "outputs": [
    {
     "data": {
      "image/png": "[encoded data removed]",
      "text/plain": [
       "<Figure size 432x288 with 1 Axes>"
      ]
     },
     "metadata": {
      "needs_background": "light"
     },
     "output_type": "display_data"
    }
   ],
   "source": [
    "# Distribución de precio de boletos \n",
    "g = sns.distplot(df.select('fare').fillna(fare_mean).toPandas(), color='m')"
   ]
  },
  {
   "cell_type": "code",
   "execution_count": 65,
   "metadata": {},
   "outputs": [
    {
     "name": "stdout",
     "output_type": "stream",
     "text": [
      "+----+\n",
      "|fare|\n",
      "+----+\n",
      "| 0.0|\n",
      "| 0.0|\n",
      "| 0.0|\n",
      "| 0.0|\n",
      "| 0.0|\n",
      "| 0.0|\n",
      "| 0.0|\n",
      "| 0.0|\n",
      "| 0.0|\n",
      "| 0.0|\n",
      "| 0.0|\n",
      "| 0.0|\n",
      "| 0.0|\n",
      "| 0.0|\n",
      "| 0.0|\n",
      "| 0.0|\n",
      "| 0.0|\n",
      "+----+\n",
      "\n"
     ]
    }
   ],
   "source": [
    "df.select('fare').filter(f.col('fare') == 0).show()"
   ]
  },
  {
   "cell_type": "code",
   "execution_count": 66,
   "metadata": {},
   "outputs": [],
   "source": [
    "import numpy as np"
   ]
  },
  {
   "cell_type": "code",
   "execution_count": 67,
   "metadata": {},
   "outputs": [],
   "source": [
    "@f.udf('double')\n",
    "def np_log(x):\n",
    "    if x is None:\n",
    "        return 0\n",
    "    return float(np.log(x + 1)) "
   ]
  },
  {
   "cell_type": "code",
   "execution_count": 68,
   "metadata": {},
   "outputs": [
    {
     "name": "stdout",
     "output_type": "stream",
     "text": [
      "+--------+------------------+\n",
      "|    fare|          log_fare|\n",
      "+--------+------------------+\n",
      "|211.3375|  5.35817698994543|\n",
      "|  151.55| 5.027492411162679|\n",
      "|  151.55| 5.027492411162679|\n",
      "|  151.55| 5.027492411162679|\n",
      "|  151.55| 5.027492411162679|\n",
      "|   26.55|3.3160025355989236|\n",
      "| 77.9583| 4.368919865004903|\n",
      "|     0.0|               0.0|\n",
      "| 51.4792| 3.960416900617205|\n",
      "| 49.5042| 3.922056501139853|\n",
      "| 227.525|5.4316456135398825|\n",
      "| 227.525|5.4316456135398825|\n",
      "|    69.3| 4.252771798816619|\n",
      "|   78.85| 4.380149874661021|\n",
      "|    30.0|3.4339872044851463|\n",
      "|  25.925|3.2930552230424524|\n",
      "|247.5208| 5.515526544247129|\n",
      "|247.5208| 5.515526544247129|\n",
      "| 76.2917| 4.347586575960343|\n",
      "| 75.2417| 4.333908557103646|\n",
      "+--------+------------------+\n",
      "only showing top 20 rows\n",
      "\n"
     ]
    }
   ],
   "source": [
    "df = df.withColumn('log_fare', np_log(df.fare))\n",
    "df.select('fare', 'log_fare').show()"
   ]
  },
  {
   "cell_type": "code",
   "execution_count": 69,
   "metadata": {},
   "outputs": [],
   "source": [
    "df = df.drop('fare')"
   ]
  },
  {
   "cell_type": "code",
   "execution_count": 70,
   "metadata": {},
   "outputs": [
    {
     "name": "stdout",
     "output_type": "stream",
     "text": [
      "+----+-----+\n",
      "| age|count|\n",
      "+----+-----+\n",
      "|0.92|    2|\n",
      "|0.17|    1|\n",
      "|25.0|   34|\n",
      "|63.0|    4|\n",
      "|39.0|   20|\n",
      "|53.0|    4|\n",
      "|71.0|    2|\n",
      "|null|  263|\n",
      "|32.0|   24|\n",
      "|36.0|   31|\n",
      "|42.0|   18|\n",
      "|19.0|   29|\n",
      "|35.0|   23|\n",
      "|45.0|   21|\n",
      "|58.0|    6|\n",
      "|22.0|   43|\n",
      "|60.0|    7|\n",
      "|33.0|   21|\n",
      "|17.0|   20|\n",
      "|14.0|    8|\n",
      "+----+-----+\n",
      "only showing top 20 rows\n",
      "\n"
     ]
    }
   ],
   "source": [
    "df.select('age').groupBy('age').count().show()"
   ]
  },
  {
   "cell_type": "code",
   "execution_count": 71,
   "metadata": {},
   "outputs": [
    {
     "data": {
      "image/png": "[encoded data removed]",
      "text/plain": [
       "<Figure size 432x288 with 1 Axes>"
      ]
     },
     "metadata": {
      "needs_background": "light"
     },
     "output_type": "display_data"
    }
   ],
   "source": [
    "g = sns.distplot(df.select('log_fare').fillna(np.log(fare_mean)).toPandas(), color='m')"
   ]
  },
  {
   "cell_type": "code",
   "execution_count": 72,
   "metadata": {},
   "outputs": [
    {
     "data": {
      "image/png": "[encoded data removed]",
      "text/plain": [
       "<Figure size 432x288 with 1 Axes>"
      ]
     },
     "metadata": {
      "needs_background": "light"
     },
     "output_type": "display_data"
    }
   ],
   "source": [
    "g = sns.barplot(x='sex', y='survived', data=df.toPandas())\n",
    "g = g.set_ylabel(\"Survival Probability\")"
   ]
  },
  {
   "cell_type": "code",
   "execution_count": 73,
   "metadata": {},
   "outputs": [
    {
     "name": "stdout",
     "output_type": "stream",
     "text": [
      "+------+-------------------+\n",
      "|   sex|      avg(survived)|\n",
      "+------+-------------------+\n",
      "|female| 0.7274678111587983|\n",
      "|  male|0.19098457888493475|\n",
      "+------+-------------------+\n",
      "\n"
     ]
    }
   ],
   "source": [
    "df.select('sex', 'survived').groupby('sex').mean().show()"
   ]
  },
  {
   "cell_type": "code",
   "execution_count": 74,
   "metadata": {},
   "outputs": [
    {
     "data": {
      "image/png": "[encoded data removed]",
      "text/plain": [
       "<Figure size 502.5x432 with 1 Axes>"
      ]
     },
     "metadata": {
      "needs_background": "light"
     },
     "output_type": "display_data"
    }
   ],
   "source": [
    "g = sns.catplot(x='pclass', y='survived', hue='sex', data=df.toPandas(),\n",
    "                   height=6, kind='bar')\n",
    "g = g.set_ylabels(\"survival probability\")"
   ]
  },
  {
   "cell_type": "markdown",
   "metadata": {},
   "source": [
    "## Ejercicio 4: Valores nulos y constantes"
   ]
  },
  {
   "cell_type": "code",
   "execution_count": 75,
   "metadata": {},
   "outputs": [
    {
     "data": {
      "text/plain": [
       "pyspark.sql.dataframe.DataFrame"
      ]
     },
     "execution_count": 75,
     "metadata": {},
     "output_type": "execute_result"
    }
   ],
   "source": [
    "type(df)"
   ]
  },
  {
   "cell_type": "code",
   "execution_count": 76,
   "metadata": {},
   "outputs": [
    {
     "name": "stdout",
     "output_type": "stream",
     "text": [
      "root\n",
      " |-- pclass: string (nullable = true)\n",
      " |-- survived: integer (nullable = true)\n",
      " |-- name: string (nullable = true)\n",
      " |-- sex: string (nullable = true)\n",
      " |-- age: double (nullable = true)\n",
      " |-- sibsp: integer (nullable = true)\n",
      " |-- parch: integer (nullable = true)\n",
      " |-- cabin: string (nullable = true)\n",
      " |-- embarked: string (nullable = true)\n",
      " |-- home_dest: string (nullable = true)\n",
      " |-- train: boolean (nullable = false)\n",
      " |-- log_fare: double (nullable = true)\n",
      "\n"
     ]
    }
   ],
   "source": [
    "df.printSchema()"
   ]
  },
  {
   "cell_type": "code",
   "execution_count": 77,
   "metadata": {},
   "outputs": [
    {
     "name": "stdout",
     "output_type": "stream",
     "text": [
      "+----+-----+\n",
      "| age|count|\n",
      "+----+-----+\n",
      "|0.92|    2|\n",
      "|0.17|    1|\n",
      "|25.0|   34|\n",
      "|63.0|    4|\n",
      "|39.0|   20|\n",
      "|53.0|    4|\n",
      "|71.0|    2|\n",
      "|null|  263|\n",
      "|32.0|   24|\n",
      "|36.0|   31|\n",
      "|42.0|   18|\n",
      "|19.0|   29|\n",
      "|35.0|   23|\n",
      "|45.0|   21|\n",
      "|58.0|    6|\n",
      "|22.0|   43|\n",
      "|60.0|    7|\n",
      "|33.0|   21|\n",
      "|17.0|   20|\n",
      "|14.0|    8|\n",
      "+----+-----+\n",
      "only showing top 20 rows\n",
      "\n"
     ]
    }
   ],
   "source": [
    "df.select('age').groupBy('age').count().show()"
   ]
  },
  {
   "cell_type": "code",
   "execution_count": 78,
   "metadata": {},
   "outputs": [
    {
     "name": "stdout",
     "output_type": "stream",
     "text": [
      "+-------------------------------+\n",
      "|sum(CAST((age IS NULL) AS INT))|\n",
      "+-------------------------------+\n",
      "|                            263|\n",
      "+-------------------------------+\n",
      "\n"
     ]
    }
   ],
   "source": [
    "df.select(f.sum(f.col('age').isNull().cast('integer'))).show()"
   ]
  },
  {
   "cell_type": "code",
   "execution_count": 79,
   "metadata": {},
   "outputs": [],
   "source": [
    "df_nulls = df.select([f.sum(f.col(c).isNull().cast('integer') / df.count()).alias(c) for c in df.columns])"
   ]
  },
  {
   "cell_type": "code",
   "execution_count": 80,
   "metadata": {},
   "outputs": [
    {
     "data": {
      "text/plain": [
       "['pclass',\n",
       " 'survived',\n",
       " 'name',\n",
       " 'sex',\n",
       " 'age',\n",
       " 'sibsp',\n",
       " 'parch',\n",
       " 'cabin',\n",
       " 'embarked',\n",
       " 'home_dest',\n",
       " 'train',\n",
       " 'log_fare']"
      ]
     },
     "execution_count": 80,
     "metadata": {},
     "output_type": "execute_result"
    }
   ],
   "source": [
    "df.columns"
   ]
  },
  {
   "cell_type": "code",
   "execution_count": 81,
   "metadata": {},
   "outputs": [
    {
     "name": "stdout",
     "output_type": "stream",
     "text": [
      "+------+--------+----+---+-------------------+-----+-----+------------------+--------------------+------------------+-----+--------------------+\n",
      "|pclass|survived|name|sex|                age|sibsp|parch|             cabin|            embarked|         home_dest|train|            log_fare|\n",
      "+------+--------+----+---+-------------------+-----+-----+------------------+--------------------+------------------+-----+--------------------+\n",
      "|   0.0|     0.0| 0.0|0.0|0.20091673032849391|  0.0|  0.0|0.7746371275782934|0.001527883880825...|0.4308632543926612|  0.0|7.639419404125286E-4|\n",
      "+------+--------+----+---+-------------------+-----+-----+------------------+--------------------+------------------+-----+--------------------+\n",
      "\n"
     ]
    }
   ],
   "source": [
    "df_nulls.show()"
   ]
  },
  {
   "cell_type": "code",
   "execution_count": 82,
   "metadata": {},
   "outputs": [
    {
     "data": {
      "text/plain": [
       "['cabin']"
      ]
     },
     "execution_count": 82,
     "metadata": {},
     "output_type": "execute_result"
    }
   ],
   "source": [
    "null_cols = [c for c in df_nulls.columns if df_nulls.select(c).first()[0] >= 0.5]\n",
    "null_cols"
   ]
  },
  {
   "cell_type": "code",
   "execution_count": 83,
   "metadata": {},
   "outputs": [],
   "source": [
    "def _drop_nulls(df, max_null_prop=0.5):\n",
    "    logger.info(\n",
    "        f\"Dropping columns with null ratio greater than {max_null_prop * 100}%...\"\n",
    "    )\n",
    "    df_nulls = df.select([f.sum(f.col(c).isNull().cast('integer') / df.count()).alias(c) \n",
    "                          for c in df.columns])\n",
    "    logger.info(f\"Null proportions:\\n {df_nulls.show()}\")\n",
    "    null_cols = [c for c in df_nulls.columns if df_nulls.select(c).first()[0] > max_null_prop \n",
    "                 and c not in PROTECTED_COLS]\n",
    "    logger.info(f\"Dropping the following {len(null_cols)} columns:\\n {null_cols}\")\n",
    "    df = df.drop(*null_cols)\n",
    "    return df"
   ]
  },
  {
   "cell_type": "code",
   "execution_count": 84,
   "metadata": {},
   "outputs": [
    {
     "name": "stderr",
     "output_type": "stream",
     "text": [
      "2022-10-25 20:51:24,422-__main__-INFO: Dropping columns with null ratio greater than 50.0%...\n",
      "2022-10-25 20:51:26,901-__main__-INFO: Null proportions:\n",
      " None\n"
     ]
    },
    {
     "name": "stdout",
     "output_type": "stream",
     "text": [
      "+------+--------+----+---+-------------------+-----+-----+------------------+--------------------+------------------+-----+--------------------+\n",
      "|pclass|survived|name|sex|                age|sibsp|parch|             cabin|            embarked|         home_dest|train|            log_fare|\n",
      "+------+--------+----+---+-------------------+-----+-----+------------------+--------------------+------------------+-----+--------------------+\n",
      "|   0.0|     0.0| 0.0|0.0|0.20091673032849391|  0.0|  0.0|0.7746371275782934|0.001527883880825...|0.4308632543926612|  0.0|7.639419404125286E-4|\n",
      "+------+--------+----+---+-------------------+-----+-----+------------------+--------------------+------------------+-----+--------------------+\n",
      "\n"
     ]
    },
    {
     "name": "stderr",
     "output_type": "stream",
     "text": [
      "2022-10-25 20:51:29,005-__main__-INFO: Dropping the following 1 columns:\n",
      " ['cabin']\n"
     ]
    }
   ],
   "source": [
    "PROTECTED_COLS = ['survived', 'train']\n",
    "df = _drop_nulls(df)"
   ]
  },
  {
   "cell_type": "code",
   "execution_count": 85,
   "metadata": {},
   "outputs": [
    {
     "data": {
      "text/plain": [
       "pclass       0.000000\n",
       "survived     0.000000\n",
       "name         0.000000\n",
       "sex          0.000000\n",
       "age          0.200917\n",
       "sibsp        0.000000\n",
       "parch        0.000000\n",
       "embarked     0.001528\n",
       "home_dest    0.430863\n",
       "train        0.000000\n",
       "log_fare     0.000764\n",
       "dtype: float64"
      ]
     },
     "execution_count": 85,
     "metadata": {},
     "output_type": "execute_result"
    }
   ],
   "source": [
    "df.toPandas().isnull().mean()"
   ]
  },
  {
   "cell_type": "code",
   "execution_count": 86,
   "metadata": {},
   "outputs": [
    {
     "name": "stdout",
     "output_type": "stream",
     "text": [
      "<class 'pandas.core.frame.DataFrame'>\n",
      "RangeIndex: 1309 entries, 0 to 1308\n",
      "Data columns (total 11 columns):\n",
      " #   Column     Non-Null Count  Dtype  \n",
      "---  ------     --------------  -----  \n",
      " 0   pclass     1309 non-null   object \n",
      " 1   survived   1309 non-null   int32  \n",
      " 2   name       1309 non-null   object \n",
      " 3   sex        1309 non-null   object \n",
      " 4   age        1046 non-null   float64\n",
      " 5   sibsp      1309 non-null   int32  \n",
      " 6   parch      1309 non-null   int32  \n",
      " 7   embarked   1307 non-null   object \n",
      " 8   home_dest  745 non-null    object \n",
      " 9   train      1309 non-null   bool   \n",
      " 10  log_fare   1308 non-null   float64\n",
      "dtypes: bool(1), float64(2), int32(3), object(5)\n",
      "memory usage: 88.3+ KB\n"
     ]
    }
   ],
   "source": [
    "df.toPandas().info()"
   ]
  },
  {
   "cell_type": "code",
   "execution_count": 87,
   "metadata": {},
   "outputs": [
    {
     "name": "stdout",
     "output_type": "stream",
     "text": [
      "root\n",
      " |-- pclass: string (nullable = true)\n",
      " |-- survived: integer (nullable = true)\n",
      " |-- name: string (nullable = true)\n",
      " |-- sex: string (nullable = true)\n",
      " |-- age: double (nullable = true)\n",
      " |-- sibsp: integer (nullable = true)\n",
      " |-- parch: integer (nullable = true)\n",
      " |-- embarked: string (nullable = true)\n",
      " |-- home_dest: string (nullable = true)\n",
      " |-- train: boolean (nullable = false)\n",
      " |-- log_fare: double (nullable = true)\n",
      "\n"
     ]
    }
   ],
   "source": [
    "df.printSchema()"
   ]
  },
  {
   "cell_type": "code",
   "execution_count": 88,
   "metadata": {},
   "outputs": [
    {
     "data": {
      "text/plain": [
       "survived     0.486055\n",
       "age         14.413493\n",
       "sibsp        1.041658\n",
       "parch        0.865560\n",
       "train        0.467857\n",
       "log_fare     0.968668\n",
       "dtype: float64"
      ]
     },
     "execution_count": 88,
     "metadata": {},
     "output_type": "execute_result"
    }
   ],
   "source": [
    "df.toPandas().std()"
   ]
  },
  {
   "cell_type": "code",
   "execution_count": null,
   "metadata": {},
   "outputs": [],
   "source": []
  },
  {
   "cell_type": "code",
   "execution_count": 89,
   "metadata": {},
   "outputs": [
    {
     "data": {
      "text/plain": [
       "[('pclass', 'string'),\n",
       " ('survived', 'int'),\n",
       " ('name', 'string'),\n",
       " ('sex', 'string'),\n",
       " ('age', 'double'),\n",
       " ('sibsp', 'int'),\n",
       " ('parch', 'int'),\n",
       " ('embarked', 'string'),\n",
       " ('home_dest', 'string'),\n",
       " ('train', 'boolean'),\n",
       " ('log_fare', 'double')]"
      ]
     },
     "execution_count": 89,
     "metadata": {},
     "output_type": "execute_result"
    }
   ],
   "source": [
    "df.dtypes"
   ]
  },
  {
   "cell_type": "code",
   "execution_count": 90,
   "metadata": {},
   "outputs": [
    {
     "data": {
      "text/plain": [
       "['survived', 'age', 'sibsp', 'parch', 'log_fare']"
      ]
     },
     "execution_count": 90,
     "metadata": {},
     "output_type": "execute_result"
    }
   ],
   "source": [
    "num_cols = [c for c,dtype in df.dtypes if dtype.startswith(('int', 'double'))]\n",
    "num_cols"
   ]
  },
  {
   "cell_type": "code",
   "execution_count": 91,
   "metadata": {},
   "outputs": [
    {
     "name": "stdout",
     "output_type": "stream",
     "text": [
      "+-------------------+-----------------+------------------+------------------+------------------+\n",
      "|           survived|              age|             sibsp|             parch|          log_fare|\n",
      "+-------------------+-----------------+------------------+------------------+------------------+\n",
      "|0.48605517086648325|14.41349321127133|1.0416583905961012|0.8655602753495143|0.9686684201071445|\n",
      "+-------------------+-----------------+------------------+------------------+------------------+\n",
      "\n"
     ]
    }
   ],
   "source": [
    "df_std = df.select([f.stddev(f.col(c)).alias(c) for c in num_cols])\n",
    "df_std.show()"
   ]
  },
  {
   "cell_type": "code",
   "execution_count": 92,
   "metadata": {},
   "outputs": [],
   "source": [
    "def _drop_std(df, min_std_dev=1.5e-2):\n",
    "    num_cols = [c for c,dtype in df.dtypes if dtype.startswith(('int', 'double'))]\n",
    "    df_std = df.select([f.stddev(f.col(c)).alias(c) for c in num_cols])\n",
    "    low_variance_cols = [c for c in df_std.columns if df_std.select(c).first()[0] < min_std_dev \n",
    "                         and c not in PROTECTED_COLS]\n",
    "    logger.info(\n",
    "        f'Dropping the following {len(low_variance_cols)} columns '\n",
    "        f'due to low variance:\\n {low_variance_cols}'\n",
    "    )\n",
    "    df.drop(*low_variance_cols)\n",
    "    return df"
   ]
  },
  {
   "cell_type": "code",
   "execution_count": 93,
   "metadata": {},
   "outputs": [
    {
     "name": "stderr",
     "output_type": "stream",
     "text": [
      "2022-10-25 20:51:45,571-__main__-INFO: Dropping the following 0 columns due to low variance:\n",
      " []\n"
     ]
    }
   ],
   "source": [
    "df = _drop_std(df)"
   ]
  },
  {
   "cell_type": "code",
   "execution_count": 94,
   "metadata": {},
   "outputs": [],
   "source": [
    "def _get_typed_cols(df, col_type='cat'):\n",
    "    assert col_type in ('cat', 'num')\n",
    "    dtypes = ('int', 'double') if col_type == 'num' else ('string')\n",
    "    typed_cols = [c for c,dtype in df.dtypes if dtype.startswith(dtypes) \n",
    "                  and c not in PROTECTED_COLS]\n",
    "    return typed_cols"
   ]
  },
  {
   "cell_type": "code",
   "execution_count": 95,
   "metadata": {},
   "outputs": [],
   "source": [
    "# _get_typed_cols(df, col_type='foo')"
   ]
  },
  {
   "cell_type": "code",
   "execution_count": 96,
   "metadata": {},
   "outputs": [
    {
     "data": {
      "text/plain": [
       "(['age', 'sibsp', 'parch', 'log_fare'],\n",
       " ['pclass', 'name', 'sex', 'embarked', 'home_dest'])"
      ]
     },
     "execution_count": 96,
     "metadata": {},
     "output_type": "execute_result"
    }
   ],
   "source": [
    "num_cols = _get_typed_cols(df, col_type='num')\n",
    "cat_cols = _get_typed_cols(df, col_type='cat')\n",
    "num_cols, cat_cols"
   ]
  },
  {
   "cell_type": "code",
   "execution_count": 97,
   "metadata": {},
   "outputs": [
    {
     "name": "stdout",
     "output_type": "stream",
     "text": [
      "+--------+-----+\n",
      "|embarked|count|\n",
      "+--------+-----+\n",
      "|       S|  914|\n",
      "|       C|  270|\n",
      "|       Q|  123|\n",
      "+--------+-----+\n",
      "\n"
     ]
    }
   ],
   "source": [
    "val_counts = df.filter(f.col('embarked').isNotNull()).select('embarked').groupBy('embarked').count().orderBy(f.desc('count'))\n",
    "val_counts.show()"
   ]
  },
  {
   "cell_type": "code",
   "execution_count": 98,
   "metadata": {},
   "outputs": [
    {
     "data": {
      "text/plain": [
       "'S'"
      ]
     },
     "execution_count": 98,
     "metadata": {},
     "output_type": "execute_result"
    }
   ],
   "source": [
    "val_counts.select('embarked').first()[0]"
   ]
  },
  {
   "cell_type": "code",
   "execution_count": 99,
   "metadata": {},
   "outputs": [
    {
     "data": {
      "text/plain": [
       "28.0"
      ]
     },
     "execution_count": 99,
     "metadata": {},
     "output_type": "execute_result"
    }
   ],
   "source": [
    "df.toPandas()['age'].median()"
   ]
  },
  {
   "cell_type": "code",
   "execution_count": 100,
   "metadata": {},
   "outputs": [],
   "source": [
    "# df.approxQuantile?"
   ]
  },
  {
   "cell_type": "code",
   "execution_count": 101,
   "metadata": {},
   "outputs": [
    {
     "data": {
      "text/plain": [
       "28.0"
      ]
     },
     "execution_count": 101,
     "metadata": {},
     "output_type": "execute_result"
    }
   ],
   "source": [
    "df.approxQuantile('age', [0.5], 0)[0]"
   ]
  },
  {
   "cell_type": "code",
   "execution_count": 102,
   "metadata": {},
   "outputs": [],
   "source": [
    "def _fill_nulls(df):\n",
    "    for t in ['num', 'cat']:\n",
    "        cols = _get_typed_cols(df, col_type=t)\n",
    "        for c in cols:\n",
    "            if t == 'num':\n",
    "                median_val = df.approxQuantile(c, [0.5], 0)[0]\n",
    "                df = df.fillna(median_val, subset=[c])\n",
    "            else:\n",
    "                val_counts = df.filter(f.col(c).isNotNull()).select(c).groupBy(c).count().orderBy(f.desc('count'))\n",
    "                common_val = val_counts.select(c).first()[0]\n",
    "                df = df.fillna(common_val, subset=[c])\n",
    "    return df"
   ]
  },
  {
   "cell_type": "code",
   "execution_count": 103,
   "metadata": {},
   "outputs": [
    {
     "name": "stdout",
     "output_type": "stream",
     "text": [
      "<class 'pandas.core.frame.DataFrame'>\n",
      "RangeIndex: 1309 entries, 0 to 1308\n",
      "Data columns (total 11 columns):\n",
      " #   Column     Non-Null Count  Dtype  \n",
      "---  ------     --------------  -----  \n",
      " 0   pclass     1309 non-null   object \n",
      " 1   survived   1309 non-null   int32  \n",
      " 2   name       1309 non-null   object \n",
      " 3   sex        1309 non-null   object \n",
      " 4   age        1046 non-null   float64\n",
      " 5   sibsp      1309 non-null   int32  \n",
      " 6   parch      1309 non-null   int32  \n",
      " 7   embarked   1307 non-null   object \n",
      " 8   home_dest  745 non-null    object \n",
      " 9   train      1309 non-null   bool   \n",
      " 10  log_fare   1308 non-null   float64\n",
      "dtypes: bool(1), float64(2), int32(3), object(5)\n",
      "memory usage: 88.3+ KB\n"
     ]
    }
   ],
   "source": [
    "df.toPandas().info()"
   ]
  },
  {
   "cell_type": "code",
   "execution_count": 104,
   "metadata": {},
   "outputs": [
    {
     "name": "stdout",
     "output_type": "stream",
     "text": [
      "+--------+-----+\n",
      "|embarked|count|\n",
      "+--------+-----+\n",
      "|       S|  914|\n",
      "|       C|  270|\n",
      "|       Q|  123|\n",
      "|    null|    2|\n",
      "+--------+-----+\n",
      "\n"
     ]
    }
   ],
   "source": [
    "df.select('embarked').groupBy('embarked').count().orderBy(f.desc('count')).show()"
   ]
  },
  {
   "cell_type": "code",
   "execution_count": 105,
   "metadata": {},
   "outputs": [],
   "source": [
    "df = _fill_nulls(df)"
   ]
  },
  {
   "cell_type": "code",
   "execution_count": 106,
   "metadata": {},
   "outputs": [
    {
     "name": "stdout",
     "output_type": "stream",
     "text": [
      "<class 'pandas.core.frame.DataFrame'>\n",
      "RangeIndex: 1309 entries, 0 to 1308\n",
      "Data columns (total 11 columns):\n",
      " #   Column     Non-Null Count  Dtype  \n",
      "---  ------     --------------  -----  \n",
      " 0   pclass     1309 non-null   object \n",
      " 1   survived   1309 non-null   int32  \n",
      " 2   name       1309 non-null   object \n",
      " 3   sex        1309 non-null   object \n",
      " 4   age        1309 non-null   float64\n",
      " 5   sibsp      1309 non-null   int32  \n",
      " 6   parch      1309 non-null   int32  \n",
      " 7   embarked   1309 non-null   object \n",
      " 8   home_dest  1309 non-null   object \n",
      " 9   train      1309 non-null   bool   \n",
      " 10  log_fare   1309 non-null   float64\n",
      "dtypes: bool(1), float64(2), int32(3), object(5)\n",
      "memory usage: 88.3+ KB\n"
     ]
    }
   ],
   "source": [
    "df.toPandas().info()"
   ]
  },
  {
   "cell_type": "code",
   "execution_count": 107,
   "metadata": {},
   "outputs": [
    {
     "name": "stdout",
     "output_type": "stream",
     "text": [
      "+--------+-----+\n",
      "|embarked|count|\n",
      "+--------+-----+\n",
      "|       S|  916|\n",
      "|       C|  270|\n",
      "|       Q|  123|\n",
      "+--------+-----+\n",
      "\n"
     ]
    }
   ],
   "source": [
    "df.select('embarked').groupBy('embarked').count().orderBy(f.desc('count')).show()"
   ]
  },
  {
   "cell_type": "code",
   "execution_count": 108,
   "metadata": {},
   "outputs": [
    {
     "name": "stdout",
     "output_type": "stream",
     "text": [
      "+----+-----+\n",
      "| age|count|\n",
      "+----+-----+\n",
      "|28.0|  295|\n",
      "|24.0|   47|\n",
      "|22.0|   43|\n",
      "|21.0|   41|\n",
      "|30.0|   40|\n",
      "|18.0|   39|\n",
      "|25.0|   34|\n",
      "|36.0|   31|\n",
      "|29.0|   30|\n",
      "|27.0|   30|\n",
      "|26.0|   30|\n",
      "|19.0|   29|\n",
      "|23.0|   26|\n",
      "|32.0|   24|\n",
      "|20.0|   23|\n",
      "|31.0|   23|\n",
      "|35.0|   23|\n",
      "|33.0|   21|\n",
      "|45.0|   21|\n",
      "|39.0|   20|\n",
      "+----+-----+\n",
      "only showing top 20 rows\n",
      "\n"
     ]
    }
   ],
   "source": [
    "df.select('age').groupBy('age').count().orderBy(f.desc('count')).show()"
   ]
  },
  {
   "cell_type": "markdown",
   "metadata": {},
   "source": [
    "## Ejercicio 5: Ingenieria de Atributos"
   ]
  },
  {
   "cell_type": "code",
   "execution_count": 109,
   "metadata": {},
   "outputs": [
    {
     "name": "stdout",
     "output_type": "stream",
     "text": [
      "+--------------------+\n",
      "|                name|\n",
      "+--------------------+\n",
      "|Allen, Miss. Elis...|\n",
      "|Allison, Master. ...|\n",
      "|Allison, Miss. He...|\n",
      "|Allison, Mr. Huds...|\n",
      "|Allison, Mrs. Hud...|\n",
      "| Anderson, Mr. Harry|\n",
      "|Andrews, Miss. Ko...|\n",
      "|Andrews, Mr. Thom...|\n",
      "|Appleton, Mrs. Ed...|\n",
      "|Artagaveytia, Mr....|\n",
      "+--------------------+\n",
      "only showing top 10 rows\n",
      "\n"
     ]
    }
   ],
   "source": [
    "df.select('name').show(10)"
   ]
  },
  {
   "cell_type": "code",
   "execution_count": 110,
   "metadata": {},
   "outputs": [
    {
     "name": "stdout",
     "output_type": "stream",
     "text": [
      "+------+\n",
      "| title|\n",
      "+------+\n",
      "|  Miss|\n",
      "|Master|\n",
      "|  Miss|\n",
      "|    Mr|\n",
      "|   Mrs|\n",
      "+------+\n",
      "only showing top 5 rows\n",
      "\n"
     ]
    }
   ],
   "source": [
    "df.select(f.trim(f.split(f.split(f.col('name'), ', ')[1], '. ')[0]).alias('title')).show(5)"
   ]
  },
  {
   "cell_type": "code",
   "execution_count": 111,
   "metadata": {},
   "outputs": [],
   "source": [
    "df = df.withColumn('title', f.trim(f.split(f.split(df['name'], ', ')[1], '. ')[0]))"
   ]
  },
  {
   "cell_type": "code",
   "execution_count": 112,
   "metadata": {},
   "outputs": [
    {
     "name": "stdout",
     "output_type": "stream",
     "text": [
      "+------+\n",
      "| title|\n",
      "+------+\n",
      "|  Miss|\n",
      "|Master|\n",
      "|  Miss|\n",
      "|    Mr|\n",
      "|   Mrs|\n",
      "|    Mr|\n",
      "|  Miss|\n",
      "|    Mr|\n",
      "|   Mrs|\n",
      "|    Mr|\n",
      "|   Col|\n",
      "|   Mrs|\n",
      "|   Mme|\n",
      "|  Miss|\n",
      "|    Mr|\n",
      "|    Mr|\n",
      "|    Mr|\n",
      "|   Mrs|\n",
      "|  Miss|\n",
      "|    Mr|\n",
      "+------+\n",
      "only showing top 20 rows\n",
      "\n"
     ]
    }
   ],
   "source": [
    "df.select('title').show()"
   ]
  },
  {
   "cell_type": "code",
   "execution_count": 113,
   "metadata": {},
   "outputs": [
    {
     "name": "stdout",
     "output_type": "stream",
     "text": [
      "+------+-----+\n",
      "| title|count|\n",
      "+------+-----+\n",
      "|    Mr|  757|\n",
      "|  Miss|  260|\n",
      "|   Mrs|  197|\n",
      "|Master|   61|\n",
      "|    Dr|    8|\n",
      "+------+-----+\n",
      "only showing top 5 rows\n",
      "\n"
     ]
    }
   ],
   "source": [
    "title_valcounts = df.select('title').groupBy('title').count().orderBy(f.desc('count'))\n",
    "title_valcounts.show(5)"
   ]
  },
  {
   "cell_type": "code",
   "execution_count": 114,
   "metadata": {},
   "outputs": [
    {
     "data": {
      "text/plain": [
       "['Dr',\n",
       " 'Rev',\n",
       " 'Col',\n",
       " 'Major',\n",
       " 'Mlle',\n",
       " 'Ms',\n",
       " 'Lady',\n",
       " 'Mme',\n",
       " 'Capt',\n",
       " 'Sir',\n",
       " 'Dona',\n",
       " 'Jonkheer',\n",
       " 'th',\n",
       " 'Don']"
      ]
     },
     "execution_count": 114,
     "metadata": {},
     "output_type": "execute_result"
    }
   ],
   "source": [
    "other_titles = [str(i.title) for i in title_valcounts.select('title').collect()][4:]\n",
    "other_titles"
   ]
  },
  {
   "cell_type": "code",
   "execution_count": 115,
   "metadata": {},
   "outputs": [],
   "source": [
    "df = df.withColumn('title', when(df['title'].isin(*other_titles), 'other').otherwise(df['title']))"
   ]
  },
  {
   "cell_type": "code",
   "execution_count": 116,
   "metadata": {},
   "outputs": [
    {
     "name": "stdout",
     "output_type": "stream",
     "text": [
      "+------+-----+\n",
      "| title|count|\n",
      "+------+-----+\n",
      "|  Miss|  260|\n",
      "|Master|   61|\n",
      "|    Mr|  757|\n",
      "| other|   34|\n",
      "|   Mrs|  197|\n",
      "+------+-----+\n",
      "\n"
     ]
    }
   ],
   "source": [
    "df.select('title').groupBy('title').count().show()"
   ]
  },
  {
   "cell_type": "code",
   "execution_count": 117,
   "metadata": {},
   "outputs": [],
   "source": [
    "df = df.withColumn('title', when(df['title'] == 'Miss', 'Mrs').otherwise(df['title']))"
   ]
  },
  {
   "cell_type": "code",
   "execution_count": 118,
   "metadata": {},
   "outputs": [
    {
     "name": "stdout",
     "output_type": "stream",
     "text": [
      "+------+-----+\n",
      "| title|count|\n",
      "+------+-----+\n",
      "|Master|   61|\n",
      "|    Mr|  757|\n",
      "| other|   34|\n",
      "|   Mrs|  457|\n",
      "+------+-----+\n",
      "\n"
     ]
    }
   ],
   "source": [
    "df.select('title').groupBy('title').count().show()"
   ]
  },
  {
   "cell_type": "code",
   "execution_count": 119,
   "metadata": {},
   "outputs": [],
   "source": [
    "df = df.drop('name')"
   ]
  },
  {
   "cell_type": "code",
   "execution_count": 120,
   "metadata": {},
   "outputs": [
    {
     "data": {
      "image/png": "[encoded data removed]",
      "text/plain": [
       "<Figure size 432x288 with 1 Axes>"
      ]
     },
     "metadata": {
      "needs_background": "light"
     },
     "output_type": "display_data"
    }
   ],
   "source": [
    "g = sns.countplot(df.select('title').toPandas().squeeze())"
   ]
  },
  {
   "cell_type": "code",
   "execution_count": 121,
   "metadata": {},
   "outputs": [
    {
     "data": {
      "image/png": "[encoded data removed]",
      "text/plain": [
       "<Figure size 360x360 with 1 Axes>"
      ]
     },
     "metadata": {
      "needs_background": "light"
     },
     "output_type": "display_data"
    }
   ],
   "source": [
    "g = sns.catplot(x='title',y='survived',data=df.toPandas(),kind=\"bar\")"
   ]
  },
  {
   "cell_type": "code",
   "execution_count": 122,
   "metadata": {},
   "outputs": [
    {
     "name": "stdout",
     "output_type": "stream",
     "text": [
      "root\n",
      " |-- pclass: string (nullable = false)\n",
      " |-- survived: integer (nullable = true)\n",
      " |-- sex: string (nullable = false)\n",
      " |-- age: double (nullable = false)\n",
      " |-- sibsp: integer (nullable = true)\n",
      " |-- parch: integer (nullable = true)\n",
      " |-- embarked: string (nullable = false)\n",
      " |-- home_dest: string (nullable = false)\n",
      " |-- train: boolean (nullable = false)\n",
      " |-- log_fare: double (nullable = false)\n",
      " |-- title: string (nullable = true)\n",
      "\n"
     ]
    }
   ],
   "source": [
    "df.printSchema()"
   ]
  },
  {
   "cell_type": "code",
   "execution_count": 123,
   "metadata": {},
   "outputs": [
    {
     "name": "stdout",
     "output_type": "stream",
     "text": [
      "+-----+-----+-----------+\n",
      "|parch|sibsp|family_size|\n",
      "+-----+-----+-----------+\n",
      "|    0|    0|          1|\n",
      "|    2|    1|          4|\n",
      "|    2|    1|          4|\n",
      "|    2|    1|          4|\n",
      "|    2|    1|          4|\n",
      "|    0|    0|          1|\n",
      "|    0|    1|          2|\n",
      "|    0|    0|          1|\n",
      "|    0|    2|          3|\n",
      "|    0|    0|          1|\n",
      "+-----+-----+-----------+\n",
      "only showing top 10 rows\n",
      "\n"
     ]
    }
   ],
   "source": [
    "# Tamaño de familia\n",
    "df = df.withColumn('family_size', df['parch'] + df['sibsp'] + 1)\n",
    "df.select('parch', 'sibsp', 'family_size').show(10)"
   ]
  },
  {
   "cell_type": "code",
   "execution_count": 124,
   "metadata": {},
   "outputs": [
    {
     "name": "stdout",
     "output_type": "stream",
     "text": [
      "+-----------+-------------+------------+------------+\n",
      "|family_size|family_single|family_small|family_large|\n",
      "+-----------+-------------+------------+------------+\n",
      "|          1|            1|           0|           0|\n",
      "|          4|            0|           1|           0|\n",
      "|          4|            0|           1|           0|\n",
      "|          4|            0|           1|           0|\n",
      "|          4|            0|           1|           0|\n",
      "|          1|            1|           0|           0|\n",
      "|          2|            0|           1|           0|\n",
      "|          1|            1|           0|           0|\n",
      "|          3|            0|           1|           0|\n",
      "|          1|            1|           0|           0|\n",
      "+-----------+-------------+------------+------------+\n",
      "only showing top 10 rows\n",
      "\n"
     ]
    }
   ],
   "source": [
    "df = df.withColumn('family_single', when(df['family_size'] == 1, 1).otherwise(0))\n",
    "df = df.withColumn('family_small', when((df['family_size'] > 1) & (df['family_size'] <= 4), 1).otherwise(0))\n",
    "df = df.withColumn('family_large', when(df['family_size'] > 4, 1).otherwise(0))\n",
    "df.select('family_size', 'family_single', 'family_small', 'family_large').show(10)\n",
    "df = df.drop('family_size')"
   ]
  },
  {
   "cell_type": "code",
   "execution_count": 125,
   "metadata": {},
   "outputs": [
    {
     "data": {
      "text/plain": [
       "['pclass',\n",
       " 'survived',\n",
       " 'sex',\n",
       " 'age',\n",
       " 'sibsp',\n",
       " 'parch',\n",
       " 'embarked',\n",
       " 'home_dest',\n",
       " 'train',\n",
       " 'log_fare',\n",
       " 'title',\n",
       " 'family_single',\n",
       " 'family_small',\n",
       " 'family_large']"
      ]
     },
     "execution_count": 125,
     "metadata": {},
     "output_type": "execute_result"
    }
   ],
   "source": [
    "df.columns"
   ]
  },
  {
   "cell_type": "code",
   "execution_count": 126,
   "metadata": {},
   "outputs": [
    {
     "data": {
      "image/png": "[encoded data removed]",
      "text/plain": [
       "<Figure size 360x360 with 1 Axes>"
      ]
     },
     "metadata": {
      "needs_background": "light"
     },
     "output_type": "display_data"
    },
    {
     "data": {
      "image/png": "[encoded data removed]",
      "text/plain": [
       "<Figure size 360x360 with 1 Axes>"
      ]
     },
     "metadata": {
      "needs_background": "light"
     },
     "output_type": "display_data"
    },
    {
     "data": {
      "image/png": "[encoded data removed]",
      "text/plain": [
       "<Figure size 360x360 with 1 Axes>"
      ]
     },
     "metadata": {
      "needs_background": "light"
     },
     "output_type": "display_data"
    }
   ],
   "source": [
    "for fsize in ['single', 'small', 'large']:\n",
    "    g = sns.catplot(x=f'family_{fsize}',y='survived',data=df.toPandas(),kind=\"bar\")\n",
    "    g = g.set_ylabels(\"Survival Probability\")"
   ]
  },
  {
   "cell_type": "markdown",
   "metadata": {},
   "source": [
    "## Ejercicio 6: Fitteo de regresión logistica"
   ]
  },
  {
   "cell_type": "code",
   "execution_count": 127,
   "metadata": {},
   "outputs": [
    {
     "name": "stdout",
     "output_type": "stream",
     "text": [
      "+------+---------+----+----+\n",
      "|target|numerical|cat1|cat2|\n",
      "+------+---------+----+----+\n",
      "|     1|     10.1|   a|   i|\n",
      "|     0|     14.3|   b|   x|\n",
      "|     0|      3.0|   c|  iv|\n",
      "|     1|      2.5|   c|  iv|\n",
      "|     1|      5.4|   b|   i|\n",
      "|     0|      9.7|   a|   x|\n",
      "+------+---------+----+----+\n",
      "\n",
      "+------+---------+----+----+--------+--------+\n",
      "|target|numerical|cat1|cat2|cat1_num|cat2_num|\n",
      "+------+---------+----+----+--------+--------+\n",
      "|     1|     10.1|   a|   i|     1.0|     1.0|\n",
      "|     0|     14.3|   b|   x|     0.0|     0.0|\n",
      "|     0|      3.0|   c|  iv|     2.0|     2.0|\n",
      "|     1|      2.5|   c|  iv|     2.0|     2.0|\n",
      "|     1|      5.4|   b|   i|     0.0|     1.0|\n",
      "|     0|      9.7|   a|   x|     1.0|     0.0|\n",
      "+------+---------+----+----+--------+--------+\n",
      "\n",
      "+------+---------+----+----+--------+--------+-------------+-------------+\n",
      "|target|numerical|cat1|cat2|cat1_num|cat2_num|     cat1_vec|     cat2_vec|\n",
      "+------+---------+----+----+--------+--------+-------------+-------------+\n",
      "|     1|     10.1|   a|   i|     1.0|     1.0|(2,[1],[1.0])|(2,[1],[1.0])|\n",
      "|     0|     14.3|   b|   x|     0.0|     0.0|(2,[0],[1.0])|(2,[0],[1.0])|\n",
      "|     0|      3.0|   c|  iv|     2.0|     2.0|    (2,[],[])|    (2,[],[])|\n",
      "|     1|      2.5|   c|  iv|     2.0|     2.0|    (2,[],[])|    (2,[],[])|\n",
      "|     1|      5.4|   b|   i|     0.0|     1.0|(2,[0],[1.0])|(2,[1],[1.0])|\n",
      "|     0|      9.7|   a|   x|     1.0|     0.0|(2,[1],[1.0])|(2,[0],[1.0])|\n",
      "+------+---------+----+----+--------+--------+-------------+-------------+\n",
      "\n",
      "+------+---------+-------------+-------------+\n",
      "|target|numerical|     cat1_vec|     cat2_vec|\n",
      "+------+---------+-------------+-------------+\n",
      "|     1|     10.1|(2,[1],[1.0])|(2,[1],[1.0])|\n",
      "|     0|     14.3|(2,[0],[1.0])|(2,[0],[1.0])|\n",
      "|     0|      3.0|    (2,[],[])|    (2,[],[])|\n",
      "|     1|      2.5|    (2,[],[])|    (2,[],[])|\n",
      "|     1|      5.4|(2,[0],[1.0])|(2,[1],[1.0])|\n",
      "|     0|      9.7|(2,[1],[1.0])|(2,[0],[1.0])|\n",
      "+------+---------+-------------+-------------+\n",
      "\n",
      "+------+---------+-------------+-------------+--------------------+\n",
      "|target|numerical|     cat1_vec|     cat2_vec|            features|\n",
      "+------+---------+-------------+-------------+--------------------+\n",
      "|     1|     10.1|(2,[1],[1.0])|(2,[1],[1.0])|[10.1,0.0,1.0,0.0...|\n",
      "|     0|     14.3|(2,[0],[1.0])|(2,[0],[1.0])|[14.3,1.0,0.0,1.0...|\n",
      "|     0|      3.0|    (2,[],[])|    (2,[],[])|       (5,[0],[3.0])|\n",
      "|     1|      2.5|    (2,[],[])|    (2,[],[])|       (5,[0],[2.5])|\n",
      "|     1|      5.4|(2,[0],[1.0])|(2,[1],[1.0])|[5.4,1.0,0.0,0.0,...|\n",
      "|     0|      9.7|(2,[1],[1.0])|(2,[0],[1.0])|[9.7,0.0,1.0,1.0,...|\n",
      "+------+---------+-------------+-------------+--------------------+\n",
      "\n"
     ]
    }
   ],
   "source": [
    "# Data sintetica\n",
    "df1 = spark.createDataFrame([\n",
    "    (1, 10.1, 'a', 'i'),\n",
    "    (0, 14.3, 'b', 'x'),\n",
    "    (0, 3.0, 'c', 'iv'),\n",
    "    (1, 2.5, 'c', 'iv'),\n",
    "    (1, 5.4, 'b', 'i'),\n",
    "    (0, 9.7, 'a', 'x')\n",
    "], ['target', 'numerical', 'cat1', 'cat2'])\n",
    "df1.show()\n",
    "\n",
    "# Convertir strings en numericos\n",
    "from pyspark.ml.feature import StringIndexer\n",
    "\n",
    "cat_cols = ['cat1', 'cat2']\n",
    "for cat in cat_cols:\n",
    "    cat_suff = f'{cat}_num'\n",
    "    if cat_suff not in df1.columns:\n",
    "        indexer = StringIndexer(inputCol=cat, outputCol=cat_suff).fit(df1)\n",
    "        df1 = indexer.transform(df1)\n",
    "df1.show()\n",
    "\n",
    "# Hacer OneHotEnconding\n",
    "from pyspark.ml.feature import OneHotEncoderEstimator\n",
    "\n",
    "encoder = OneHotEncoderEstimator(inputCols=['cat1_num', 'cat2_num'], outputCols=['cat1_vec', 'cat2_vec'])\n",
    "ohem = encoder.fit(df1)\n",
    "df1 = ohem.transform(df1)\n",
    "df1.show()\n",
    "\n",
    "# Armar columna de features\n",
    "df1 = df1.select('target','numerical', 'cat1_vec', 'cat2_vec')\n",
    "df1.show()\n",
    "from pyspark.ml.feature import VectorAssembler\n",
    "\n",
    "assembler = VectorAssembler(inputCols=[c for c in df1.columns if c != 'target'], outputCol='features')\n",
    "assembler.transform(df1).show()"
   ]
  },
  {
   "cell_type": "code",
   "execution_count": 128,
   "metadata": {},
   "outputs": [
    {
     "data": {
      "text/plain": [
       "(['pclass',\n",
       "  'survived',\n",
       "  'sex',\n",
       "  'age',\n",
       "  'sibsp',\n",
       "  'parch',\n",
       "  'embarked',\n",
       "  'home_dest',\n",
       "  'train',\n",
       "  'log_fare',\n",
       "  'title',\n",
       "  'family_single',\n",
       "  'family_small',\n",
       "  'family_large'],\n",
       " ['pclass', 'sex', 'embarked', 'home_dest', 'title'],\n",
       " ['age',\n",
       "  'sibsp',\n",
       "  'parch',\n",
       "  'log_fare',\n",
       "  'family_single',\n",
       "  'family_small',\n",
       "  'family_large'])"
      ]
     },
     "execution_count": 128,
     "metadata": {},
     "output_type": "execute_result"
    }
   ],
   "source": [
    "num_cols = _get_typed_cols(df, col_type='num')\n",
    "cat_cols = _get_typed_cols(df, col_type='cat')\n",
    "df.columns, cat_cols, num_cols"
   ]
  },
  {
   "cell_type": "code",
   "execution_count": 129,
   "metadata": {},
   "outputs": [
    {
     "data": {
      "text/plain": [
       "['pclass', 'sex', 'embarked', 'home_dest', 'title']"
      ]
     },
     "execution_count": 129,
     "metadata": {},
     "output_type": "execute_result"
    }
   ],
   "source": [
    "cat_cols"
   ]
  },
  {
   "cell_type": "code",
   "execution_count": 130,
   "metadata": {},
   "outputs": [],
   "source": [
    "from pyspark.ml.feature import StringIndexer\n",
    "\n",
    "def _encode_categorical(df):\n",
    "    cat_cols = _get_typed_cols(df, col_type='cat')\n",
    "    logger.info(f\"Categorical columns:\\n {cat_cols}\")\n",
    "    encoded_cols = []\n",
    "    for cat in cat_cols:\n",
    "        cat_suff = f'{cat}_num'\n",
    "        encoded_cols.append(cat_suff)\n",
    "        if cat_suff not in df.columns:\n",
    "            indexer = StringIndexer(inputCol=cat, outputCol=cat_suff).fit(df)\n",
    "            df = indexer.transform(df)\n",
    "    return df, encoded_cols"
   ]
  },
  {
   "cell_type": "code",
   "execution_count": 131,
   "metadata": {},
   "outputs": [
    {
     "name": "stderr",
     "output_type": "stream",
     "text": [
      "2022-10-25 20:53:27,271-__main__-INFO: Categorical columns:\n",
      " ['pclass', 'sex', 'embarked', 'home_dest', 'title']\n"
     ]
    },
    {
     "name": "stdout",
     "output_type": "stream",
     "text": [
      "+------+--------+------+----+-----+-----+--------+--------------------+-----+------------------+------+-------------+------------+------------+----------+-------+------------+-------------+---------+\n",
      "|pclass|survived|   sex| age|sibsp|parch|embarked|           home_dest|train|          log_fare| title|family_single|family_small|family_large|pclass_num|sex_num|embarked_num|home_dest_num|title_num|\n",
      "+------+--------+------+----+-----+-----+--------+--------------------+-----+------------------+------+-------------+------------+------------+----------+-------+------------+-------------+---------+\n",
      "|     1|       1|female|29.0|    0|    0|       S|        St Louis, MO| true|  5.35817698994543|   Mrs|            1|           0|           0|       1.0|    1.0|         0.0|         23.0|      1.0|\n",
      "|     1|       1|  male|0.92|    1|    2|       S|Montreal, PQ / Ch...| true| 5.027492411162679|Master|            0|           1|           0|       1.0|    0.0|         0.0|         36.0|      2.0|\n",
      "|     1|       0|female| 2.0|    1|    2|       S|Montreal, PQ / Ch...| true| 5.027492411162679|   Mrs|            0|           1|           0|       1.0|    1.0|         0.0|         36.0|      1.0|\n",
      "|     1|       0|  male|30.0|    1|    2|       S|Montreal, PQ / Ch...| true| 5.027492411162679|    Mr|            0|           1|           0|       1.0|    0.0|         0.0|         36.0|      0.0|\n",
      "|     1|       0|female|25.0|    1|    2|       S|Montreal, PQ / Ch...| true| 5.027492411162679|   Mrs|            0|           1|           0|       1.0|    1.0|         0.0|         36.0|      1.0|\n",
      "|     1|       1|  male|48.0|    0|    0|       S|        New York, NY| true|3.3160025355989236|    Mr|            1|           0|           0|       1.0|    0.0|         0.0|          0.0|      0.0|\n",
      "|     1|       1|female|63.0|    1|    0|       S|          Hudson, NY|false| 4.368919865004903|   Mrs|            0|           1|           0|       1.0|    1.0|         0.0|         59.0|      1.0|\n",
      "|     1|       0|  male|39.0|    0|    0|       S|         Belfast, NI| true|               0.0|    Mr|            1|           0|           0|       1.0|    0.0|         0.0|        241.0|      0.0|\n",
      "|     1|       1|female|53.0|    2|    0|       S| Bayside, Queens, NY| true| 3.960416900617205|   Mrs|            0|           1|           0|       1.0|    1.0|         0.0|        152.0|      1.0|\n",
      "|     1|       0|  male|71.0|    0|    0|       C| Montevideo, Uruguay| true| 3.922056501139853|    Mr|            1|           0|           0|       1.0|    0.0|         1.0|         44.0|      0.0|\n",
      "|     1|       0|  male|47.0|    1|    0|       C|        New York, NY| true|5.4316456135398825| other|            0|           1|           0|       1.0|    0.0|         1.0|          0.0|      3.0|\n",
      "|     1|       1|female|18.0|    1|    0|       C|        New York, NY|false|5.4316456135398825|   Mrs|            0|           1|           0|       1.0|    1.0|         1.0|          0.0|      1.0|\n",
      "|     1|       1|female|24.0|    0|    0|       C|       Paris, France| true| 4.252771798816619| other|            1|           0|           0|       1.0|    1.0|         1.0|          3.0|      3.0|\n",
      "|     1|       1|female|26.0|    0|    0|       S|        New York, NY| true| 4.380149874661021|   Mrs|            1|           0|           0|       1.0|    1.0|         0.0|          0.0|      1.0|\n",
      "|     1|       1|  male|80.0|    0|    0|       S|       Hessle, Yorks|false|3.4339872044851463|    Mr|            1|           0|           0|       1.0|    0.0|         0.0|        227.0|      0.0|\n",
      "|     1|       0|  male|28.0|    0|    0|       S|        New York, NY|false|3.2930552230424524|    Mr|            1|           0|           0|       1.0|    0.0|         0.0|          0.0|      0.0|\n",
      "|     1|       0|  male|24.0|    0|    1|       C|        Montreal, PQ|false| 5.515526544247129|    Mr|            0|           1|           0|       1.0|    0.0|         1.0|          2.0|      0.0|\n",
      "|     1|       1|female|50.0|    0|    1|       C|        Montreal, PQ| true| 5.515526544247129|   Mrs|            0|           1|           0|       1.0|    1.0|         1.0|          2.0|      1.0|\n",
      "|     1|       1|female|32.0|    0|    0|       C|        New York, NY|false| 4.347586575960343|   Mrs|            1|           0|           0|       1.0|    1.0|         1.0|          0.0|      1.0|\n",
      "|     1|       0|  male|36.0|    0|    0|       C|        Winnipeg, MN|false| 4.333908557103646|    Mr|            1|           0|           0|       1.0|    0.0|         1.0|        356.0|      0.0|\n",
      "+------+--------+------+----+-----+-----+--------+--------------------+-----+------------------+------+-------------+------------+------------+----------+-------+------------+-------------+---------+\n",
      "only showing top 20 rows\n",
      "\n"
     ]
    }
   ],
   "source": [
    "df, encoded_cols = _encode_categorical(df)\n",
    "df.show()"
   ]
  },
  {
   "cell_type": "code",
   "execution_count": 132,
   "metadata": {},
   "outputs": [
    {
     "data": {
      "text/plain": [
       "['age',\n",
       " 'sibsp',\n",
       " 'parch',\n",
       " 'log_fare',\n",
       " 'family_single',\n",
       " 'family_small',\n",
       " 'family_large',\n",
       " 'pclass_num',\n",
       " 'sex_num',\n",
       " 'embarked_num',\n",
       " 'home_dest_num',\n",
       " 'title_num']"
      ]
     },
     "execution_count": 132,
     "metadata": {},
     "output_type": "execute_result"
    }
   ],
   "source": [
    "feature_cols = num_cols + encoded_cols\n",
    "feature_cols"
   ]
  },
  {
   "cell_type": "code",
   "execution_count": 133,
   "metadata": {},
   "outputs": [
    {
     "name": "stdout",
     "output_type": "stream",
     "text": [
      "+------+--------+------+----+-----+-----+--------+--------------------+-----+------------------+------+-------------+------------+------------+----------+-------+------------+-------------+---------+--------------+-------------+-------------+-----------------+----------------+\n",
      "|pclass|survived|   sex| age|sibsp|parch|embarked|           home_dest|train|          log_fare| title|family_single|family_small|family_large|pclass_num|sex_num|embarked_num|home_dest_num|title_num|pclass_num_vec|title_num_vec|  sex_num_vec|home_dest_num_vec|embarked_num_vec|\n",
      "+------+--------+------+----+-----+-----+--------+--------------------+-----+------------------+------+-------------+------------+------------+----------+-------+------------+-------------+---------+--------------+-------------+-------------+-----------------+----------------+\n",
      "|     1|       1|female|29.0|    0|    0|       S|        St Louis, MO| true|  5.35817698994543|   Mrs|            1|           0|           0|       1.0|    1.0|         0.0|         23.0|      1.0| (2,[1],[1.0])|(3,[1],[1.0])|    (1,[],[])| (368,[23],[1.0])|   (2,[0],[1.0])|\n",
      "|     1|       1|  male|0.92|    1|    2|       S|Montreal, PQ / Ch...| true| 5.027492411162679|Master|            0|           1|           0|       1.0|    0.0|         0.0|         36.0|      2.0| (2,[1],[1.0])|(3,[2],[1.0])|(1,[0],[1.0])| (368,[36],[1.0])|   (2,[0],[1.0])|\n",
      "|     1|       0|female| 2.0|    1|    2|       S|Montreal, PQ / Ch...| true| 5.027492411162679|   Mrs|            0|           1|           0|       1.0|    1.0|         0.0|         36.0|      1.0| (2,[1],[1.0])|(3,[1],[1.0])|    (1,[],[])| (368,[36],[1.0])|   (2,[0],[1.0])|\n",
      "|     1|       0|  male|30.0|    1|    2|       S|Montreal, PQ / Ch...| true| 5.027492411162679|    Mr|            0|           1|           0|       1.0|    0.0|         0.0|         36.0|      0.0| (2,[1],[1.0])|(3,[0],[1.0])|(1,[0],[1.0])| (368,[36],[1.0])|   (2,[0],[1.0])|\n",
      "|     1|       0|female|25.0|    1|    2|       S|Montreal, PQ / Ch...| true| 5.027492411162679|   Mrs|            0|           1|           0|       1.0|    1.0|         0.0|         36.0|      1.0| (2,[1],[1.0])|(3,[1],[1.0])|    (1,[],[])| (368,[36],[1.0])|   (2,[0],[1.0])|\n",
      "|     1|       1|  male|48.0|    0|    0|       S|        New York, NY| true|3.3160025355989236|    Mr|            1|           0|           0|       1.0|    0.0|         0.0|          0.0|      0.0| (2,[1],[1.0])|(3,[0],[1.0])|(1,[0],[1.0])|  (368,[0],[1.0])|   (2,[0],[1.0])|\n",
      "|     1|       1|female|63.0|    1|    0|       S|          Hudson, NY|false| 4.368919865004903|   Mrs|            0|           1|           0|       1.0|    1.0|         0.0|         59.0|      1.0| (2,[1],[1.0])|(3,[1],[1.0])|    (1,[],[])| (368,[59],[1.0])|   (2,[0],[1.0])|\n",
      "|     1|       0|  male|39.0|    0|    0|       S|         Belfast, NI| true|               0.0|    Mr|            1|           0|           0|       1.0|    0.0|         0.0|        241.0|      0.0| (2,[1],[1.0])|(3,[0],[1.0])|(1,[0],[1.0])|(368,[241],[1.0])|   (2,[0],[1.0])|\n",
      "|     1|       1|female|53.0|    2|    0|       S| Bayside, Queens, NY| true| 3.960416900617205|   Mrs|            0|           1|           0|       1.0|    1.0|         0.0|        152.0|      1.0| (2,[1],[1.0])|(3,[1],[1.0])|    (1,[],[])|(368,[152],[1.0])|   (2,[0],[1.0])|\n",
      "|     1|       0|  male|71.0|    0|    0|       C| Montevideo, Uruguay| true| 3.922056501139853|    Mr|            1|           0|           0|       1.0|    0.0|         1.0|         44.0|      0.0| (2,[1],[1.0])|(3,[0],[1.0])|(1,[0],[1.0])| (368,[44],[1.0])|   (2,[1],[1.0])|\n",
      "|     1|       0|  male|47.0|    1|    0|       C|        New York, NY| true|5.4316456135398825| other|            0|           1|           0|       1.0|    0.0|         1.0|          0.0|      3.0| (2,[1],[1.0])|    (3,[],[])|(1,[0],[1.0])|  (368,[0],[1.0])|   (2,[1],[1.0])|\n",
      "|     1|       1|female|18.0|    1|    0|       C|        New York, NY|false|5.4316456135398825|   Mrs|            0|           1|           0|       1.0|    1.0|         1.0|          0.0|      1.0| (2,[1],[1.0])|(3,[1],[1.0])|    (1,[],[])|  (368,[0],[1.0])|   (2,[1],[1.0])|\n",
      "|     1|       1|female|24.0|    0|    0|       C|       Paris, France| true| 4.252771798816619| other|            1|           0|           0|       1.0|    1.0|         1.0|          3.0|      3.0| (2,[1],[1.0])|    (3,[],[])|    (1,[],[])|  (368,[3],[1.0])|   (2,[1],[1.0])|\n",
      "|     1|       1|female|26.0|    0|    0|       S|        New York, NY| true| 4.380149874661021|   Mrs|            1|           0|           0|       1.0|    1.0|         0.0|          0.0|      1.0| (2,[1],[1.0])|(3,[1],[1.0])|    (1,[],[])|  (368,[0],[1.0])|   (2,[0],[1.0])|\n",
      "|     1|       1|  male|80.0|    0|    0|       S|       Hessle, Yorks|false|3.4339872044851463|    Mr|            1|           0|           0|       1.0|    0.0|         0.0|        227.0|      0.0| (2,[1],[1.0])|(3,[0],[1.0])|(1,[0],[1.0])|(368,[227],[1.0])|   (2,[0],[1.0])|\n",
      "|     1|       0|  male|28.0|    0|    0|       S|        New York, NY|false|3.2930552230424524|    Mr|            1|           0|           0|       1.0|    0.0|         0.0|          0.0|      0.0| (2,[1],[1.0])|(3,[0],[1.0])|(1,[0],[1.0])|  (368,[0],[1.0])|   (2,[0],[1.0])|\n",
      "|     1|       0|  male|24.0|    0|    1|       C|        Montreal, PQ|false| 5.515526544247129|    Mr|            0|           1|           0|       1.0|    0.0|         1.0|          2.0|      0.0| (2,[1],[1.0])|(3,[0],[1.0])|(1,[0],[1.0])|  (368,[2],[1.0])|   (2,[1],[1.0])|\n",
      "|     1|       1|female|50.0|    0|    1|       C|        Montreal, PQ| true| 5.515526544247129|   Mrs|            0|           1|           0|       1.0|    1.0|         1.0|          2.0|      1.0| (2,[1],[1.0])|(3,[1],[1.0])|    (1,[],[])|  (368,[2],[1.0])|   (2,[1],[1.0])|\n",
      "|     1|       1|female|32.0|    0|    0|       C|        New York, NY|false| 4.347586575960343|   Mrs|            1|           0|           0|       1.0|    1.0|         1.0|          0.0|      1.0| (2,[1],[1.0])|(3,[1],[1.0])|    (1,[],[])|  (368,[0],[1.0])|   (2,[1],[1.0])|\n",
      "|     1|       0|  male|36.0|    0|    0|       C|        Winnipeg, MN|false| 4.333908557103646|    Mr|            1|           0|           0|       1.0|    0.0|         1.0|        356.0|      0.0| (2,[1],[1.0])|(3,[0],[1.0])|(1,[0],[1.0])|(368,[356],[1.0])|   (2,[1],[1.0])|\n",
      "+------+--------+------+----+-----+-----+--------+--------------------+-----+------------------+------+-------------+------------+------------+----------+-------+------------+-------------+---------+--------------+-------------+-------------+-----------------+----------------+\n",
      "only showing top 20 rows\n",
      "\n"
     ]
    }
   ],
   "source": [
    "from pyspark.ml.feature import OneHotEncoderEstimator\n",
    "\n",
    "ohe_cols = [f'{c}_vec' for c in encoded_cols]\n",
    "encoder = OneHotEncoderEstimator(inputCols=encoded_cols, outputCols=ohe_cols)\n",
    "ohem = encoder.fit(df)\n",
    "df = ohem.transform(df)\n",
    "df.show()\n",
    "feature_cols = num_cols + ohe_cols"
   ]
  },
  {
   "cell_type": "code",
   "execution_count": 134,
   "metadata": {},
   "outputs": [
    {
     "name": "stdout",
     "output_type": "stream",
     "text": [
      "root\n",
      " |-- pclass: string (nullable = false)\n",
      " |-- survived: integer (nullable = true)\n",
      " |-- sex: string (nullable = false)\n",
      " |-- age: double (nullable = false)\n",
      " |-- sibsp: integer (nullable = true)\n",
      " |-- parch: integer (nullable = true)\n",
      " |-- embarked: string (nullable = false)\n",
      " |-- home_dest: string (nullable = false)\n",
      " |-- train: boolean (nullable = false)\n",
      " |-- log_fare: double (nullable = false)\n",
      " |-- title: string (nullable = true)\n",
      " |-- family_single: integer (nullable = false)\n",
      " |-- family_small: integer (nullable = false)\n",
      " |-- family_large: integer (nullable = false)\n",
      " |-- pclass_num: double (nullable = false)\n",
      " |-- sex_num: double (nullable = false)\n",
      " |-- embarked_num: double (nullable = false)\n",
      " |-- home_dest_num: double (nullable = false)\n",
      " |-- title_num: double (nullable = false)\n",
      " |-- pclass_num_vec: vector (nullable = true)\n",
      " |-- title_num_vec: vector (nullable = true)\n",
      " |-- sex_num_vec: vector (nullable = true)\n",
      " |-- home_dest_num_vec: vector (nullable = true)\n",
      " |-- embarked_num_vec: vector (nullable = true)\n",
      "\n"
     ]
    }
   ],
   "source": [
    "df.printSchema()"
   ]
  },
  {
   "cell_type": "code",
   "execution_count": 135,
   "metadata": {},
   "outputs": [
    {
     "name": "stdout",
     "output_type": "stream",
     "text": [
      "+--------------------+\n",
      "|            features|\n",
      "+--------------------+\n",
      "|(383,[0,3,4,8,10,...|\n",
      "|(383,[0,1,2,3,5,8...|\n",
      "|(383,[0,1,2,3,5,8...|\n",
      "|(383,[0,1,2,3,5,8...|\n",
      "|(383,[0,1,2,3,5,8...|\n",
      "|(383,[0,3,4,8,9,1...|\n",
      "|(383,[0,1,3,5,8,1...|\n",
      "|(383,[0,4,8,9,10,...|\n",
      "|(383,[0,1,3,5,8,1...|\n",
      "|(383,[0,3,4,8,9,1...|\n",
      "|(383,[0,1,3,5,8,9...|\n",
      "|(383,[0,1,3,5,8,1...|\n",
      "|(383,[0,3,4,8,11,...|\n",
      "|(383,[0,3,4,8,10,...|\n",
      "|(383,[0,3,4,8,9,1...|\n",
      "|(383,[0,3,4,8,9,1...|\n",
      "|(383,[0,2,3,5,8,9...|\n",
      "|(383,[0,2,3,5,8,1...|\n",
      "|(383,[0,3,4,8,11,...|\n",
      "|(383,[0,3,4,8,9,1...|\n",
      "+--------------------+\n",
      "only showing top 20 rows\n",
      "\n"
     ]
    }
   ],
   "source": [
    "from pyspark.ml.feature import VectorAssembler\n",
    "\n",
    "assembler = VectorAssembler(inputCols=feature_cols, outputCol='features')\n",
    "df = assembler.transform(df)\n",
    "df.select('features').show()"
   ]
  },
  {
   "cell_type": "code",
   "execution_count": 136,
   "metadata": {},
   "outputs": [
    {
     "data": {
      "text/plain": [
       "['pclass',\n",
       " 'survived',\n",
       " 'sex',\n",
       " 'age',\n",
       " 'sibsp',\n",
       " 'parch',\n",
       " 'embarked',\n",
       " 'home_dest',\n",
       " 'train',\n",
       " 'log_fare',\n",
       " 'title',\n",
       " 'family_single',\n",
       " 'family_small',\n",
       " 'family_large',\n",
       " 'pclass_num',\n",
       " 'sex_num',\n",
       " 'embarked_num',\n",
       " 'home_dest_num',\n",
       " 'title_num',\n",
       " 'pclass_num_vec',\n",
       " 'title_num_vec',\n",
       " 'sex_num_vec',\n",
       " 'home_dest_num_vec',\n",
       " 'embarked_num_vec',\n",
       " 'features']"
      ]
     },
     "execution_count": 136,
     "metadata": {},
     "output_type": "execute_result"
    }
   ],
   "source": [
    "df.columns"
   ]
  },
  {
   "cell_type": "code",
   "execution_count": 137,
   "metadata": {},
   "outputs": [
    {
     "data": {
      "text/plain": [
       "[Row(train=True), Row(train=True)]"
      ]
     },
     "execution_count": 137,
     "metadata": {},
     "output_type": "execute_result"
    }
   ],
   "source": [
    "df.select('train').take(2)"
   ]
  },
  {
   "cell_type": "code",
   "execution_count": 142,
   "metadata": {},
   "outputs": [
    {
     "name": "stdout",
     "output_type": "stream",
     "text": [
      "+--------+--------------------+\n",
      "|survived|            features|\n",
      "+--------+--------------------+\n",
      "|       1|(383,[0,3,4,8,10,...|\n",
      "|       1|(383,[0,1,2,3,5,8...|\n",
      "|       0|(383,[0,1,2,3,5,8...|\n",
      "|       0|(383,[0,1,2,3,5,8...|\n",
      "|       0|(383,[0,1,2,3,5,8...|\n",
      "|       1|(383,[0,3,4,8,9,1...|\n",
      "|       0|(383,[0,4,8,9,10,...|\n",
      "|       1|(383,[0,1,3,5,8,1...|\n",
      "|       0|(383,[0,3,4,8,9,1...|\n",
      "|       0|(383,[0,1,3,5,8,9...|\n",
      "|       1|(383,[0,3,4,8,11,...|\n",
      "|       1|(383,[0,3,4,8,10,...|\n",
      "|       1|(383,[0,2,3,5,8,1...|\n",
      "|       1|(383,[0,1,2,3,5,8...|\n",
      "|       1|(383,[0,3,4,8,9,1...|\n",
      "|       1|(383,[0,3,4,8,11,...|\n",
      "|       0|(383,[0,3,4,8,9,1...|\n",
      "|       1|(383,[0,1,3,5,8,9...|\n",
      "|       1|(383,[0,1,3,5,8,1...|\n",
      "|       0|(383,[0,3,4,8,9,1...|\n",
      "|       1|(383,[0,3,4,8,9,1...|\n",
      "|       1|(383,[0,3,4,8,10,...|\n",
      "|       1|(383,[0,3,4,8,10,...|\n",
      "|       0|(383,[0,3,4,8,9,1...|\n",
      "|       1|(383,[0,2,3,5,8,1...|\n",
      "|       1|(383,[0,3,4,8,9,1...|\n",
      "|       0|(383,[0,3,4,8,9,1...|\n",
      "|       0|(383,[0,3,4,8,9,1...|\n",
      "|       1|(383,[0,3,4,8,11,...|\n",
      "|       1|(383,[0,3,4,8,11,...|\n",
      "|       0|(383,[0,3,4,8,9,1...|\n",
      "|       0|(383,[0,3,4,8,9,1...|\n",
      "|       1|(383,[0,3,4,8,9,1...|\n",
      "|       1|(383,[0,2,3,5,8,1...|\n",
      "|       0|(383,[0,3,4,8,9,1...|\n",
      "|       1|(383,[0,1,2,3,5,8...|\n",
      "|       0|(383,[0,3,4,8,9,1...|\n",
      "|       0|(383,[0,1,3,5,8,9...|\n",
      "|       1|(383,[0,1,3,5,8,1...|\n",
      "|       1|(383,[0,1,3,5,8,9...|\n",
      "|       1|(383,[0,1,3,5,8,1...|\n",
      "|       1|(383,[0,3,4,8,10,...|\n",
      "|       1|(383,[0,2,3,5,8,1...|\n",
      "|       0|(383,[0,4,8,9,10,...|\n",
      "|       1|(383,[0,1,3,5,8,1...|\n",
      "|       0|(383,[0,3,4,8,9,1...|\n",
      "|       0|(383,[0,3,4,8,9,1...|\n",
      "|       1|(383,[0,1,2,3,5,8...|\n",
      "|       0|(383,[0,1,2,3,5,8...|\n",
      "|       1|(383,[0,2,3,5,8,1...|\n",
      "|       1|(383,[0,1,3,5,8,1...|\n",
      "|       0|(383,[0,3,4,8,9,1...|\n",
      "|       0|(383,[0,1,2,3,5,8...|\n",
      "|       1|(383,[0,1,2,3,5,8...|\n",
      "|       1|(383,[0,1,3,5,8,1...|\n",
      "|       1|(383,[0,3,4,8,9,1...|\n",
      "|       1|(383,[0,3,4,8,9,1...|\n",
      "|       1|(383,[0,3,4,8,10,...|\n",
      "|       0|(383,[0,1,3,5,8,9...|\n",
      "|       1|(383,[0,1,2,3,5,8...|\n",
      "|       1|(383,[0,1,3,5,8,1...|\n",
      "|       1|(383,[0,2,3,5,8,9...|\n",
      "|       0|(383,[0,1,3,5,8,9...|\n",
      "|       1|(383,[0,1,2,3,5,8...|\n",
      "|       0|(383,[0,3,4,8,9,1...|\n",
      "|       1|(383,[0,2,3,5,8,1...|\n",
      "|       1|(383,[0,3,4,8,11,...|\n",
      "|       0|(383,[0,3,4,8,11,...|\n",
      "|       0|(383,[0,3,4,8,9,1...|\n",
      "|       1|(383,[0,3,4,8,10,...|\n",
      "|       1|(383,[0,3,4,8,11,...|\n",
      "|       1|(383,[0,1,2,3,6,8...|\n",
      "|       1|(383,[0,1,2,3,6,8...|\n",
      "|       0|(383,[0,1,2,3,6,8...|\n",
      "|       0|(383,[0,1,2,3,6,8...|\n",
      "|       1|(383,[0,1,2,3,6,8...|\n",
      "|       1|(383,[0,3,4,8,11,...|\n",
      "|       0|(383,[0,3,4,8,9,1...|\n",
      "|       1|(383,[0,1,3,5,8,9...|\n",
      "|       1|(383,[0,1,2,3,5,8...|\n",
      "|       1|(383,[0,1,2,3,5,8...|\n",
      "|       0|(383,[0,4,8,9,10,...|\n",
      "|       1|(383,[0,1,3,5,8,1...|\n",
      "|       0|(383,[0,3,4,8,9,1...|\n",
      "|       1|(383,[0,3,4,8,11,...|\n",
      "|       1|(383,[0,2,3,5,8,1...|\n",
      "|       1|(383,[0,1,3,5,8,9...|\n",
      "|       1|(383,[0,1,3,5,8,1...|\n",
      "|       1|(383,[0,3,4,8,9,1...|\n",
      "|       1|(383,[0,3,4,8,10,...|\n",
      "|       0|(383,[0,3,4,8,9,1...|\n",
      "|       1|(383,[0,1,3,5,8,9...|\n",
      "|       1|(383,[0,1,3,5,8,1...|\n",
      "|       0|(383,[0,3,4,8,9,1...|\n",
      "|       0|(383,[0,1,3,5,8,9...|\n",
      "|       1|(383,[0,3,4,8,9,1...|\n",
      "|       1|(383,[0,3,4,8,11,...|\n",
      "|       0|(383,[0,3,4,8,9,1...|\n",
      "|       0|(383,[0,3,4,8,9,1...|\n",
      "|       0|(383,[0,3,4,8,9,1...|\n",
      "|       1|(383,[0,2,3,5,8,1...|\n",
      "|       1|(383,[0,2,3,5,8,1...|\n",
      "|       1|(383,[0,1,3,5,8,1...|\n",
      "|       0|(383,[0,1,3,5,8,9...|\n",
      "|       1|(383,[0,1,3,5,8,1...|\n",
      "|       1|(383,[0,3,4,8,9,1...|\n",
      "|       0|(383,[0,3,4,8,9,1...|\n",
      "|       1|(383,[0,1,3,5,8,1...|\n",
      "|       1|(383,[0,3,4,8,10,...|\n",
      "|       0|(383,[0,3,4,8,11,...|\n",
      "|       1|(383,[0,4,8,9,10,...|\n",
      "|       0|(383,[0,3,4,8,9,1...|\n",
      "|       0|(383,[0,1,3,5,8,9...|\n",
      "|       1|(383,[0,1,3,5,8,9...|\n",
      "|       0|(383,[0,3,4,8,9,1...|\n",
      "|       1|(383,[0,3,4,8,10,...|\n",
      "|       1|(383,[0,3,4,8,10,...|\n",
      "|       0|(383,[0,3,4,8,9,1...|\n",
      "|       0|(383,[0,3,4,8,9,1...|\n",
      "|       1|(383,[0,3,4,8,11,...|\n",
      "|       1|(383,[0,3,4,8,10,...|\n",
      "|       0|(383,[0,3,4,8,9,1...|\n",
      "|       1|(383,[0,3,4,8,11,...|\n",
      "|       1|(383,[0,3,4,8,10,...|\n",
      "|       1|(383,[0,3,4,8,9,1...|\n",
      "|       1|(383,[0,1,3,5,8,1...|\n",
      "|       1|(383,[0,3,4,8,11,...|\n",
      "|       0|(383,[0,3,4,8,9,1...|\n",
      "|       1|(383,[0,3,4,8,9,1...|\n",
      "|       1|(383,[0,1,3,5,8,1...|\n",
      "|       0|(383,[0,3,4,8,9,1...|\n",
      "|       1|(383,[0,1,3,5,8,1...|\n",
      "|       1|(383,[0,1,3,5,8,9...|\n",
      "|       0|(383,[0,3,4,8,9,1...|\n",
      "|       0|(383,[0,2,3,5,8,9...|\n",
      "|       1|(383,[0,1,3,5,8,1...|\n",
      "|       1|(383,[0,1,3,5,8,1...|\n",
      "|       0|(383,[0,2,3,5,8,9...|\n",
      "|       1|(383,[0,2,3,5,8,1...|\n",
      "|       0|(383,[0,3,4,8,9,1...|\n",
      "|       1|(383,[0,3,4,8,11,...|\n",
      "|       1|(383,[0,3,4,8,9,1...|\n",
      "|       0|(383,[0,2,3,5,8,9...|\n",
      "|       0|(383,[0,3,4,8,9,1...|\n",
      "|       0|(383,[0,1,3,5,8,9...|\n",
      "|       1|(383,[0,1,3,5,8,1...|\n",
      "|       0|(383,[0,1,3,5,8,9...|\n",
      "|       1|(383,[0,3,4,8,10,...|\n",
      "|       1|(383,[0,3,4,8,9,1...|\n",
      "|       0|(383,[0,3,4,8,9,1...|\n",
      "|       1|(383,[0,2,3,5,8,1...|\n",
      "|       0|(383,[0,4,8,9,10,...|\n",
      "|       1|(383,[0,2,3,5,8,1...|\n",
      "|       0|(383,[0,3,4,8,9,1...|\n",
      "|       1|(383,[0,3,4,8,9,1...|\n",
      "|       0|(383,[0,3,4,8,9,1...|\n",
      "|       1|(383,[0,3,4,8,11,...|\n",
      "|       0|(383,[0,3,4,8,9,1...|\n",
      "|       1|(383,[0,3,4,8,10,...|\n",
      "|       1|(383,[0,1,3,5,8,1...|\n",
      "|       1|(383,[0,1,2,3,6,8...|\n",
      "|       1|(383,[0,1,2,3,6,8...|\n",
      "|       1|(383,[0,1,2,3,6,8...|\n",
      "|       0|(383,[0,1,2,3,6,8...|\n",
      "|       1|(383,[0,1,2,3,6,8...|\n",
      "|       1|(383,[0,3,4,8,11,...|\n",
      "|       1|(383,[0,3,4,8,9,1...|\n",
      "|       1|(383,[0,1,3,5,8,1...|\n",
      "|       1|(383,[0,3,4,8,11,...|\n",
      "|       1|(383,[0,3,4,8,9,1...|\n",
      "|       1|(383,[0,3,4,8,10,...|\n",
      "|       1|(383,[0,3,4,8,9,1...|\n",
      "|       1|(383,[0,1,3,5,8,1...|\n",
      "|       1|(383,[0,3,4,8,9,1...|\n",
      "|       0|(383,[0,3,4,8,9,1...|\n",
      "|       0|(383,[0,3,4,8,9,1...|\n",
      "|       0|(383,[0,1,3,5,8,9...|\n",
      "|       0|(383,[0,3,4,8,9,1...|\n",
      "|       1|(383,[0,1,3,5,8,9...|\n",
      "|       1|(383,[0,1,3,5,8,1...|\n",
      "|       1|(383,[0,2,3,5,8,9...|\n",
      "|       1|(383,[0,1,2,3,5,8...|\n",
      "|       1|(383,[0,1,2,3,5,8...|\n",
      "|       0|(383,[0,1,3,5,8,9...|\n",
      "|       1|(383,[0,1,3,5,8,1...|\n",
      "|       1|(383,[0,3,4,8,9,1...|\n",
      "|       1|(383,[0,1,3,5,8,1...|\n",
      "|       0|(383,[0,1,3,5,8,9...|\n",
      "|       0|(383,[0,1,3,5,8,1...|\n",
      "|       0|(383,[0,1,2,3,5,8...|\n",
      "|       1|(383,[0,1,2,3,5,8...|\n",
      "|       1|(383,[0,1,3,5,8,9...|\n",
      "|       1|(383,[0,1,3,5,8,1...|\n",
      "|       0|(383,[0,1,2,3,5,8...|\n",
      "|       1|(383,[0,2,3,5,8,9...|\n",
      "|       1|(383,[0,1,2,3,5,8...|\n",
      "|       1|(383,[0,3,4,8,11,...|\n",
      "|       1|(383,[0,3,4,8,9,1...|\n",
      "|       0|(383,[0,3,4,8,9,1...|\n",
      "|       1|(383,[0,3,4,8,11,...|\n",
      "+--------+--------------------+\n",
      "only showing top 200 rows\n",
      "\n"
     ]
    }
   ],
   "source": [
    "train_data = df.filter(f.col('train') == True).select('survived', 'features')\n",
    "test_data = df.filter(f.col('train') == False).select('survived', 'features')\n",
    "train_data.show(200)"
   ]
  },
  {
   "cell_type": "code",
   "execution_count": 291,
   "metadata": {},
   "outputs": [],
   "source": [
    "from pyspark.ml.classification import LogisticRegression\n",
    "\n",
    "lr = LogisticRegression(labelCol='survived', featuresCol='features')\n",
    "lrm = lr.fit(train_data)"
   ]
  },
  {
   "cell_type": "code",
   "execution_count": 292,
   "metadata": {},
   "outputs": [
    {
     "data": {
      "text/plain": [
       "['__class__',\n",
       " '__del__',\n",
       " '__delattr__',\n",
       " '__dict__',\n",
       " '__dir__',\n",
       " '__doc__',\n",
       " '__eq__',\n",
       " '__format__',\n",
       " '__ge__',\n",
       " '__getattribute__',\n",
       " '__gt__',\n",
       " '__hash__',\n",
       " '__init__',\n",
       " '__init_subclass__',\n",
       " '__le__',\n",
       " '__lt__',\n",
       " '__module__',\n",
       " '__ne__',\n",
       " '__new__',\n",
       " '__reduce__',\n",
       " '__reduce_ex__',\n",
       " '__repr__',\n",
       " '__setattr__',\n",
       " '__sizeof__',\n",
       " '__str__',\n",
       " '__subclasshook__',\n",
       " '__weakref__',\n",
       " '_call_java',\n",
       " '_create_from_java_class',\n",
       " '_java_obj',\n",
       " '_new_java_array',\n",
       " '_new_java_obj',\n",
       " 'accuracy',\n",
       " 'areaUnderROC',\n",
       " 'fMeasureByLabel',\n",
       " 'fMeasureByThreshold',\n",
       " 'falsePositiveRateByLabel',\n",
       " 'featuresCol',\n",
       " 'labelCol',\n",
       " 'labels',\n",
       " 'objectiveHistory',\n",
       " 'pr',\n",
       " 'precisionByLabel',\n",
       " 'precisionByThreshold',\n",
       " 'predictionCol',\n",
       " 'predictions',\n",
       " 'probabilityCol',\n",
       " 'recallByLabel',\n",
       " 'recallByThreshold',\n",
       " 'roc',\n",
       " 'totalIterations',\n",
       " 'truePositiveRateByLabel',\n",
       " 'weightedFMeasure',\n",
       " 'weightedFalsePositiveRate',\n",
       " 'weightedPrecision',\n",
       " 'weightedRecall',\n",
       " 'weightedTruePositiveRate']"
      ]
     },
     "execution_count": 292,
     "metadata": {},
     "output_type": "execute_result"
    }
   ],
   "source": [
    "dir(lrm.summary)"
   ]
  },
  {
   "cell_type": "code",
   "execution_count": 293,
   "metadata": {},
   "outputs": [
    {
     "data": {
      "text/plain": [
       "(0.8871331828442438, 0.9511851273911055)"
      ]
     },
     "execution_count": 293,
     "metadata": {},
     "output_type": "execute_result"
    }
   ],
   "source": [
    "# Metricas de evaluacion (insample)\n",
    "lrm.summary.accuracy, lrm.summary.areaUnderROC"
   ]
  },
  {
   "cell_type": "code",
   "execution_count": 294,
   "metadata": {},
   "outputs": [
    {
     "name": "stdout",
     "output_type": "stream",
     "text": [
      "+--------+--------------------+--------------------+--------------------+----------+\n",
      "|survived|            features|       rawPrediction|         probability|prediction|\n",
      "+--------+--------------------+--------------------+--------------------+----------+\n",
      "|       1|(383,[0,1,3,5,8,1...|[-18.850897098301...|[6.50368365245305...|       1.0|\n",
      "|       1|(383,[0,1,3,5,8,1...|[-3.9969299228548...|[0.01804051615346...|       1.0|\n",
      "|       1|(383,[0,3,4,8,9,1...|[-3.0707025685637...|[0.04433205253147...|       1.0|\n",
      "|       0|(383,[0,3,4,8,9,1...|[0.03474012319249...|[0.50868415742381...|       0.0|\n",
      "|       0|(383,[0,2,3,5,8,9...|[-0.3181998978026...|[0.42111450908398...|       1.0|\n",
      "|       1|(383,[0,3,4,8,11,...|[-3.6869620142149...|[0.02443591170783...|       1.0|\n",
      "|       0|(383,[0,3,4,8,9,1...|[-5.4026747903180...|[0.00448431650195...|       1.0|\n",
      "|       1|(383,[0,1,2,3,5,8...|[-2.0344342851231...|[0.11563468396967...|       1.0|\n",
      "|       1|(383,[0,3,4,8,10,...|[-2.6522321677764...|[0.06585156424743...|       1.0|\n",
      "|       1|(383,[0,3,4,8,10,...|[-2.5044868293611...|[0.07554423458868...|       1.0|\n",
      "|       1|(383,[0,3,4,8,9,1...|[-4.6767948498085...|[0.00922294763720...|       1.0|\n",
      "|       1|(383,[0,3,4,8,11,...|[-7.9092241212636...|[3.67204592204748...|       1.0|\n",
      "|       0|(383,[0,3,4,8,9,1...|[0.12979171466749...|[0.53240245408706...|       0.0|\n",
      "|       1|(383,[0,1,3,5,8,1...|[-6.0012762672747...|[0.00246947722956...|       1.0|\n",
      "|       1|(383,[0,3,4,8,11,...|[-3.0112642489352...|[0.04691957843348...|       1.0|\n",
      "|       1|(383,[0,3,4,8,11,...|[-3.5648680108607...|[0.02752183292084...|       1.0|\n",
      "|       1|(383,[0,2,3,5,8,9...|[-5.6003981779698...|[0.00368277860979...|       1.0|\n",
      "|       0|(383,[0,3,4,8,9,1...|[0.07606737151687...|[0.51900767850589...|       0.0|\n",
      "|       0|(383,[0,3,4,8,9,1...|[12.8393769998326...|[0.99999734583287...|       0.0|\n",
      "|       1|(383,[0,1,2,3,5,8...|[-17.486673639979...|[2.54468553002161...|       1.0|\n",
      "+--------+--------------------+--------------------+--------------------+----------+\n",
      "only showing top 20 rows\n",
      "\n"
     ]
    }
   ],
   "source": [
    "pred_df = lrm.transform(test_data)\n",
    "pred_df.show()"
   ]
  },
  {
   "cell_type": "code",
   "execution_count": 295,
   "metadata": {},
   "outputs": [
    {
     "data": {
      "text/plain": [
       "0.6943967981703839"
      ]
     },
     "execution_count": 295,
     "metadata": {},
     "output_type": "execute_result"
    }
   ],
   "source": [
    "from pyspark.ml.evaluation import BinaryClassificationEvaluator\n",
    "\n",
    "evaluator = BinaryClassificationEvaluator(labelCol='survived')\n",
    "evaluator.evaluate(pred_df)"
   ]
  },
  {
   "cell_type": "markdown",
   "metadata": {},
   "source": [
    "## Ejercicio 7: árboles"
   ]
  },
  {
   "cell_type": "code",
   "execution_count": null,
   "metadata": {},
   "outputs": [],
   "source": [
    "from pyspark.ml.classification import DecisionTreeClassifier\n",
    "\n",
    "dt = DecisionTreeClassifier(labelCol='survived', featuresCol='features')\n",
    "dtm = dt.fit(train_data)"
   ]
  },
  {
   "cell_type": "code",
   "execution_count": null,
   "metadata": {},
   "outputs": [],
   "source": [
    "pred_df = dtm.transform(test_data)\n",
    "pred_df.show()"
   ]
  },
  {
   "cell_type": "code",
   "execution_count": null,
   "metadata": {},
   "outputs": [],
   "source": [
    "evaluator.evaluate(pred_df)"
   ]
  },
  {
   "cell_type": "code",
   "execution_count": null,
   "metadata": {
    "scrolled": true
   },
   "outputs": [],
   "source": [
    "from pyspark.ml.classification import RandomForestClassifier\n",
    "\n",
    "rf = RandomForestClassifier(labelCol='survived', featuresCol='features')\n",
    "rfm = rf.fit(train_data)\n",
    "pred_df = rfm.transform(test_data)\n",
    "pred_df.show()"
   ]
  },
  {
   "cell_type": "code",
   "execution_count": null,
   "metadata": {},
   "outputs": [],
   "source": [
    "evaluator.evaluate(pred_df)"
   ]
  },
  {
   "cell_type": "code",
   "execution_count": null,
   "metadata": {},
   "outputs": [],
   "source": [
    "dir(rfm)"
   ]
  },
  {
   "cell_type": "code",
   "execution_count": null,
   "metadata": {},
   "outputs": [],
   "source": [
    "rfm.featureImportances"
   ]
  },
  {
   "cell_type": "code",
   "execution_count": null,
   "metadata": {},
   "outputs": [],
   "source": [
    "from itertools import chain\n",
    "attrs = sorted(\n",
    "    (attr['idx'], attr['name'])\n",
    "    for attr in (\n",
    "        chain(*pred_df.schema['features'].metadata['ml_attr']['attrs'].values())\n",
    "    )\n",
    ")\n",
    "feat_import = [(name, rfm.featureImportances[idx]) for idx, name in attrs if rfm.featureImportances[idx]]\n",
    "feat_import = pd.DataFrame(feat_import, columns=['feature', 'importance']).sort_values(by='importance', ascending=False)\n",
    "feat_import.head(15)"
   ]
  },
  {
   "cell_type": "code",
   "execution_count": null,
   "metadata": {},
   "outputs": [],
   "source": [
    "ax = feat_import[:20].plot(kind='bar')\n",
    "ax.set_xticklabels(feat_import[:20]['feature'].tolist())"
   ]
  },
  {
   "cell_type": "code",
   "execution_count": 143,
   "metadata": {},
   "outputs": [],
   "source": [
    "spark.stop()"
   ]
  },
  {
   "cell_type": "code",
   "execution_count": null,
   "metadata": {},
   "outputs": [],
   "source": []
  }
 ],
 "metadata": {
  "kernelspec": {
   "display_name": "Python 3",
   "language": "python",
   "name": "python3"
  },
  "language_info": {
   "codemirror_mode": {
    "name": "ipython",
    "version": 3
   },
   "file_extension": ".py",
   "mimetype": "text/x-python",
   "name": "python",
   "nbconvert_exporter": "python",
   "pygments_lexer": "ipython3",
   "version": "3.7.3"
  }
 },
 "nbformat": 4,
 "nbformat_minor": 2
}
